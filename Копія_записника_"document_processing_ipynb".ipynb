{
  "cells": [
    {
      "cell_type": "markdown",
      "metadata": {
        "id": "view-in-github",
        "colab_type": "text"
      },
      "source": [
        "<a href=\"https://colab.research.google.com/github/Ekimkuznetsov/Data_from_JSON/blob/main/%D0%9A%D0%BE%D0%BF%D1%96%D1%8F_%D0%B7%D0%B0%D0%BF%D0%B8%D1%81%D0%BD%D0%B8%D0%BA%D0%B0_%22document_processing_ipynb%22.ipynb\" target=\"_parent\"><img src=\"https://colab.research.google.com/assets/colab-badge.svg\" alt=\"Open In Colab\"/></a>"
      ]
    },
    {
      "cell_type": "code",
      "execution_count": null,
      "metadata": {
        "id": "ijGzTHJJUCPY"
      },
      "outputs": [],
      "source": [
        "# Copyright 2024 Google LLC\n",
        "#\n",
        "# Licensed under the Apache License, Version 2.0 (the \"License\");\n",
        "# you may not use this file except in compliance with the License.\n",
        "# You may obtain a copy of the License at\n",
        "#\n",
        "#     https://www.apache.org/licenses/LICENSE-2.0\n",
        "#\n",
        "# Unless required by applicable law or agreed to in writing, software\n",
        "# distributed under the License is distributed on an \"AS IS\" BASIS,\n",
        "# WITHOUT WARRANTIES OR CONDITIONS OF ANY KIND, either express or implied.\n",
        "# See the License for the specific language governing permissions and\n",
        "# limitations under the License."
      ]
    },
    {
      "cell_type": "markdown",
      "metadata": {
        "id": "VEqbX8OhE8y9"
      },
      "source": [
        "# Document Processing with Gemini\n",
        "\n",
        "<table align=\"left\">\n",
        "  <td style=\"text-align: center\">\n",
        "    <a href=\"https://colab.research.google.com/github/GoogleCloudPlatform/generative-ai/blob/main/gemini/use-cases/document-processing/document_processing.ipynb\">\n",
        "      <img src=\"https://cloud.google.com/ml-engine/images/colab-logo-32px.png\" alt=\"Google Colaboratory logo\"><br> Run in Colab\n",
        "    </a>\n",
        "  </td>\n",
        "  <td style=\"text-align: center\">\n",
        "    <a href=\"https://console.cloud.google.com/vertex-ai/colab/import/https:%2F%2Fraw.githubusercontent.com%2FGoogleCloudPlatform%2Fgenerative-ai%2Fmain%2Fgemini%2Fuse-cases%2Fdocument-processing%2Fdocument_processing.ipynb\">\n",
        "      <img width=\"32px\" src=\"https://lh3.googleusercontent.com/JmcxdQi-qOpctIvWKgPtrzZdJJK-J3sWE1RsfjZNwshCFgE_9fULcNpuXYTilIR2hjwN\" alt=\"Google Cloud Colab Enterprise logo\"><br> Run in Colab Enterprise\n",
        "    </a>\n",
        "  </td>       \n",
        "  <td style=\"text-align: center\">\n",
        "    <a href=\"https://github.com/GoogleCloudPlatform/generative-ai/blob/main/gemini/use-cases/document-processing/document_processing.ipynb\">\n",
        "      <img src=\"https://cloud.google.com/ml-engine/images/github-logo-32px.png\" alt=\"GitHub logo\"><br> View on GitHub\n",
        "    </a>\n",
        "  </td>\n",
        "  <td style=\"text-align: center\">\n",
        "    <a href=\"https://console.cloud.google.com/vertex-ai/workbench/deploy-notebook?download_url=https://raw.githubusercontent.com/GoogleCloudPlatform/generative-ai/main/gemini/use-cases/document-processing/document_processing.ipynb\">\n",
        "      <img src=\"https://lh3.googleusercontent.com/UiNooY4LUgW_oTvpsNhPpQzsstV5W8F7rYgxgGBD85cWJoLmrOzhVs_ksK_vgx40SHs7jCqkTkCk=e14-rj-sc0xffffff-h130-w32\" alt=\"Vertex AI logo\"><br> Open in Vertex AI Workbench\n",
        "    </a>\n",
        "  </td>\n",
        "</table>\n"
      ]
    },
    {
      "cell_type": "markdown",
      "metadata": {
        "id": "C6scsbQe3rX_"
      },
      "source": [
        "| | |\n",
        "|-|-|\n",
        "|Author(s) | [Holt Skinner](https://github.com/holtskinner), [Drew Gillson](https://github.com/drewgillson) |"
      ]
    },
    {
      "cell_type": "markdown",
      "metadata": {
        "id": "CkHPv2myT2cx"
      },
      "source": [
        "## Overview\n",
        "\n",
        "In today's information-driven world, the volume of digital documents generated daily is staggering. From emails and reports to legal contracts and scientific papers, businesses and individuals alike are inundated with vast amounts of textual data. Extracting meaningful insights from these documents efficiently and accurately has become a paramount challenge.\n",
        "\n",
        "Document processing involves a range of tasks, including text extraction, classification, summarization, and translation, among others. Traditional methods often rely on rule-based algorithms or statistical models, which may struggle with the nuances and complexities of natural language.\n",
        "\n",
        "Generative AI offers a promising alternative to understand, generate, and manipulate text using natural language prompting. Gemini on Vertex AI allows these models to be used in a scalable manner through:\n",
        "\n",
        "- [Vertex AI Studio](https://cloud.google.com/generative-ai-studio) in the Cloud Console\n",
        "- [Vertex AI REST API](https://cloud.google.com/vertex-ai/docs/reference/rest)\n",
        "- [Vertex AI SDK for Python](https://cloud.google.com/vertex-ai/docs/python-sdk/use-vertex-ai-python-sdk-ref)\n",
        "- [Other client libraries](https://cloud.google.com/vertex-ai/docs/start/client-libraries)\n",
        "\n",
        "This notebook focuses on using the **Vertex AI SDK for Python** to call the Vertex AI Gemini API with the Gemini 1.5 model.\n",
        "\n",
        "For more information, see the [Generative AI on Vertex AI](https://cloud.google.com/vertex-ai/docs/generative-ai/learn/overview) documentation.\n"
      ]
    },
    {
      "cell_type": "markdown",
      "metadata": {
        "id": "DrkcqHrrwMAo"
      },
      "source": [
        "### Objectives\n",
        "\n",
        "In this tutorial, you will learn how to use the Vertex AI Gemini API with the Vertex AI SDK for Python to process PDF documents with the Gemini 1.5 (`gemini-1.5-pro-preview-0409`) model.\n",
        "\n",
        "You will complete the following tasks:\n",
        "\n",
        "- Install the Vertex AI SDK for Python\n",
        "- Use the Vertex AI Gemini API to interact with Gemini 1.5 (`gemini-1.5-pro-preview-0409`) model:\n",
        "  - Extract structured entities from an unstructured document\n",
        "  - Classify document types\n",
        "  - Combine classification and entity extraction into a single workflow\n",
        "  - Summarize documents\n"
      ]
    },
    {
      "cell_type": "markdown",
      "metadata": {
        "id": "C9nEPojogw-g"
      },
      "source": [
        "### Costs\n",
        "\n",
        "This tutorial uses billable components of Google Cloud:\n",
        "\n",
        "- Vertex AI\n",
        "\n",
        "Learn about [Vertex AI pricing](https://cloud.google.com/vertex-ai/pricing) and use the [Pricing Calculator](https://cloud.google.com/products/calculator/) to generate a cost estimate based on your projected usage.\n"
      ]
    },
    {
      "cell_type": "markdown",
      "metadata": {
        "id": "r11Gu7qNgx1p"
      },
      "source": [
        "## Getting Started\n"
      ]
    },
    {
      "cell_type": "markdown",
      "metadata": {
        "id": "No17Cw5hgx12"
      },
      "source": [
        "### Install Vertex AI SDK for Python\n"
      ]
    },
    {
      "cell_type": "code",
      "execution_count": null,
      "metadata": {
        "colab": {
          "base_uri": "https://localhost:8080/"
        },
        "id": "tFy3H3aPgx12",
        "outputId": "771df5c0-2cf7-4be3-c890-588446cab0b5"
      },
      "outputs": [
        {
          "name": "stdout",
          "output_type": "stream",
          "text": [
            "\u001b[2K     \u001b[90m━━━━━━━━━━━━━━━━━━━━━━━━━━━━━━━━━━━━━━━━\u001b[0m \u001b[32m125.6/125.6 kB\u001b[0m \u001b[31m2.4 MB/s\u001b[0m eta \u001b[36m0:00:00\u001b[0m\n",
            "\u001b[2K     \u001b[90m━━━━━━━━━━━━━━━━━━━━━━━━━━━━━━━━━━━━━━━━\u001b[0m \u001b[32m139.0/139.0 kB\u001b[0m \u001b[31m4.4 MB/s\u001b[0m eta \u001b[36m0:00:00\u001b[0m\n",
            "\u001b[?25h"
          ]
        }
      ],
      "source": [
        "%pip install --upgrade --user --quiet google-cloud-aiplatform google-cloud-storage"
      ]
    },
    {
      "cell_type": "markdown",
      "metadata": {
        "id": "R5Xep4W9lq-Z"
      },
      "source": [
        "### Restart current runtime\n",
        "\n",
        "To use the newly installed packages in this Jupyter runtime, you must restart the runtime. You can do this by running the cell below, which will restart the current kernel."
      ]
    },
    {
      "cell_type": "code",
      "execution_count": null,
      "metadata": {
        "colab": {
          "base_uri": "https://localhost:8080/"
        },
        "id": "XRvKdaPDTznN",
        "outputId": "d37de8ce-9efc-4045-819d-a664ce9261a5"
      },
      "outputs": [
        {
          "data": {
            "text/plain": [
              "{'status': 'ok', 'restart': True}"
            ]
          },
          "execution_count": 3,
          "metadata": {},
          "output_type": "execute_result"
        }
      ],
      "source": [
        "# Restart kernel after installs so that your environment can access the new packages\n",
        "import IPython\n",
        "\n",
        "app = IPython.Application.instance()\n",
        "app.kernel.do_shutdown(True)"
      ]
    },
    {
      "cell_type": "markdown",
      "metadata": {
        "id": "SbmM4z7FOBpM"
      },
      "source": [
        "<div class=\"alert alert-block alert-warning\">\n",
        "<b>⚠️ The kernel is going to restart. Please wait until it is finished before continuing to the next step. ⚠️</b>\n",
        "</div>\n",
        "\n"
      ]
    },
    {
      "cell_type": "markdown",
      "metadata": {
        "id": "dmWOrTJ3gx13"
      },
      "source": [
        "### Authenticate your notebook environment (Colab only)\n",
        "\n",
        "If you are running this notebook on Google Colab, run the following cell to authenticate your environment. This step is not required if you are using [Vertex AI Workbench](https://cloud.google.com/vertex-ai-workbench).\n"
      ]
    },
    {
      "cell_type": "code",
      "execution_count": 1,
      "metadata": {
        "id": "NyKGtVQjgx13"
      },
      "outputs": [],
      "source": [
        "import sys\n",
        "\n",
        "# Additional authentication is required for Google Colab\n",
        "if \"google.colab\" in sys.modules:\n",
        "    # Authenticate user to Google Cloud\n",
        "    from google.colab import auth\n",
        "\n",
        "    auth.authenticate_user()"
      ]
    },
    {
      "cell_type": "markdown",
      "metadata": {
        "id": "DF4l8DTdWgPY"
      },
      "source": [
        "### Set Google Cloud project information and initialize Vertex AI SDK\n",
        "\n",
        "To get started using Vertex AI, you must have an existing Google Cloud project and [enable the Vertex AI API](https://console.cloud.google.com/flows/enableapi?apiid=aiplatform.googleapis.com).\n",
        "\n",
        "Learn more about [setting up a project and a development environment](https://cloud.google.com/vertex-ai/docs/start/cloud-environment)."
      ]
    },
    {
      "cell_type": "code",
      "execution_count": 2,
      "metadata": {
        "id": "Nqwi-5ufWp_B"
      },
      "outputs": [],
      "source": [
        "# Define project information\n",
        "PROJECT_ID = \"mykhailo-project\"  # @param {type:\"string\"}\n",
        "LOCATION = \"us-central1\"  # @param {type:\"string\"}\n",
        "\n",
        "# Initialize Vertex AI\n",
        "import vertexai\n",
        "\n",
        "vertexai.init(project=PROJECT_ID, location=LOCATION)"
      ]
    },
    {
      "cell_type": "markdown",
      "metadata": {
        "id": "jXHfaVS66_01"
      },
      "source": [
        "### Import libraries\n"
      ]
    },
    {
      "cell_type": "code",
      "execution_count": 3,
      "metadata": {
        "id": "lslYAvw37JGQ"
      },
      "outputs": [],
      "source": [
        "import json\n",
        "\n",
        "from IPython.display import display, display_pdf, IFrame\n",
        "\n",
        "from vertexai.generative_models import (\n",
        "    GenerativeModel,\n",
        "    HarmCategory,\n",
        "    HarmBlockThreshold,\n",
        "    Part,\n",
        ")"
      ]
    },
    {
      "cell_type": "markdown",
      "metadata": {
        "id": "9UrsCnnlc0K8"
      },
      "source": [
        "List objects in the bucket"
      ]
    },
    {
      "cell_type": "code",
      "execution_count": 5,
      "metadata": {
        "colab": {
          "base_uri": "https://localhost:8080/"
        },
        "id": "6qe9s6S0cy5G",
        "outputId": "38858a6c-1ba3-4aec-b213-233d09c6bb5d"
      },
      "outputs": [
        {
          "output_type": "stream",
          "name": "stdout",
          "text": [
            "gs://anton_may_test/1119_001.jpg\n",
            "gs://anton_may_test/1122_001.jpg\n",
            "gs://anton_may_test/132-204_001.jpg\n",
            "gs://anton_may_test/201_001.jpg\n",
            "gs://anton_may_test/203.TIF\n",
            "gs://anton_may_test/203_001.jpg\n",
            "gs://anton_may_test/210_001.jpg\n",
            "gs://anton_may_test/22.TIF\n",
            "gs://anton_may_test/223_001.jpg\n",
            "gs://anton_may_test/234.pdf\n",
            "gs://anton_may_test/260.TIF\n",
            "gs://anton_may_test/6546464.tif\n",
            "gs://anton_may_test/output1_5.pdf\n",
            "gs://anton_may_test/output_1.pdf\n",
            "gs://anton_may_test/output_3.pdf\n",
            "gs://anton_may_test/output_4.pdf\n",
            "gs://anton_may_test/Запрос_204-ОГМет.tif\n",
            "gs://anton_may_test/Запрос_производства_ОГМет-201.pdf\n",
            "gs://anton_may_test/Повдомлення 1.pdf\n",
            "['gs://anton_may_test/1119_001.jpg', 'gs://anton_may_test/1122_001.jpg', 'gs://anton_may_test/132-204_001.jpg', 'gs://anton_may_test/201_001.jpg', 'gs://anton_may_test/203.TIF', 'gs://anton_may_test/203_001.jpg', 'gs://anton_may_test/210_001.jpg', 'gs://anton_may_test/22.TIF', 'gs://anton_may_test/223_001.jpg', 'gs://anton_may_test/234.pdf', 'gs://anton_may_test/260.TIF', 'gs://anton_may_test/6546464.tif', 'gs://anton_may_test/output1_5.pdf', 'gs://anton_may_test/output_1.pdf', 'gs://anton_may_test/output_3.pdf', 'gs://anton_may_test/output_4.pdf', 'gs://anton_may_test/Запрос_204-ОГМет.tif', 'gs://anton_may_test/Запрос_производства_ОГМет-201.pdf', 'gs://anton_may_test/Повдомлення 1.pdf']\n"
          ]
        }
      ],
      "source": [
        "from google.cloud import storage\n",
        "\n",
        "uris = []\n",
        "def list_blobs(bucket_name):\n",
        "    \"\"\"Lists all the blobs in the bucket.\"\"\"\n",
        "\n",
        "\n",
        "    storage_client = storage.Client()\n",
        "\n",
        "    # Note: Client.list_blobs requires at least package version 1.17.0.\n",
        "    blobs = storage_client.list_blobs(bucket_name)\n",
        "\n",
        "    for blob in blobs:\n",
        "        uris.append(f\"gs://{bucket_name}/{blob.name}\")\n",
        "        print(f\"gs://{bucket_name}/{blob.name}\")\n",
        "bucket_name = \"anton_may_test\"\n",
        "list_blobs(bucket_name)\n",
        "\n",
        "print(uris)\n"
      ]
    },
    {
      "cell_type": "markdown",
      "metadata": {
        "id": "FTMywdzUORIA"
      },
      "source": [
        "### Load the Gemini 1.5 model\n",
        "\n",
        "Gemini 1.5 (`gemini-1.5-pro-preview-0409`) is a multimodal model that supports multimodal prompts. You can include text, image(s), and video in your prompt requests and get text or code responses."
      ]
    },
    {
      "cell_type": "code",
      "execution_count": 6,
      "metadata": {
        "id": "lRyTw2iPhEXG"
      },
      "outputs": [],
      "source": [
        "model = GenerativeModel(\"gemini-1.5-pro-preview-0409\")\n",
        "\n",
        "generation_config = {\n",
        "    \"temperature\": 0.0,\n",
        "    \"response_mime_type\": \"application/json\",\n",
        "}\n",
        "safety_settings = {\n",
        "    HarmCategory.HARM_CATEGORY_DANGEROUS_CONTENT: HarmBlockThreshold.BLOCK_ONLY_HIGH\n",
        "}"
      ]
    },
    {
      "cell_type": "markdown",
      "metadata": {
        "id": "lwvfMDEDVyKI"
      },
      "source": [
        "### Define helper functions\n",
        "\n",
        "Define helper functions to load and parse files."
      ]
    },
    {
      "cell_type": "code",
      "execution_count": 13,
      "metadata": {
        "id": "NQS13DI6Pjp6"
      },
      "outputs": [],
      "source": [
        "def get_file_bytes(file_path: str) -> bytes:\n",
        "    with open(file_path, \"rb\") as file:\n",
        "        return file.read()\n",
        "\n",
        "\n",
        "def get_url_from_gcs(gcs_uri: str) -> str:\n",
        "    # converts gcs uri to url for image display.\n",
        "    return \"https://storage.googleapis.com/\" + gcs_uri.replace(\"gs://\", \"\").replace(\n",
        "        \" \", \"%20\"\n",
        "    )\n",
        "\n",
        "\n",
        "def print_multimodal_prompt(contents: list):\n",
        "    \"\"\"\n",
        "    Given contents that would be sent to Gemini,\n",
        "    output the full multimodal prompt for ease of readability.\n",
        "    \"\"\"\n",
        "    for content in contents:\n",
        "        if isinstance(content, Part):\n",
        "            if content.inline_data:\n",
        "                display_pdf(content.inline_data.data)\n",
        "            elif content.file_data:\n",
        "                display(\n",
        "                    IFrame(\n",
        "                        get_url_from_gcs(content.file_data.file_uri),\n",
        "                        width=600,\n",
        "                        height=300,\n",
        "                    )\n",
        "                )\n",
        "        else:\n",
        "            print(content)\n",
        "\n",
        "# Send Google Cloud Storage Document to Google Cloud Storage\n",
        "def process_document(\n",
        "    prompt: str,\n",
        "    file_uri: str,\n",
        "    #mime_type: str = \"application/pdf\",\n",
        "    mime_type: str = \"image/jpeg\",\n",
        "    print_prompt: bool = False,\n",
        "    print_raw_response: bool = False,\n",
        ") -> str:\n",
        "    # Load file directly from Google Cloud Storage\n",
        "    file_part = Part.from_uri(\n",
        "        uri=file_uri,\n",
        "        mime_type=mime_type,\n",
        "    )\n",
        "\n",
        "    # Load contents\n",
        "    contents = [file_part, prompt]\n",
        "\n",
        "    # Send to Gemini\n",
        "    response = model.generate_content(\n",
        "        contents, generation_config=generation_config, safety_settings=safety_settings\n",
        "    )\n",
        "\n",
        "    if print_prompt:\n",
        "        print(\"-------Prompt--------\")\n",
        "        print_multimodal_prompt(contents)\n",
        "\n",
        "    if print_raw_response:\n",
        "        print(\"\\n-------Raw Response--------\")\n",
        "        print(response)\n",
        "\n",
        "    return response.text"
      ]
    },
    {
      "cell_type": "markdown",
      "metadata": {
        "id": "Wy75sLb-yjNn"
      },
      "source": [
        "## Entity Extraction\n",
        "\n",
        "[Named Entity Extraction](https://en.wikipedia.org/wiki/Named-entity_recognition) is a technique of Natural Language Processing to identify specific fields and values from unstructured text. For example, you can find key-value pairs from a filled out form, or get all of the important data from an invoice categorized by the type."
      ]
    },
    {
      "cell_type": "markdown",
      "metadata": {
        "id": "IFpVrJeM3rYO"
      },
      "source": [
        "### Extract entities from an invoice\n",
        "\n",
        "In this example, you will use a sample invoice and get all of the information in JSON format.\n",
        "\n",
        "This is the prompt to be sent to Gemini along with the PDF document. Feel free to edit this for your specific use case."
      ]
    },
    {
      "cell_type": "markdown",
      "metadata": {
        "id": "Uhtahn_jTZKC"
      },
      "source": [
        "## Document Classification\n",
        "\n",
        "Document classification is the process for identifying the type of document. For example, invoice, W-2, receipt, etc.\n",
        "\n",
        "In this example, you will use a sample tax form (W-2) and get the specific type of document from a specified list."
      ]
    },
    {
      "cell_type": "code",
      "execution_count": 9,
      "metadata": {
        "id": "6mfZ7WOZ3rYQ"
      },
      "outputs": [],
      "source": [
        "classification_prompt = \"\"\"You are a document classification assistant. Given a document, your task is to find which category the document belongs to from the list of document categories provided below.\n",
        "\n",
        " Production_request\n",
        " Request_for_material_exchange\n",
        "\n",
        "Which category does the above document belong to? Answer with one of the predefined document categories only. Answer in form \"category:category name\"\n",
        "\"\"\""
      ]
    },
    {
      "cell_type": "markdown",
      "metadata": {
        "id": "Eqoq372j3rYe"
      },
      "source": [
        "You can see that Gemini successfully categorized the document."
      ]
    },
    {
      "cell_type": "markdown",
      "metadata": {
        "id": "eGJVDfHq3rYf"
      },
      "source": [
        "### Chaining Classification and Extraction\n",
        "\n",
        "These techniques can also be chained together to extract any number of document types. For example, if you have multiple types of documents to process, you can send each document to Gemini with a classification prompt, then based on that output, you can write logic to decide which extraction prompt to use."
      ]
    },
    {
      "cell_type": "code",
      "execution_count": 50,
      "metadata": {
        "id": "WdA9ccZn3rYf"
      },
      "outputs": [],
      "source": [
        "generic_document_prompt = \"\"\"You are a document entity extraction specialist. Most important identificator is \"Request_number\" which always presented over the key. Given a document, your task is to extract the text value of the following entities:\n",
        "\n",
        "{}\n",
        "\n",
        "- The JSON schema must be followed during the extraction.\n",
        "- The values must only include text found in the document\n",
        "- Do not normalize any entity value.\n",
        "- If an entity is not found in the document, set the entity value to null.\n",
        "\"\"\"\n",
        "\n",
        "production_request_prompt = generic_document_prompt.format(\n",
        "    \"\"\"\n",
        "{\n",
        "  \"Date\": \"\",\n",
        "  \"Изделие\": \"\",\n",
        "  \"Название_запроса\": \"\",\n",
        "  \"Обозначение_ДСЕ\": \"\",\n",
        "  \"Номер_чертежа\": \"\",\n",
        "  \"Номер_служебной_записки\": \"\",\n",
        "  \"Номер_техн_паспорта\": \"\",\n",
        "  \"Номер_операции\": \"\",\n",
        "  \"Содержание\": \"\",\n",
        "  \"Author\": \"\",\n",
        "  \"Head_of_technical_bureau\": \"\",\n",
        "  \"Head_of_BTK\": \"\",\n",
        "  \"Foreman\": \"\",\n",
        "  \"Date_of_Author_Signature\": \"\",\n",
        "  \"Request_number\": \"\",\n",
        "  \"Расцеховка\": \"\",\n",
        "  \"Master\": \"\",\n",
        "  \"Change_in_EKD\": \"\",\n",
        "  \"Номер_извещения\": \"\",\n",
        "  \"Изменение_массы\": \"\",\n",
        "  \"Решение\": \"\",\n",
        "  \"Наименование\": \"\",\n",
        "  \"Обозначение\": \"\",\n",
        "  \"Количество\": \"\",\n",
        "  \"Изготовлено\": \"\",\n",
        "  \"Срок\": \"\",\n",
        "  \"Изготовить_до\": \"\",\n",
        "  \"Конструктор\": \"\",\n",
        "  \"Начальник_бригады\": \"\",\n",
        "  \"Прочность\": \"\",\n",
        "  \"ТО_ОГТ\": \"\",\n",
        "  \"Ведущий_конструктор\": \"\",\n",
        "  \"Зам_нач_оп\": \"\",\n",
        "  \"615-ПЗ\": \"\"\n",
        "}\n",
        "    \"\"\"\n",
        ")\n",
        "\n",
        "request_for_material_exchange = generic_document_prompt.format(\n",
        "    \"\"\"\n",
        "{\n",
        "  \"Дата\": \"\",\n",
        "  \"Изделие\": \"\",\n",
        "  \"Название_запроса\": \"\",\n",
        "  \"Request_number\": \"\",\n",
        "  \"Расцеховка\": \"\",\n",
        "  \"Номер_служебной_записки_извещения\": \"\",\n",
        "  \"Обозначение_ДСЕ\" : \"\",\n",
        "  \"Прошение_на_замену_материала\": \"\",\n",
        "  \"Решение_на_замену_материала\": \"\",\n",
        "  \"Технолог\": \"\",\n",
        "  \"Начальник_бюро\": \"\"\n",
        "  \"Конструктор\": \"\",\n",
        "  \"Начальник_бригады\": \"\",\n",
        "  \"Нач_бр_проч\": \"\",\n",
        "}\n",
        "    \"\"\"\n",
        ")\n",
        "\n",
        "\n",
        "# Map classification types to extraction prompts\n",
        "classification_to_prompt = {\n",
        "    \"Production_request\": production_request_prompt,\n",
        "    \"Request_for_material_exchange\": request_for_material_exchange\n",
        "}"
      ]
    },
    {
      "cell_type": "code",
      "execution_count": 51,
      "metadata": {
        "colab": {
          "base_uri": "https://localhost:8080/",
          "height": 1000
        },
        "id": "Rbn5E67qhCJh",
        "outputId": "ac0c0dc4-dc1d-4fc7-e6c1-36cd8c8abcc6"
      },
      "outputs": [
        {
          "output_type": "stream",
          "name": "stdout",
          "text": [
            "\n",
            "File: gs://anton_may_test/1119_001.jpg\n",
            "\n",
            "Document Classification: {'category': 'Request_for_material_exchange'}\n",
            "-------Prompt--------\n"
          ]
        },
        {
          "output_type": "display_data",
          "data": {
            "text/plain": [
              "<IPython.lib.display.IFrame at 0x7990475dd5a0>"
            ],
            "text/html": [
              "\n",
              "        <iframe\n",
              "            width=\"600\"\n",
              "            height=\"300\"\n",
              "            src=\"https://storage.googleapis.com/anton_may_test/1119_001.jpg\"\n",
              "            frameborder=\"0\"\n",
              "            allowfullscreen\n",
              "            \n",
              "        ></iframe>\n",
              "        "
            ]
          },
          "metadata": {}
        },
        {
          "output_type": "stream",
          "name": "stdout",
          "text": [
            "You are a document entity extraction specialist. Most important identificator is \"Request_number\" which always presented over the key. Given a document, your task is to extract the text value of the following entities:\n",
            "\n",
            "\n",
            "{\n",
            "  \"Дата\": \"\",\n",
            "  \"Изделие\": \"\",\n",
            "  \"Название_запроса\": \"\",\n",
            "  \"Request_number\": \"\",\n",
            "  \"Расцеховка\": \"\",\n",
            "  \"Номер_служебной_записки_извещения\": \"\",\n",
            "  \"Обозначение_ДСЕ\" : \"\",\n",
            "  \"Прошение_на_замену_материала\": \"\",\n",
            "  \"Решение_на_замену_материала\": \"\",\n",
            "  \"Технолог\": \"\",\n",
            "  \"Начальник_бюро\": \"\"\n",
            "  \"Конструктор\": \"\",\n",
            "  \"Начальник_бригады\": \"\",\n",
            "  \"Нач_бр_проч\": \"\",\n",
            "}\n",
            "    \n",
            "\n",
            "- The JSON schema must be followed during the extraction.\n",
            "- The values must only include text found in the document\n",
            "- Do not normalize any entity value.\n",
            "- If an entity is not found in the document, set the entity value to null.\n",
            "\n",
            "\n",
            "-------Extracted Entities--------\n",
            "{'Дата': '12.08.2015', 'Изделие': '1-132.96', 'Название_запроса': 'ЗАПРОС\\nНА ЗАМЕНУ\\nМАТЕРИАЛА', 'Request_number': 'M-CM/1119', 'Расцеховка': '02,УО', 'Номер_служебной_записки_извещения': '132.96.01.7101.012', 'Обозначение_ДСЕ': 'ДСЕ132.00.0105.100.001', 'Прошение_на_замену_материала': 'Прошу Вашего разрешения произвести\\nзамену материала:\\nПрофиль Д16М 710011 на Д16Т 710011 для дет.\\n132.00.0105.450.001-021', 'Решение_на_замену_материала': 'Разрешается замена профиля Д16м 710011\\nна Д16Т 710011 с выполнением пункта ТТ:\\n\"\\nРазрешается перезакалка. Группа контроля \\nOCT 1 00021-78\".', 'Технолог': 'Ястребова Т.М.', 'Начальник_бюро': 'Мацибора О.Н.', 'Конструктор': 'Липский', 'Начальник_бригады': None, 'Нач_бр_проч': 'Воропаев'}\n",
            "\n",
            "File: gs://anton_may_test/1122_001.jpg\n",
            "\n",
            "Document Classification: {'category': 'Request_for_material_exchange'}\n",
            "-------Prompt--------\n"
          ]
        },
        {
          "output_type": "display_data",
          "data": {
            "text/plain": [
              "<IPython.lib.display.IFrame at 0x7990475dd5a0>"
            ],
            "text/html": [
              "\n",
              "        <iframe\n",
              "            width=\"600\"\n",
              "            height=\"300\"\n",
              "            src=\"https://storage.googleapis.com/anton_may_test/1122_001.jpg\"\n",
              "            frameborder=\"0\"\n",
              "            allowfullscreen\n",
              "            \n",
              "        ></iframe>\n",
              "        "
            ]
          },
          "metadata": {}
        },
        {
          "output_type": "stream",
          "name": "stdout",
          "text": [
            "You are a document entity extraction specialist. Most important identificator is \"Request_number\" which always presented over the key. Given a document, your task is to extract the text value of the following entities:\n",
            "\n",
            "\n",
            "{\n",
            "  \"Дата\": \"\",\n",
            "  \"Изделие\": \"\",\n",
            "  \"Название_запроса\": \"\",\n",
            "  \"Request_number\": \"\",\n",
            "  \"Расцеховка\": \"\",\n",
            "  \"Номер_служебной_записки_извещения\": \"\",\n",
            "  \"Обозначение_ДСЕ\" : \"\",\n",
            "  \"Прошение_на_замену_материала\": \"\",\n",
            "  \"Решение_на_замену_материала\": \"\",\n",
            "  \"Технолог\": \"\",\n",
            "  \"Начальник_бюро\": \"\"\n",
            "  \"Конструктор\": \"\",\n",
            "  \"Начальник_бригады\": \"\",\n",
            "  \"Нач_бр_проч\": \"\",\n",
            "}\n",
            "    \n",
            "\n",
            "- The JSON schema must be followed during the extraction.\n",
            "- The values must only include text found in the document\n",
            "- Do not normalize any entity value.\n",
            "- If an entity is not found in the document, set the entity value to null.\n",
            "\n",
            "\n",
            "-------Extracted Entities--------\n",
            "{'Дата': '18.08.15', 'Изделие': '132\\n1-132.96', 'Название_запроса': 'ЗАПРОС\\nНА ЗАМЕНУ\\nМАТЕРИАЛА', 'Request_number': 'M-CM/1122', 'Расцеховка': None, 'Номер_служебной_записки_извещения': '132.96.01.7101.006', 'Обозначение_ДСЕ': 'ДСЕ132.00.0101.000.000', 'Прошение_на_замену_материала': 'Прошу Вашего разрешения произвести\\nзамену материала:\\n1. 132.00.0101.001.000\\nД16чТ 520205 на Д16Т 520296\\n2.\\n.002;003\\nД16чТ 420947 на Д16Т 420952\\n3.\\n.000.097;098\\nД16Т 510082 на Д16Т 410154\\n4.\\n.004.001;002\\nД16чТ 420116 на Д16Т 420377', 'Решение_на_замену_материала': 'На самолет-демонстратор Ан132\\nразрешается замена материала\\nСортамент профилей, указанных в\\nп. 1, 2, 3, 4 запроса, с Боработкой до\\nчертежных размеров.', 'Технолог': 'Толстых В.И.', 'Начальник_бюро': 'Мацибора О.Н.', 'Конструктор': 'Юрчак Н.Н.', 'Начальник_бригады': 'Довгань Г.К.', 'Нач_бр_проч': 'Полиник'}\n",
            "\n",
            "File: gs://anton_may_test/132-204_001.jpg\n",
            "\n",
            "Document Classification: {'category': 'Request_for_material_exchange'}\n",
            "-------Prompt--------\n"
          ]
        },
        {
          "output_type": "display_data",
          "data": {
            "text/plain": [
              "<IPython.lib.display.IFrame at 0x7990475dcdf0>"
            ],
            "text/html": [
              "\n",
              "        <iframe\n",
              "            width=\"600\"\n",
              "            height=\"300\"\n",
              "            src=\"https://storage.googleapis.com/anton_may_test/132-204_001.jpg\"\n",
              "            frameborder=\"0\"\n",
              "            allowfullscreen\n",
              "            \n",
              "        ></iframe>\n",
              "        "
            ]
          },
          "metadata": {}
        },
        {
          "output_type": "stream",
          "name": "stdout",
          "text": [
            "You are a document entity extraction specialist. Most important identificator is \"Request_number\" which always presented over the key. Given a document, your task is to extract the text value of the following entities:\n",
            "\n",
            "\n",
            "{\n",
            "  \"Дата\": \"\",\n",
            "  \"Изделие\": \"\",\n",
            "  \"Название_запроса\": \"\",\n",
            "  \"Request_number\": \"\",\n",
            "  \"Расцеховка\": \"\",\n",
            "  \"Номер_служебной_записки_извещения\": \"\",\n",
            "  \"Обозначение_ДСЕ\" : \"\",\n",
            "  \"Прошение_на_замену_материала\": \"\",\n",
            "  \"Решение_на_замену_материала\": \"\",\n",
            "  \"Технолог\": \"\",\n",
            "  \"Начальник_бюро\": \"\"\n",
            "  \"Конструктор\": \"\",\n",
            "  \"Начальник_бригады\": \"\",\n",
            "  \"Нач_бр_проч\": \"\",\n",
            "}\n",
            "    \n",
            "\n",
            "- The JSON schema must be followed during the extraction.\n",
            "- The values must only include text found in the document\n",
            "- Do not normalize any entity value.\n",
            "- If an entity is not found in the document, set the entity value to null.\n",
            "\n",
            "\n",
            "-------Extracted Entities--------\n",
            "{'Дата': '9.10.2015', 'Изделие': None, 'Название_запроса': 'ЗАПРОС\\nНА ЗАМЕНУ\\nМАТЕРИАЛА', 'Request_number': 'M-CM/204', 'Расцеховка': '01,35,УО', 'Номер_служебной_записки_извещения': '132.96.01.7101.038', 'Обозначение_ДСЕ': 'ДСЕ140.00.0150.200.000', 'Прошение_на_замену_материала': 'Прошу Вашего разрешения произвести\\nзамену материала:\\n1.Плиты Д16Б на плиту Д16Т для деталей\\n140.00.0150.236.003/005/007.\\n2. Пруток Д16Ч на Д16Т для деталей\\n140.00.0150.938.001/003/005.\\n3. Пруток Д16ЧТ на Д16Т для деталей\\n140.00.0150.237.001÷006, 140.00.0150.238.001006\\n4. Лист Д16ЧАТ л.8,0 на лист Д16ЧАТ л.10,0 с\\nдоработкой или на лист Д16АТ л. 8,0', 'Решение_на_замену_материала': '1). Разрешить замену\\nплиты Д16Б на плиту Д16Т.\\n2). Разрешить замену прутка 1164 на Д 16т.\\n3). Разрешить замену\\nпрутка 116 на Д16Т.\\n4). Разрешить замену\\nлиста 1164АТ 1.8.0 на мий\\nД16АТ л.8.0.', 'Технолог': 'Ястребова Т.М.', 'Начальник_бюро': 'Мацибора О.Н.', 'Конструктор': 'Величко', 'Начальник_бригады': 'Довгань', 'Нач_бр_проч': 'Воропаев'}\n",
            "\n",
            "File: gs://anton_may_test/201_001.jpg\n",
            "\n",
            "Document Classification: {'category': 'Request_for_material_exchange'}\n",
            "-------Prompt--------\n"
          ]
        },
        {
          "output_type": "display_data",
          "data": {
            "text/plain": [
              "<IPython.lib.display.IFrame at 0x7990475df6d0>"
            ],
            "text/html": [
              "\n",
              "        <iframe\n",
              "            width=\"600\"\n",
              "            height=\"300\"\n",
              "            src=\"https://storage.googleapis.com/anton_may_test/201_001.jpg\"\n",
              "            frameborder=\"0\"\n",
              "            allowfullscreen\n",
              "            \n",
              "        ></iframe>\n",
              "        "
            ]
          },
          "metadata": {}
        },
        {
          "output_type": "stream",
          "name": "stdout",
          "text": [
            "You are a document entity extraction specialist. Most important identificator is \"Request_number\" which always presented over the key. Given a document, your task is to extract the text value of the following entities:\n",
            "\n",
            "\n",
            "{\n",
            "  \"Дата\": \"\",\n",
            "  \"Изделие\": \"\",\n",
            "  \"Название_запроса\": \"\",\n",
            "  \"Request_number\": \"\",\n",
            "  \"Расцеховка\": \"\",\n",
            "  \"Номер_служебной_записки_извещения\": \"\",\n",
            "  \"Обозначение_ДСЕ\" : \"\",\n",
            "  \"Прошение_на_замену_материала\": \"\",\n",
            "  \"Решение_на_замену_материала\": \"\",\n",
            "  \"Технолог\": \"\",\n",
            "  \"Начальник_бюро\": \"\"\n",
            "  \"Конструктор\": \"\",\n",
            "  \"Начальник_бригады\": \"\",\n",
            "  \"Нач_бр_проч\": \"\",\n",
            "}\n",
            "    \n",
            "\n",
            "- The JSON schema must be followed during the extraction.\n",
            "- The values must only include text found in the document\n",
            "- Do not normalize any entity value.\n",
            "- If an entity is not found in the document, set the entity value to null.\n",
            "\n",
            "\n",
            "-------Extracted Entities--------\n",
            "{'Дата': '1.10.15', 'Изделие': '1-132.96', 'Название_запроса': 'ЗАПРОС\\nНА ЗАМЕНУ\\nМАТЕРИАЛА', 'Request_number': None, 'Расцеховка': '02,УО', 'Номер_служебной_записки_извещения': '132.96.01.7101.019', 'Обозначение_ДСЕ': 'ДСЕ132.00.0903.200.015', 'Прошение_на_замену_материала': 'Прошу Вашего разрешения произвести\\nзамену материала:\\n1. 132.00.0903.200.015/00%\\nД16чТ 520622 на Д16Т 520314', 'Решение_на_замену_материала': 'В дет. 132.00.0903,200,007/015 разрешается произвести\\nзамену, материала\\nс Д 16 чт 520622 на Д16Т520314\\nНа машину 001!', 'Технолог': 'Толстых В.И.', 'Начальник_бюро': 'Мацибора О.Н.', 'Конструктор': 'Нарскин', 'Начальник_бригады': 'Довгань Г.К.', 'Нач_бр_проч': 'Полицик'}\n",
            "\n",
            "File: gs://anton_may_test/203.TIF\n",
            "\n",
            "Document Classification: {'category': 'Production_request'}\n",
            "-------Prompt--------\n"
          ]
        },
        {
          "output_type": "display_data",
          "data": {
            "text/plain": [
              "<IPython.lib.display.IFrame at 0x799044311150>"
            ],
            "text/html": [
              "\n",
              "        <iframe\n",
              "            width=\"600\"\n",
              "            height=\"300\"\n",
              "            src=\"https://storage.googleapis.com/anton_may_test/203.TIF\"\n",
              "            frameborder=\"0\"\n",
              "            allowfullscreen\n",
              "            \n",
              "        ></iframe>\n",
              "        "
            ]
          },
          "metadata": {}
        },
        {
          "output_type": "stream",
          "name": "stdout",
          "text": [
            "You are a document entity extraction specialist. Most important identificator is \"Request_number\" which always presented over the key. Given a document, your task is to extract the text value of the following entities:\n",
            "\n",
            "\n",
            "{\n",
            "  \"Date\": \"\",\n",
            "  \"Изделие\": \"\",\n",
            "  \"Название_запроса\": \"\",\n",
            "  \"Обозначение_ДСЕ\": \"\",\n",
            "  \"Номер_чертежа\": \"\",\n",
            "  \"Номер_служебной_записки\": \"\",\n",
            "  \"Номер_техн_паспорта\": \"\",\n",
            "  \"Номер_операции\": \"\",\n",
            "  \"Содержание\": \"\",\n",
            "  \"Author\": \"\",\n",
            "  \"Head_of_technical_bureau\": \"\",\n",
            "  \"Head_of_BTK\": \"\",\n",
            "  \"Foreman\": \"\",\n",
            "  \"Date_of_Author_Signature\": \"\",\n",
            "  \"Request_No\": \"\",\n",
            "  \"Расцеховка\": \"\",\n",
            "  \"Master\": \"\",\n",
            "  \"Change_in_EKD\": \"\",\n",
            "  \"Номер_извещения\": \"\",\n",
            "  \"Изменение_массы\": \"\",\n",
            "  \"Решение\": \"\",\n",
            "  \"Наименование\": \"\",\n",
            "  \"Обозначение\": \"\",\n",
            "  \"Количество\": \"\",\n",
            "  \"Изготовлено\": \"\",\n",
            "  \"Срок\": \"\",\n",
            "  \"Изготовить_до\": \"\",\n",
            "  \"Конструктор\": \"\",\n",
            "  \"Начальник_бригады\": \"\",\n",
            "  \"Прочность\": \"\",\n",
            "  \"ТО_ОГТ\": \"\",\n",
            "  \"Ведущий_конструктор\": \"\",\n",
            "  \"Зам_нач_оп\": \"\",\n",
            "  \"615-ПЗ\": \"\"\n",
            "}\n",
            "    \n",
            "\n",
            "- The JSON schema must be followed during the extraction.\n",
            "- The values must only include text found in the document\n",
            "- Do not normalize any entity value.\n",
            "- If an entity is not found in the document, set the entity value to null.\n",
            "\n",
            "\n",
            "-------Extracted Entities--------\n",
            "{'Date': '29.9.15', 'Изделие': '1-132.96', 'Название_запроса': 'ЗАПРОС\\nПРОИЗВОДСТВА', 'Обозначение_ДСЕ': '132.00.0630.200.০০০', 'Номер_чертежа': '10А', 'Номер_служебной_записки': '132.96.01.7203.021', 'Номер_техн_паспорта': None, 'Номер_операции': None, 'Содержание': '1. Уточнить стык по низинке шп. 10А черт.\\n32.02.0112.010.000\\n132.00.0630.203.003.  с кронштейном', 'Author': 'Федоров', 'Head_of_technical_bureau': 'Мандров', 'Head_of_BTK': 'Логуцкий', 'Foreman': 'Чернуха', 'Date_of_Author_Signature': '25.03.15', 'Request_No': '132', 'Расцеховка': '03', 'Master': 'мельвир', 'Change_in_EKD': None, 'Номер_извещения': None, 'Изменение_массы': None, 'Решение': '1. Стык по низинке шп. 10 А черт. 32.02.0112.010.000\\n132.00.0630. 203.003 осуществлят\\nс кронштейном согласно прилажению к запросу № К 203\\n(Puc.1)\\n2. Выполнить вковь изготавливаемый стыко-\\nвочный уголок 132.00.0630. 200.007, согласно\\nприложению к запросу № К 203 (puc. 2.)\\n3. Заказать:\\n1) Болт 5-17-Ан. Окс. - ОСТ1 12085-77- 10 шт;\\n2) Болт 5-15- Ан. Окс. - OCT1 12085-77- 8 шт.\\n3) Закл. 4-9-Au. Okc. - OCT 1 34040-79- 10 шт;\\n4) Закл. 4-14-Au. Окс. -OCT1 34040-79- 1 шт;\\n5) закл. 4-18- Ан. Окс. -ОСТ1 34040-79- 1 шт.\\n4. Уголок 410121 Д16Т ОСТ 1 90113-86', 'Наименование': None, 'Обозначение': None, 'Количество': None, 'Изготовлено': None, 'Срок': None, 'Изготовить_до': '615 ПЗ', 'Конструктор': 'В. Шевчук', 'Начальник_бригады': 'Р.В. Костюк', 'Прочность': 'В.В. Марков', 'ТО_ОГТ': 'мать', 'Ведущий_конструктор': 'поченков', 'Зам_нач_оп': None, '615-ПЗ': None}\n",
            "\n",
            "File: gs://anton_may_test/203_001.jpg\n",
            "\n",
            "Document Classification: {'category': 'Request_for_material_exchange'}\n",
            "-------Prompt--------\n"
          ]
        },
        {
          "output_type": "display_data",
          "data": {
            "text/plain": [
              "<IPython.lib.display.IFrame at 0x799044313fa0>"
            ],
            "text/html": [
              "\n",
              "        <iframe\n",
              "            width=\"600\"\n",
              "            height=\"300\"\n",
              "            src=\"https://storage.googleapis.com/anton_may_test/203_001.jpg\"\n",
              "            frameborder=\"0\"\n",
              "            allowfullscreen\n",
              "            \n",
              "        ></iframe>\n",
              "        "
            ]
          },
          "metadata": {}
        },
        {
          "output_type": "stream",
          "name": "stdout",
          "text": [
            "You are a document entity extraction specialist. Most important identificator is \"Request_number\" which always presented over the key. Given a document, your task is to extract the text value of the following entities:\n",
            "\n",
            "\n",
            "{\n",
            "  \"Дата\": \"\",\n",
            "  \"Изделие\": \"\",\n",
            "  \"Название_запроса\": \"\",\n",
            "  \"Request_number\": \"\",\n",
            "  \"Расцеховка\": \"\",\n",
            "  \"Номер_служебной_записки_извещения\": \"\",\n",
            "  \"Обозначение_ДСЕ\" : \"\",\n",
            "  \"Прошение_на_замену_материала\": \"\",\n",
            "  \"Решение_на_замену_материала\": \"\",\n",
            "  \"Технолог\": \"\",\n",
            "  \"Начальник_бюро\": \"\"\n",
            "  \"Конструктор\": \"\",\n",
            "  \"Начальник_бригады\": \"\",\n",
            "  \"Нач_бр_проч\": \"\",\n",
            "}\n",
            "    \n",
            "\n",
            "- The JSON schema must be followed during the extraction.\n",
            "- The values must only include text found in the document\n",
            "- Do not normalize any entity value.\n",
            "- If an entity is not found in the document, set the entity value to null.\n",
            "\n",
            "\n",
            "-------Extracted Entities--------\n",
            "{'Дата': '8.10.15', 'Изделие': '1-132.96', 'Название_запроса': 'ЗАПРОС\\nНА ЗАМЕНУ\\nМАТЕРИАЛА', 'Request_number': 'M-CM/203', 'Расцеховка': '02, УО', 'Номер_служебной_записки_извещения': '132.96.01.7101.019', 'Обозначение_ДСЕ': 'ДСЕ132.00.0903.200.017/018', 'Прошение_на_замену_материала': '1. 1163АТ л. 0,5 на Д16АТ л. 0,5', 'Решение_на_замену_материала': 'Разрешается замена материала в детали 132.00.0903.2000 17/018\\nC 1163 АТ л. 0,5 на До 16 Атл. 0,5', 'Технолог': 'Толстых В.И.', 'Начальник_бюро': 'Мацибор О.Н.', 'Конструктор': 'Марскин', 'Начальник_бригады': None, 'Нач_бр_проч': None}\n",
            "\n",
            "File: gs://anton_may_test/210_001.jpg\n",
            "\n",
            "Document Classification: {'category': 'Request_for_material_exchange'}\n",
            "-------Prompt--------\n"
          ]
        },
        {
          "output_type": "display_data",
          "data": {
            "text/plain": [
              "<IPython.lib.display.IFrame at 0x799044313fa0>"
            ],
            "text/html": [
              "\n",
              "        <iframe\n",
              "            width=\"600\"\n",
              "            height=\"300\"\n",
              "            src=\"https://storage.googleapis.com/anton_may_test/210_001.jpg\"\n",
              "            frameborder=\"0\"\n",
              "            allowfullscreen\n",
              "            \n",
              "        ></iframe>\n",
              "        "
            ]
          },
          "metadata": {}
        },
        {
          "output_type": "stream",
          "name": "stdout",
          "text": [
            "You are a document entity extraction specialist. Most important identificator is \"Request_number\" which always presented over the key. Given a document, your task is to extract the text value of the following entities:\n",
            "\n",
            "\n",
            "{\n",
            "  \"Дата\": \"\",\n",
            "  \"Изделие\": \"\",\n",
            "  \"Название_запроса\": \"\",\n",
            "  \"Request_number\": \"\",\n",
            "  \"Расцеховка\": \"\",\n",
            "  \"Номер_служебной_записки_извещения\": \"\",\n",
            "  \"Обозначение_ДСЕ\" : \"\",\n",
            "  \"Прошение_на_замену_материала\": \"\",\n",
            "  \"Решение_на_замену_материала\": \"\",\n",
            "  \"Технолог\": \"\",\n",
            "  \"Начальник_бюро\": \"\"\n",
            "  \"Конструктор\": \"\",\n",
            "  \"Начальник_бригады\": \"\",\n",
            "  \"Нач_бр_проч\": \"\",\n",
            "}\n",
            "    \n",
            "\n",
            "- The JSON schema must be followed during the extraction.\n",
            "- The values must only include text found in the document\n",
            "- Do not normalize any entity value.\n",
            "- If an entity is not found in the document, set the entity value to null.\n",
            "\n",
            "\n",
            "-------Extracted Entities--------\n",
            "{'Дата': '16.10.15', 'Изделие': '1-132.96', 'Название_запроса': 'ЗАПРОС\\nНА ЗАМЕНУ\\nМАТЕРИАЛА', 'Request_number': 'M-CM/210', 'Расцеховка': '02, УО', 'Номер_служебной_записки_извещения': '132.96.01.1956.027', 'Обозначение_ДСЕ': 'ДСЕ178.00.5603.210.000', 'Прошение_на_замену_материала': '1. 178.00.5603.214.000/215.000\\nАМЦН2 л.0,8 на АМГ2 М л. 0,8', 'Решение_на_замену_материала': 'Разрешается замена материала grup\\nтрафаретов 178,00,5603,215,000 4 178.00, 5603.214.000\\nзаказанных по  C/3 132.00.01.1956,027,  c  AMas H2\\nлист 0,8 sea AM22M  лист 0,8.', 'Технолог': 'Толстых В.И.', 'Начальник_бюро': 'Мацибора О.', 'Конструктор': 'Гродовская', 'Начальник_бригады': 'Кочкин', 'Нач_бр_проч': 'Ивасенко'}\n",
            "\n",
            "File: gs://anton_may_test/22.TIF\n",
            "\n",
            "Document Classification: {'category': 'Production_request'}\n",
            "-------Prompt--------\n"
          ]
        },
        {
          "output_type": "display_data",
          "data": {
            "text/plain": [
              "<IPython.lib.display.IFrame at 0x799044311540>"
            ],
            "text/html": [
              "\n",
              "        <iframe\n",
              "            width=\"600\"\n",
              "            height=\"300\"\n",
              "            src=\"https://storage.googleapis.com/anton_may_test/22.TIF\"\n",
              "            frameborder=\"0\"\n",
              "            allowfullscreen\n",
              "            \n",
              "        ></iframe>\n",
              "        "
            ]
          },
          "metadata": {}
        },
        {
          "output_type": "stream",
          "name": "stdout",
          "text": [
            "You are a document entity extraction specialist. Most important identificator is \"Request_number\" which always presented over the key. Given a document, your task is to extract the text value of the following entities:\n",
            "\n",
            "\n",
            "{\n",
            "  \"Date\": \"\",\n",
            "  \"Изделие\": \"\",\n",
            "  \"Название_запроса\": \"\",\n",
            "  \"Обозначение_ДСЕ\": \"\",\n",
            "  \"Номер_чертежа\": \"\",\n",
            "  \"Номер_служебной_записки\": \"\",\n",
            "  \"Номер_техн_паспорта\": \"\",\n",
            "  \"Номер_операции\": \"\",\n",
            "  \"Содержание\": \"\",\n",
            "  \"Author\": \"\",\n",
            "  \"Head_of_technical_bureau\": \"\",\n",
            "  \"Head_of_BTK\": \"\",\n",
            "  \"Foreman\": \"\",\n",
            "  \"Date_of_Author_Signature\": \"\",\n",
            "  \"Request_No\": \"\",\n",
            "  \"Расцеховка\": \"\",\n",
            "  \"Master\": \"\",\n",
            "  \"Change_in_EKD\": \"\",\n",
            "  \"Номер_извещения\": \"\",\n",
            "  \"Изменение_массы\": \"\",\n",
            "  \"Решение\": \"\",\n",
            "  \"Наименование\": \"\",\n",
            "  \"Обозначение\": \"\",\n",
            "  \"Количество\": \"\",\n",
            "  \"Изготовлено\": \"\",\n",
            "  \"Срок\": \"\",\n",
            "  \"Изготовить_до\": \"\",\n",
            "  \"Конструктор\": \"\",\n",
            "  \"Начальник_бригады\": \"\",\n",
            "  \"Прочность\": \"\",\n",
            "  \"ТО_ОГТ\": \"\",\n",
            "  \"Ведущий_конструктор\": \"\",\n",
            "  \"Зам_нач_оп\": \"\",\n",
            "  \"615-ПЗ\": \"\"\n",
            "}\n",
            "    \n",
            "\n",
            "- The JSON schema must be followed during the extraction.\n",
            "- The values must only include text found in the document\n",
            "- Do not normalize any entity value.\n",
            "- If an entity is not found in the document, set the entity value to null.\n",
            "\n",
            "\n",
            "-------Extracted Entities--------\n",
            "{'Date': '21.04.15', 'Изделие': '132.00.0105.100.001', 'Название_запроса': 'ЗАПРОС\\nПРОИЗВОДСТВА', 'Обозначение_ДСЕ': None, 'Номер_чертежа': '132.00.0105.100.001', 'Номер_служебной_записки': '132.96.01.7101.012', 'Номер_техн_паспорта': None, 'Номер_операции': None, 'Содержание': '1. Для установки антенны\\n10-118-37-18 малы пере-\\nмычки болтов $5 мм\\n( перемычка = 5мм)', 'Author': None, 'Head_of_technical_bureau': None, 'Head_of_BTK': None, 'Foreman': None, 'Date_of_Author_Signature': None, 'Request_No': '201', 'Расцеховка': '4', 'Master': 'Шерь вер', 'Change_in_EKD': 'Требуется', 'Номер_извещения': None, 'Изменение_массы': None, 'Решение': '132.00.0105.500.00 3\\n1. В дет. вместо\\nотверстия 28 мм\\nU\\n0105.500.007\\nвекрывать ф 22 мм, Ra 51,6', 'Наименование': None, 'Обозначение': None, 'Количество': None, 'Изготовлено': None, 'Срок': None, 'Изготовить_до': '615 ПЗ', 'Конструктор': 'Липский', 'Начальник_бригады': 'Довы ылай', 'Прочность': 'Полиник', 'ТО_ОГТ': None, 'Ведущий_конструктор': 'Натальченко', 'Зам_нач_оп': None, '615-ПЗ': None}\n",
            "\n",
            "File: gs://anton_may_test/223_001.jpg\n",
            "\n",
            "Document Classification: {'category': 'Request_for_material_exchange'}\n",
            "-------Prompt--------\n"
          ]
        },
        {
          "output_type": "display_data",
          "data": {
            "text/plain": [
              "<IPython.lib.display.IFrame at 0x7990443108e0>"
            ],
            "text/html": [
              "\n",
              "        <iframe\n",
              "            width=\"600\"\n",
              "            height=\"300\"\n",
              "            src=\"https://storage.googleapis.com/anton_may_test/223_001.jpg\"\n",
              "            frameborder=\"0\"\n",
              "            allowfullscreen\n",
              "            \n",
              "        ></iframe>\n",
              "        "
            ]
          },
          "metadata": {}
        },
        {
          "output_type": "stream",
          "name": "stdout",
          "text": [
            "You are a document entity extraction specialist. Most important identificator is \"Request_number\" which always presented over the key. Given a document, your task is to extract the text value of the following entities:\n",
            "\n",
            "\n",
            "{\n",
            "  \"Дата\": \"\",\n",
            "  \"Изделие\": \"\",\n",
            "  \"Название_запроса\": \"\",\n",
            "  \"Request_number\": \"\",\n",
            "  \"Расцеховка\": \"\",\n",
            "  \"Номер_служебной_записки_извещения\": \"\",\n",
            "  \"Обозначение_ДСЕ\" : \"\",\n",
            "  \"Прошение_на_замену_материала\": \"\",\n",
            "  \"Решение_на_замену_материала\": \"\",\n",
            "  \"Технолог\": \"\",\n",
            "  \"Начальник_бюро\": \"\"\n",
            "  \"Конструктор\": \"\",\n",
            "  \"Начальник_бригады\": \"\",\n",
            "  \"Нач_бр_проч\": \"\",\n",
            "}\n",
            "    \n",
            "\n",
            "- The JSON schema must be followed during the extraction.\n",
            "- The values must only include text found in the document\n",
            "- Do not normalize any entity value.\n",
            "- If an entity is not found in the document, set the entity value to null.\n",
            "\n",
            "\n",
            "-------Extracted Entities--------\n",
            "{'Дата': '17 02-04', 'Изделие': '1-132.96', 'Название_запроса': 'ЗАПРОС\\nНА ЗАМЕНУ\\nМАТЕРИАЛА', 'Request_number': 'M-CM/223', 'Расцеховка': None, 'Номер_служебной_записки_извещения': '132.96.01.1956.024', 'Обозначение_ДСЕ': 'ДСЕ178.00.5602.263.000', 'Прошение_на_замену_материала': 'Сетка БрОФ 6,5-0,401 В ГОСТ 6613-86\\nна сетку полутомпаковую Л80 01Н ГОСТ 6613-86\\nс просроченым сроком гарантийного хранения без\\nизъянов и повреждений.', 'Решение_на_замену_материала': 'На основании инеттрукции 7.1.1.2. 458-94 занена\\nматериала на сетку полутоннаковую 180 014 ГОСТ 6613-86\\nне разрешается. аннулировать 9.12.15\\nЗаменить сетку БрОФ6,5-0,401 В ГОСТ 6613-86 на\\nсетку полутоннаковую 180 ОН ГОСТ 6613-86.\\n9.12.15', 'Технолог': 'Мацибора О.Н.', 'Начальник_бюро': 'Мацибора', 'Конструктор': 'Шиленко', 'Начальник_бригады': 'Кочкин', 'Нач_бр_проч': None}\n",
            "\n",
            "File: gs://anton_may_test/234.pdf\n",
            "\n",
            "\n",
            "File: gs://anton_may_test/260.TIF\n",
            "\n",
            "Document Classification: {'category': 'Production_request'}\n",
            "-------Prompt--------\n"
          ]
        },
        {
          "output_type": "display_data",
          "data": {
            "text/plain": [
              "<IPython.lib.display.IFrame at 0x7990443104f0>"
            ],
            "text/html": [
              "\n",
              "        <iframe\n",
              "            width=\"600\"\n",
              "            height=\"300\"\n",
              "            src=\"https://storage.googleapis.com/anton_may_test/260.TIF\"\n",
              "            frameborder=\"0\"\n",
              "            allowfullscreen\n",
              "            \n",
              "        ></iframe>\n",
              "        "
            ]
          },
          "metadata": {}
        },
        {
          "output_type": "stream",
          "name": "stdout",
          "text": [
            "You are a document entity extraction specialist. Most important identificator is \"Request_number\" which always presented over the key. Given a document, your task is to extract the text value of the following entities:\n",
            "\n",
            "\n",
            "{\n",
            "  \"Date\": \"\",\n",
            "  \"Изделие\": \"\",\n",
            "  \"Название_запроса\": \"\",\n",
            "  \"Обозначение_ДСЕ\": \"\",\n",
            "  \"Номер_чертежа\": \"\",\n",
            "  \"Номер_служебной_записки\": \"\",\n",
            "  \"Номер_техн_паспорта\": \"\",\n",
            "  \"Номер_операции\": \"\",\n",
            "  \"Содержание\": \"\",\n",
            "  \"Author\": \"\",\n",
            "  \"Head_of_technical_bureau\": \"\",\n",
            "  \"Head_of_BTK\": \"\",\n",
            "  \"Foreman\": \"\",\n",
            "  \"Date_of_Author_Signature\": \"\",\n",
            "  \"Request_No\": \"\",\n",
            "  \"Расцеховка\": \"\",\n",
            "  \"Master\": \"\",\n",
            "  \"Change_in_EKD\": \"\",\n",
            "  \"Номер_извещения\": \"\",\n",
            "  \"Изменение_массы\": \"\",\n",
            "  \"Решение\": \"\",\n",
            "  \"Наименование\": \"\",\n",
            "  \"Обозначение\": \"\",\n",
            "  \"Количество\": \"\",\n",
            "  \"Изготовлено\": \"\",\n",
            "  \"Срок\": \"\",\n",
            "  \"Изготовить_до\": \"\",\n",
            "  \"Конструктор\": \"\",\n",
            "  \"Начальник_бригады\": \"\",\n",
            "  \"Прочность\": \"\",\n",
            "  \"ТО_ОГТ\": \"\",\n",
            "  \"Ведущий_конструктор\": \"\",\n",
            "  \"Зам_нач_оп\": \"\",\n",
            "  \"615-ПЗ\": \"\"\n",
            "}\n",
            "    \n",
            "\n",
            "- The JSON schema must be followed during the extraction.\n",
            "- The values must only include text found in the document\n",
            "- Do not normalize any entity value.\n",
            "- If an entity is not found in the document, set the entity value to null.\n",
            "\n",
            "\n",
            "-------Extracted Entities--------\n",
            "{'Date': '24.11.15', 'Изделие': '1-132.96', 'Название_запроса': 'ЗАПРОС\\nПРОИЗВОДСТВА', 'Обозначение_ДСЕ': '132.00.0902.000.000СБ', 'Номер_чертежа': None, 'Номер_служебной_записки': '132.96.01.7101.043', 'Номер_техн_паспорта': None, 'Номер_операции': None, 'Содержание': 'Прошу уточнить позиции деталей, которые\\nустанавливаются на герметике.', 'Author': 'Федоряк\\nМакаров А.И.', 'Head_of_technical_bureau': None, 'Head_of_BTK': 'Латуша\\nИ.В.', 'Foreman': None, 'Date_of_Author_Signature': '24.11.1', 'Request_No': '0-03/260', 'Расцеховка': '03/5', 'Master': 'Алехин', 'Change_in_EKD': 'требуется', 'Номер_извещения': None, 'Изменение_массы': None, 'Решение': 'Заклепки и болты по стенке\\nВсе детали входящие в сборку *0902.000.000\\nустанавливать на герметике УЗОМЭС-5M', 'Наименование': None, 'Обозначение': None, 'Количество': None, 'Изготовлено': None, 'Срок': None, 'Изготовить_до': '615 ПЗ', 'Конструктор': 'Скотовистая', 'Начальник_бригады': 'Довгань', 'Прочность': 'Молорав', 'ТО_ОГТ': None, 'Ведущий_конструктор': 'Натальченко', 'Зам_нач_оп': None, '615-ПЗ': None}\n",
            "\n",
            "File: gs://anton_may_test/6546464.tif\n",
            "\n",
            "Document Classification: {'category': 'Production_request'}\n",
            "-------Prompt--------\n"
          ]
        },
        {
          "output_type": "display_data",
          "data": {
            "text/plain": [
              "<IPython.lib.display.IFrame at 0x799044313310>"
            ],
            "text/html": [
              "\n",
              "        <iframe\n",
              "            width=\"600\"\n",
              "            height=\"300\"\n",
              "            src=\"https://storage.googleapis.com/anton_may_test/6546464.tif\"\n",
              "            frameborder=\"0\"\n",
              "            allowfullscreen\n",
              "            \n",
              "        ></iframe>\n",
              "        "
            ]
          },
          "metadata": {}
        },
        {
          "output_type": "stream",
          "name": "stdout",
          "text": [
            "You are a document entity extraction specialist. Most important identificator is \"Request_number\" which always presented over the key. Given a document, your task is to extract the text value of the following entities:\n",
            "\n",
            "\n",
            "{\n",
            "  \"Date\": \"\",\n",
            "  \"Изделие\": \"\",\n",
            "  \"Название_запроса\": \"\",\n",
            "  \"Обозначение_ДСЕ\": \"\",\n",
            "  \"Номер_чертежа\": \"\",\n",
            "  \"Номер_служебной_записки\": \"\",\n",
            "  \"Номер_техн_паспорта\": \"\",\n",
            "  \"Номер_операции\": \"\",\n",
            "  \"Содержание\": \"\",\n",
            "  \"Author\": \"\",\n",
            "  \"Head_of_technical_bureau\": \"\",\n",
            "  \"Head_of_BTK\": \"\",\n",
            "  \"Foreman\": \"\",\n",
            "  \"Date_of_Author_Signature\": \"\",\n",
            "  \"Request_No\": \"\",\n",
            "  \"Расцеховка\": \"\",\n",
            "  \"Master\": \"\",\n",
            "  \"Change_in_EKD\": \"\",\n",
            "  \"Номер_извещения\": \"\",\n",
            "  \"Изменение_массы\": \"\",\n",
            "  \"Решение\": \"\",\n",
            "  \"Наименование\": \"\",\n",
            "  \"Обозначение\": \"\",\n",
            "  \"Количество\": \"\",\n",
            "  \"Изготовлено\": \"\",\n",
            "  \"Срок\": \"\",\n",
            "  \"Изготовить_до\": \"\",\n",
            "  \"Конструктор\": \"\",\n",
            "  \"Начальник_бригады\": \"\",\n",
            "  \"Прочность\": \"\",\n",
            "  \"ТО_ОГТ\": \"\",\n",
            "  \"Ведущий_конструктор\": \"\",\n",
            "  \"Зам_нач_оп\": \"\",\n",
            "  \"615-ПЗ\": \"\"\n",
            "}\n",
            "    \n",
            "\n",
            "- The JSON schema must be followed during the extraction.\n",
            "- The values must only include text found in the document\n",
            "- Do not normalize any entity value.\n",
            "- If an entity is not found in the document, set the entity value to null.\n",
            "\n",
            "\n",
            "-------Extracted Entities--------\n",
            "{'Date': None, 'Изделие': '132.00.0410.300.093, ....094', 'Название_запроса': 'О-ОГМет/202', 'Обозначение_ДСЕ': '132.00.0410.300.093, ....094', 'Номер_чертежа': None, 'Номер_служебной_записки': '132.96.01.7101.058', 'Номер_техн_паспорта': None, 'Номер_операции': None, 'Содержание': 'C/3 132.96.01.7101.058 предусмотренно\\nизготовление деталей 132.00.0410.300.093\\nИ 132.00.0410.300.094 Из штамповок,\\nштамповая оснастка на производстве\\nотсутствует, разрешение на замену B\\nтексте с/з нет.\\nПрошу Вашего решения.', 'Author': 'Росихин\\nРомашко', 'Head_of_technical_bureau': None, 'Head_of_BTK': None, 'Foreman': None, 'Date_of_Author_Signature': '10.10.15', 'Request_No': None, 'Расцеховка': 'ОГМет - 1, КО-71 - 1\\nц.35-1, ц.01-1', 'Master': None, 'Change_in_EKD': 'He\\nтребуется', 'Номер_извещения': None, 'Изменение_массы': None, 'Решение': 'Детали 132.00.0410.300.093 и 132.00.0410.300.094 разрешается изготавливать из\\nпоковок 1933T3 по ОСТ190073-85, группа контроля 2. Направление волокон вдоль\\nбольшего размера.', 'Наименование': None, 'Обозначение': None, 'Количество': None, 'Изготовлено': None, 'Срок': None, 'Изготовить_до': '615', 'Конструктор': None, 'Начальник_бригады': 'Довгаль', 'Прочность': None, 'ТО_ОГТ': None, 'Ведущий_конструктор': 'Натльченко', 'Зам_нач_оп': None, '615-ПЗ': 'ПЗ'}\n",
            "\n",
            "File: gs://anton_may_test/output1_5.pdf\n",
            "\n",
            "\n",
            "File: gs://anton_may_test/output_1.pdf\n",
            "\n",
            "\n",
            "File: gs://anton_may_test/output_3.pdf\n",
            "\n",
            "\n",
            "File: gs://anton_may_test/output_4.pdf\n",
            "\n",
            "\n",
            "File: gs://anton_may_test/Запрос_204-ОГМет.tif\n",
            "\n",
            "Document Classification: {'category': 'Production_request'}\n",
            "-------Prompt--------\n"
          ]
        },
        {
          "output_type": "display_data",
          "data": {
            "text/plain": [
              "<IPython.lib.display.IFrame at 0x799044310070>"
            ],
            "text/html": [
              "\n",
              "        <iframe\n",
              "            width=\"600\"\n",
              "            height=\"300\"\n",
              "            src=\"https://storage.googleapis.com/anton_may_test/Запрос_204-ОГМет.tif\"\n",
              "            frameborder=\"0\"\n",
              "            allowfullscreen\n",
              "            \n",
              "        ></iframe>\n",
              "        "
            ]
          },
          "metadata": {}
        },
        {
          "output_type": "stream",
          "name": "stdout",
          "text": [
            "You are a document entity extraction specialist. Most important identificator is \"Request_number\" which always presented over the key. Given a document, your task is to extract the text value of the following entities:\n",
            "\n",
            "\n",
            "{\n",
            "  \"Date\": \"\",\n",
            "  \"Изделие\": \"\",\n",
            "  \"Название_запроса\": \"\",\n",
            "  \"Обозначение_ДСЕ\": \"\",\n",
            "  \"Номер_чертежа\": \"\",\n",
            "  \"Номер_служебной_записки\": \"\",\n",
            "  \"Номер_техн_паспорта\": \"\",\n",
            "  \"Номер_операции\": \"\",\n",
            "  \"Содержание\": \"\",\n",
            "  \"Author\": \"\",\n",
            "  \"Head_of_technical_bureau\": \"\",\n",
            "  \"Head_of_BTK\": \"\",\n",
            "  \"Foreman\": \"\",\n",
            "  \"Date_of_Author_Signature\": \"\",\n",
            "  \"Request_No\": \"\",\n",
            "  \"Расцеховка\": \"\",\n",
            "  \"Master\": \"\",\n",
            "  \"Change_in_EKD\": \"\",\n",
            "  \"Номер_извещения\": \"\",\n",
            "  \"Изменение_массы\": \"\",\n",
            "  \"Решение\": \"\",\n",
            "  \"Наименование\": \"\",\n",
            "  \"Обозначение\": \"\",\n",
            "  \"Количество\": \"\",\n",
            "  \"Изготовлено\": \"\",\n",
            "  \"Срок\": \"\",\n",
            "  \"Изготовить_до\": \"\",\n",
            "  \"Конструктор\": \"\",\n",
            "  \"Начальник_бригады\": \"\",\n",
            "  \"Прочность\": \"\",\n",
            "  \"ТО_ОГТ\": \"\",\n",
            "  \"Ведущий_конструктор\": \"\",\n",
            "  \"Зам_нач_оп\": \"\",\n",
            "  \"615-ПЗ\": \"\"\n",
            "}\n",
            "    \n",
            "\n",
            "- The JSON schema must be followed during the extraction.\n",
            "- The values must only include text found in the document\n",
            "- Do not normalize any entity value.\n",
            "- If an entity is not found in the document, set the entity value to null.\n",
            "\n",
            "\n",
            "-------Extracted Entities--------\n",
            "{'Date': '23 10\\n2015', 'Изделие': '132.00.0100-035 007/008', 'Название_запроса': 'ЗАПРОС\\nПРОИЗВОДСТВА', 'Обозначение_ДСЕ': None, 'Номер_чертежа': '132.00.0100-035 007/008', 'Номер_служебной_записки': '136 96.01.7101.057', 'Номер_техн_паспорта': None, 'Номер_операции': None, 'Содержание': 'деталь 136 96017101 057\\n126000100 055.00 т/овкрснитеин\\nизготавливается из метерійừa\\n2164T e термообработкой:\\n\" Kanu mo, pg như kёнтрий\\nОСТ1000-1-78\". Однако, митерит\\n01 Mcm 1 KU-71.1,\\nв работ\\n0106/204\\nДвит ужи\\nтермой райетанним\\nсосто спилм\\nu\\nde\\nтребует дополни\\nтильной\\nПриму\\nВеликио решений.', 'Author': 'Костюк\\nШкрыль', 'Head_of_technical_bureau': None, 'Head_of_BTK': None, 'Foreman': None, 'Date_of_Author_Signature': '24.10.15', 'Request_No': '132', 'Расцеховка': None, 'Master': None, 'Change_in_EKD': 'подлений погашению', 'Номер_извещения': None, 'Изменение_массы': None, 'Решение': 'Детали 132.00.0100.035.007/008 протавливать из\\nД1647 481239. Пункт к тор уложить следующим образом.\\nпротавливать уобразом.\\n«Допускается перезакалка. Групна контроля 50671 00021-78.', 'Наименование': None, 'Обозначение': None, 'Количество': None, 'Изготовлено': None, 'Срок': None, 'Изготовить_до': '615 ПЗ', 'Конструктор': 'Андриевская', 'Начальник_бригады': 'Довань', 'Прочность': 'Пошник', 'ТО_ОГТ': None, 'Ведущий_конструктор': None, 'Зам_нач_оп': None, '615-ПЗ': None}\n",
            "\n",
            "File: gs://anton_may_test/Запрос_производства_ОГМет-201.pdf\n",
            "\n",
            "\n",
            "File: gs://anton_may_test/Повдомлення 1.pdf\n",
            "\n"
          ]
        }
      ],
      "source": [
        "import json\n",
        "import time\n",
        "from collections import deque\n",
        "\n",
        "\n",
        "# Define the rate limit (requests per minute)\n",
        "RATE_LIMIT = 2  # Adjust this to 2 for 2 documents per minute\n",
        "\n",
        "# Initialize a queue to track requests and the timestamp of the last request\n",
        "request_queue = deque(maxlen=RATE_LIMIT)\n",
        "last_request_timestamp = time.time()  # Initialize with current time\n",
        "\n",
        "\n",
        "def send_request_with_rate_limit(prompt, gcs_uri, print_prompt=False):\n",
        "    \"\"\"Sends a request to Gemini with rate limiting, handling potential errors.\n",
        "\n",
        "    Args:\n",
        "        prompt (str): The prompt to send to Gemini.\n",
        "        gcs_uri (str): The URI of the Google Cloud Storage file.\n",
        "        print_prompt (bool, optional): Whether to print the prompt. Defaults to True.\n",
        "\n",
        "    Returns:\n",
        "        str: The response text from Gemini, or None if an error occurs.\n",
        "    \"\"\"\n",
        "    global last_request_timestamp  # Додали цей рядок\n",
        "\n",
        "    # Check if queue is empty (for the first iteration)\n",
        "    if not request_queue:\n",
        "        last_request_timestamp = time.time()  # Update timestamp on first request\n",
        "\n",
        "    # Calculate sleep time (even if 0)\n",
        "    current_time = time.time()\n",
        "    sleep_time = (last_request_timestamp + (60 / RATE_LIMIT)) - current_time\n",
        "    if sleep_time > 0:\n",
        "        time.sleep(sleep_time)\n",
        "    else:\n",
        "        time.sleep(0.01)  # Sleep for a minimal amount to avoid busy waiting\n",
        "\n",
        "    # Update the timestamp for the last request\n",
        "    last_request_timestamp = current_time\n",
        "\n",
        "    # Add the request to the queue and send it\n",
        "    request_queue.append((current_time, prompt, gcs_uri, print_prompt))\n",
        "\n",
        "    # Send request to your process_document function (logic unchanged)\n",
        "    try:\n",
        "        response_text = process_document(prompt, gcs_uri, print_prompt=print_prompt).strip()\n",
        "        return response_text\n",
        "    except Exception as e:  # Catch generic exceptions for process_document\n",
        "        print(f\"Error processing document: {gcs_uri}\")\n",
        "        print(f\"Exception: {e}\")\n",
        "        # Consider logging the error for further analysis and returning a default value\n",
        "        return None\n",
        "\n",
        "\n",
        "\n",
        "\n",
        "gcs_uris = uris\n",
        "total_results = []\n",
        "for gcs_uri in gcs_uris:\n",
        "    print(f\"\\nFile: {gcs_uri}\\n\")\n",
        "\n",
        "    if gcs_uri.endswith(\".jpg\") or gcs_uri.endswith(\".tif\") or gcs_uri.endswith(\".TIF\"):\n",
        "        try:\n",
        "            # Send to Gemini with Classification Prompt with rate limiting\n",
        "            doc_classification = send_request_with_rate_limit(classification_prompt, gcs_uri).strip()\n",
        "            dictionary = json.loads(doc_classification)\n",
        "            print(f\"Document Classification: {dictionary}\")\n",
        "        except Exception as e:  # Catch generic exceptions for classification processing\n",
        "            print(f\"Error processing document {gcs_uri} for classification:\")\n",
        "            print(f\"Exception: {e}\")\n",
        "            continue  # Skip to the next file if an error occurs\n",
        "\n",
        "\n",
        "        # Get Extraction prompt based on Classification\n",
        "        if \"document_category\" in dictionary:\n",
        "            extraction_prompt = classification_to_prompt.get(dictionary['document_category'])\n",
        "        elif \"category\" in dictionary:\n",
        "            extraction_prompt = classification_to_prompt.get(dictionary['category'])\n",
        "        elif \"answer\" in dictionary:\n",
        "            extraction_prompt = classification_to_prompt.get(dictionary['answer'])\n",
        "        else:\n",
        "            print(f\"Document does not belong to a specified classes {gcs_uri}\")\n",
        "            # Download a PDF from Google Cloud Storage\n",
        "            ! gsutil cp {gcs_uri} ./Pdf/\n",
        "\n",
        "        # Створіть унікальне ім'я файлу на основі URI\n",
        "        filename = gcs_uri.split(\"/\")[-1].split(\".\")[0] + \".json\"\n",
        "\n",
        "        # Send to Gemini with Extraction Prompt with rate limiting\n",
        "        try:\n",
        "            extraction_response_text = send_request_with_rate_limit(extraction_prompt, gcs_uri, print_prompt=True).strip()\n",
        "            print(\"\\n-------Extracted Entities--------\")\n",
        "            extracted_text = json.loads(extraction_response_text)\n",
        "            print(extracted_text)\n",
        "        except Exception as e:  # Catch generic exceptions for extraction processing\n",
        "            print(f\"Error processing document {gcs_uri} for extraction:\")\n",
        "            print(f\"Exception: {e}\")\n",
        "            continue  # Skip to the next file if an error occurs\n",
        "\n",
        "        #Save each file separately----------1-----\n",
        "        extracted_text[\"URL\"] = gcs_uri\n",
        "\n",
        "        # Save file to json with the same name\n",
        "        with open (filename, 'w', encoding='utf-8') as outfile:\n",
        "            json.dump(extracted_text, outfile, ensure_ascii=False)\n",
        "\n",
        "        #Save all files in one total.json-----------------2-------------\n",
        "        #total_results.append(extracted_text)\n",
        "\n",
        "# Зберегти всі результати в один файл total.json\n",
        "#with open('total.json', 'w', encoding='utf-8') as outfile:\n",
        "    #json.dump(total_results, outfile, ensure_ascii=False)"
      ]
    },
    {
      "cell_type": "markdown",
      "metadata": {
        "id": "6R6mgsQg1ggH"
      },
      "source": [
        " Об'єднання всіх json у один файл total.json (Зручно для подальшої інтеграції із Bigquery)"
      ]
    },
    {
      "cell_type": "code",
      "execution_count": 52,
      "metadata": {
        "colab": {
          "base_uri": "https://localhost:8080/"
        },
        "id": "VnWC8d0F1fjf",
        "outputId": "971c18eb-7456-4ad5-807c-52c6de90f63f"
      },
      "outputs": [
        {
          "output_type": "stream",
          "name": "stdout",
          "text": [
            "Помилка декодування JSON у файлі ./total.json: Extra data: line 2 column 1 (char 920)\n",
            "Дані об'єднані у форматі JSONL в файл total.json\n"
          ]
        }
      ],
      "source": [
        "import json\n",
        "import os\n",
        "\n",
        "def unite_json_files_to_jsonl(input_folder, output_file):\n",
        "    with open(output_file, 'w', encoding='utf-8') as outfile:\n",
        "        for filename in os.listdir(input_folder):\n",
        "            if filename.endswith('.json'):\n",
        "                file_path = os.path.join(input_folder, filename)\n",
        "                try:\n",
        "                    with open(file_path, 'r', encoding='utf-8') as file:\n",
        "                        data = json.load(file)\n",
        "                        # Кожний об'єкт або елемент з data записуємо у новий рядок\n",
        "                        if isinstance(data, list):\n",
        "                            for item in data:\n",
        "                                outfile.write(json.dumps(item, ensure_ascii=False) + '\\n')\n",
        "                        else:\n",
        "                            outfile.write(json.dumps(data, ensure_ascii=False) + '\\n')\n",
        "                except json.JSONDecodeError as e:\n",
        "                    print(f'Помилка декодування JSON у файлі {file_path}: {e}')\n",
        "                except Exception as e:\n",
        "                    print(f'Інша помилка при обробці файлу {file_path}: {e}')\n",
        "\n",
        "    print(f'Дані об\\'єднані у форматі JSONL в файл {output_file}')\n",
        "\n",
        "# Вкажи шлях до папки з файлами JSON та ім'я вихідного файлу\n",
        "input_folder = '.'\n",
        "output_file = 'total.json'\n",
        "\n",
        "unite_json_files_to_jsonl(input_folder, output_file)"
      ]
    },
    {
      "cell_type": "markdown",
      "metadata": {
        "id": "dtve2ZIJ3rYh"
      },
      "source": [
        "## Document Question Answering\n",
        "\n",
        "Gemini can be used to answer questions about a document.\n",
        "\n",
        "This example answers a question about eligibility for the Family and Medical Leave Act (FMLA)."
      ]
    },
    {
      "cell_type": "code",
      "execution_count": null,
      "metadata": {
        "id": "TZzgay2p3rYi"
      },
      "outputs": [],
      "source": [
        "qa_prompt = \"\"\"Today is December 31, 2023. Arthur started at the company on April 1, 2023, and he works 40 hours a week. Is Arthur eligible for FMLA? Give me the answer first, followed by an explanation.\"\"\""
      ]
    },
    {
      "cell_type": "code",
      "execution_count": null,
      "metadata": {
        "id": "BMH3dVvP3rYi"
      },
      "outputs": [],
      "source": [
        "# Send Q&A Prompt to Gemini\n",
        "response_text = process_document(\n",
        "    qa_prompt,\n",
        "    \"gs://cloud-samples-data/generative-ai/pdf/family and_medical_leave_act.pdf\",\n",
        ")\n",
        "\n",
        "print(f\"Answer: {response_text}\")"
      ]
    },
    {
      "cell_type": "markdown",
      "metadata": {
        "id": "JrkcHsM43rYi"
      },
      "source": [
        "## Document Summarization\n",
        "\n",
        "Gemini can also be used to summarize or paraphrase a document's contents. Your prompt can specify how detailed the summary should be or specific formatting, such as bullet points or paragraphs."
      ]
    },
    {
      "cell_type": "code",
      "execution_count": null,
      "metadata": {
        "id": "VwV6iMN03rYj"
      },
      "outputs": [],
      "source": [
        "summarization_prompt = \"\"\"You are a very professional document summarization specialist. Given a document, your task is to provide a detailed summary of the content of the document.\n",
        "\n",
        "If it includes images, provide descriptions of the images.\n",
        "If it includes tables, extract all elements of the tables.\n",
        "If it includes graphs, explain the findings in the graphs.\n",
        "Do not include any numbers that are not mentioned in the document.\n",
        "\"\"\""
      ]
    },
    {
      "cell_type": "code",
      "execution_count": null,
      "metadata": {
        "id": "KC4Y1nY-3rYj"
      },
      "outputs": [],
      "source": [
        "# Send Summarization Prompt to Gemini\n",
        "response_text = process_document(\n",
        "    summarization_prompt,\n",
        "    \"gs://cloud-samples-data/generative-ai/pdf/fdic_board_meeting.pdf\",\n",
        ")\n",
        "\n",
        "print(f\"Summarization: {response_text}\")"
      ]
    },
    {
      "cell_type": "markdown",
      "metadata": {
        "id": "rKh-mpGZ3rYk"
      },
      "source": [
        "## Table parsing from documents\n",
        "\n",
        "Gemini can parse contents of a table and return it in a structured format, such as HTML or markdown."
      ]
    },
    {
      "cell_type": "code",
      "execution_count": null,
      "metadata": {
        "id": "cXoovTyt3rYk"
      },
      "outputs": [],
      "source": [
        "table_extraction_prompt = \"\"\"What is the html code of the table in this document?\"\"\""
      ]
    },
    {
      "cell_type": "code",
      "execution_count": null,
      "metadata": {
        "id": "MMP_MvSG3rYk"
      },
      "outputs": [],
      "source": [
        "# Send Table Extraction Prompt to Gemini\n",
        "response_text = process_document(\n",
        "    table_extraction_prompt,\n",
        "    \"gs://cloud-samples-data/generative-ai/pdf/salary_table.pdf\",\n",
        ")\n",
        "\n",
        "print(response_text)"
      ]
    },
    {
      "cell_type": "markdown",
      "metadata": {
        "id": "S8LAo2ap3rYk"
      },
      "source": [
        "## Document Translation\n",
        "\n",
        "Gemini can translate documents between languages. This example translates meeting notes from English into French and Spanish."
      ]
    },
    {
      "cell_type": "code",
      "execution_count": null,
      "metadata": {
        "id": "KRU_UbeQ3rYk"
      },
      "outputs": [],
      "source": [
        "translation_prompt = \"\"\"Translate the first paragraph into French and Spanish. Label each paragraph with the target language.\"\"\""
      ]
    },
    {
      "cell_type": "code",
      "execution_count": null,
      "metadata": {
        "id": "zKW9KgPf3rYk"
      },
      "outputs": [],
      "source": [
        "# Send Translation Prompt to Gemini\n",
        "response_text = process_document(\n",
        "    translation_prompt,\n",
        "    \"gs://cloud-samples-data/generative-ai/pdf/fdic_board_meeting.pdf\",\n",
        ")\n",
        "\n",
        "print(response_text)"
      ]
    },
    {
      "cell_type": "markdown",
      "metadata": {
        "id": "u17op97D3rYk"
      },
      "source": [
        "## Document Comparsion\n",
        "\n",
        "Gemini can compare and contrast the contents of multiple documents. This example finds the changes in the IRS Form 1040 between 2013 and 2023.\n",
        "\n",
        "Note: when working with multiple documents, the order can matter and should be specified in your prompt."
      ]
    },
    {
      "cell_type": "code",
      "execution_count": null,
      "metadata": {
        "id": "yXnQMIAB3rYk"
      },
      "outputs": [],
      "source": [
        "comparsion_prompt = \"\"\"The first document is from 2013, the second one from 2023. How did the standard deduction evolve?\"\"\""
      ]
    },
    {
      "cell_type": "code",
      "execution_count": null,
      "metadata": {
        "id": "sgjh36943rYl"
      },
      "outputs": [],
      "source": [
        "# Send Comparsion Prompt to Gemini\n",
        "file_part1 = Part.from_uri(\n",
        "    uri=\"gs://cloud-samples-data/generative-ai/pdf/form_1040_2013.pdf\",\n",
        "    mime_type=\"application/pdf\",\n",
        ")\n",
        "\n",
        "file_part2 = Part.from_uri(\n",
        "    uri=\"gs://cloud-samples-data/generative-ai/pdf/form_1040_2023.pdf\",\n",
        "    mime_type=\"application/pdf\",\n",
        ")\n",
        "\n",
        "# Load contents\n",
        "contents = [file_part1, file_part2, comparsion_prompt]\n",
        "\n",
        "# Send to Gemini\n",
        "response = model.generate_content(\n",
        "    contents, generation_config=generation_config, safety_settings=safety_settings\n",
        ")\n",
        "\n",
        "print(\"-------Prompt--------\")\n",
        "print_multimodal_prompt(contents)\n",
        "\n",
        "print(\"-------Output--------\")\n",
        "print(response.text)"
      ]
    }
  ],
  "metadata": {
    "colab": {
      "provenance": [],
      "include_colab_link": true
    },
    "environment": {
      "kernel": "conda-root-py",
      "name": "workbench-notebooks.m115",
      "type": "gcloud",
      "uri": "gcr.io/deeplearning-platform-release/workbench-notebooks:m115"
    },
    "kernelspec": {
      "display_name": "Python 3",
      "language": "python",
      "name": "python3"
    },
    "language_info": {
      "codemirror_mode": {
        "name": "ipython",
        "version": 3
      },
      "file_extension": ".py",
      "mimetype": "text/x-python",
      "name": "python",
      "nbconvert_exporter": "python",
      "pygments_lexer": "ipython3",
      "version": "3.11.0"
    }
  },
  "nbformat": 4,
  "nbformat_minor": 0
}