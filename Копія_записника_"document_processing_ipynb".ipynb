{
  "cells": [
    {
      "cell_type": "markdown",
      "metadata": {
        "id": "view-in-github",
        "colab_type": "text"
      },
      "source": [
        "<a href=\"https://colab.research.google.com/github/Ekimkuznetsov/Data_from_JSON/blob/main/%D0%9A%D0%BE%D0%BF%D1%96%D1%8F_%D0%B7%D0%B0%D0%BF%D0%B8%D1%81%D0%BD%D0%B8%D0%BA%D0%B0_%22document_processing_ipynb%22.ipynb\" target=\"_parent\"><img src=\"https://colab.research.google.com/assets/colab-badge.svg\" alt=\"Open In Colab\"/></a>"
      ]
    },
    {
      "cell_type": "code",
      "execution_count": null,
      "metadata": {
        "id": "ijGzTHJJUCPY"
      },
      "outputs": [],
      "source": [
        "# Copyright 2024 Google LLC\n",
        "#\n",
        "# Licensed under the Apache License, Version 2.0 (the \"License\");\n",
        "# you may not use this file except in compliance with the License.\n",
        "# You may obtain a copy of the License at\n",
        "#\n",
        "#     https://www.apache.org/licenses/LICENSE-2.0\n",
        "#\n",
        "# Unless required by applicable law or agreed to in writing, software\n",
        "# distributed under the License is distributed on an \"AS IS\" BASIS,\n",
        "# WITHOUT WARRANTIES OR CONDITIONS OF ANY KIND, either express or implied.\n",
        "# See the License for the specific language governing permissions and\n",
        "# limitations under the License."
      ]
    },
    {
      "cell_type": "markdown",
      "metadata": {
        "id": "VEqbX8OhE8y9"
      },
      "source": [
        "# Document Processing with Gemini\n",
        "\n",
        "<table align=\"left\">\n",
        "  <td style=\"text-align: center\">\n",
        "    <a href=\"https://colab.research.google.com/github/GoogleCloudPlatform/generative-ai/blob/main/gemini/use-cases/document-processing/document_processing.ipynb\">\n",
        "      <img src=\"https://cloud.google.com/ml-engine/images/colab-logo-32px.png\" alt=\"Google Colaboratory logo\"><br> Run in Colab\n",
        "    </a>\n",
        "  </td>\n",
        "  <td style=\"text-align: center\">\n",
        "    <a href=\"https://console.cloud.google.com/vertex-ai/colab/import/https:%2F%2Fraw.githubusercontent.com%2FGoogleCloudPlatform%2Fgenerative-ai%2Fmain%2Fgemini%2Fuse-cases%2Fdocument-processing%2Fdocument_processing.ipynb\">\n",
        "      <img width=\"32px\" src=\"https://lh3.googleusercontent.com/JmcxdQi-qOpctIvWKgPtrzZdJJK-J3sWE1RsfjZNwshCFgE_9fULcNpuXYTilIR2hjwN\" alt=\"Google Cloud Colab Enterprise logo\"><br> Run in Colab Enterprise\n",
        "    </a>\n",
        "  </td>       \n",
        "  <td style=\"text-align: center\">\n",
        "    <a href=\"https://github.com/GoogleCloudPlatform/generative-ai/blob/main/gemini/use-cases/document-processing/document_processing.ipynb\">\n",
        "      <img src=\"https://cloud.google.com/ml-engine/images/github-logo-32px.png\" alt=\"GitHub logo\"><br> View on GitHub\n",
        "    </a>\n",
        "  </td>\n",
        "  <td style=\"text-align: center\">\n",
        "    <a href=\"https://console.cloud.google.com/vertex-ai/workbench/deploy-notebook?download_url=https://raw.githubusercontent.com/GoogleCloudPlatform/generative-ai/main/gemini/use-cases/document-processing/document_processing.ipynb\">\n",
        "      <img src=\"https://lh3.googleusercontent.com/UiNooY4LUgW_oTvpsNhPpQzsstV5W8F7rYgxgGBD85cWJoLmrOzhVs_ksK_vgx40SHs7jCqkTkCk=e14-rj-sc0xffffff-h130-w32\" alt=\"Vertex AI logo\"><br> Open in Vertex AI Workbench\n",
        "    </a>\n",
        "  </td>\n",
        "</table>\n"
      ]
    },
    {
      "cell_type": "markdown",
      "metadata": {
        "id": "C6scsbQe3rX_"
      },
      "source": [
        "| | |\n",
        "|-|-|\n",
        "|Author(s) | [Holt Skinner](https://github.com/holtskinner), [Drew Gillson](https://github.com/drewgillson) |"
      ]
    },
    {
      "cell_type": "markdown",
      "metadata": {
        "id": "CkHPv2myT2cx"
      },
      "source": [
        "## Overview\n",
        "\n",
        "In today's information-driven world, the volume of digital documents generated daily is staggering. From emails and reports to legal contracts and scientific papers, businesses and individuals alike are inundated with vast amounts of textual data. Extracting meaningful insights from these documents efficiently and accurately has become a paramount challenge.\n",
        "\n",
        "Document processing involves a range of tasks, including text extraction, classification, summarization, and translation, among others. Traditional methods often rely on rule-based algorithms or statistical models, which may struggle with the nuances and complexities of natural language.\n",
        "\n",
        "Generative AI offers a promising alternative to understand, generate, and manipulate text using natural language prompting. Gemini on Vertex AI allows these models to be used in a scalable manner through:\n",
        "\n",
        "- [Vertex AI Studio](https://cloud.google.com/generative-ai-studio) in the Cloud Console\n",
        "- [Vertex AI REST API](https://cloud.google.com/vertex-ai/docs/reference/rest)\n",
        "- [Vertex AI SDK for Python](https://cloud.google.com/vertex-ai/docs/python-sdk/use-vertex-ai-python-sdk-ref)\n",
        "- [Other client libraries](https://cloud.google.com/vertex-ai/docs/start/client-libraries)\n",
        "\n",
        "This notebook focuses on using the **Vertex AI SDK for Python** to call the Vertex AI Gemini API with the Gemini 1.5 model.\n",
        "\n",
        "For more information, see the [Generative AI on Vertex AI](https://cloud.google.com/vertex-ai/docs/generative-ai/learn/overview) documentation.\n"
      ]
    },
    {
      "cell_type": "markdown",
      "metadata": {
        "id": "DrkcqHrrwMAo"
      },
      "source": [
        "### Objectives\n",
        "\n",
        "In this tutorial, you will learn how to use the Vertex AI Gemini API with the Vertex AI SDK for Python to process PDF documents with the Gemini 1.5 (`gemini-1.5-pro-preview-0409`) model.\n",
        "\n",
        "You will complete the following tasks:\n",
        "\n",
        "- Install the Vertex AI SDK for Python\n",
        "- Use the Vertex AI Gemini API to interact with Gemini 1.5 (`gemini-1.5-pro-preview-0409`) model:\n",
        "  - Extract structured entities from an unstructured document\n",
        "  - Classify document types\n",
        "  - Combine classification and entity extraction into a single workflow\n",
        "  - Summarize documents\n"
      ]
    },
    {
      "cell_type": "markdown",
      "metadata": {
        "id": "C9nEPojogw-g"
      },
      "source": [
        "### Costs\n",
        "\n",
        "This tutorial uses billable components of Google Cloud:\n",
        "\n",
        "- Vertex AI\n",
        "\n",
        "Learn about [Vertex AI pricing](https://cloud.google.com/vertex-ai/pricing) and use the [Pricing Calculator](https://cloud.google.com/products/calculator/) to generate a cost estimate based on your projected usage.\n"
      ]
    },
    {
      "cell_type": "markdown",
      "metadata": {
        "id": "r11Gu7qNgx1p"
      },
      "source": [
        "## Getting Started\n"
      ]
    },
    {
      "cell_type": "markdown",
      "metadata": {
        "id": "No17Cw5hgx12"
      },
      "source": [
        "### Install Vertex AI SDK for Python\n"
      ]
    },
    {
      "cell_type": "code",
      "execution_count": null,
      "metadata": {
        "id": "tFy3H3aPgx12",
        "tags": [],
        "outputId": "771df5c0-2cf7-4be3-c890-588446cab0b5",
        "colab": {
          "base_uri": "https://localhost:8080/"
        }
      },
      "outputs": [
        {
          "output_type": "stream",
          "name": "stdout",
          "text": [
            "\u001b[2K     \u001b[90m━━━━━━━━━━━━━━━━━━━━━━━━━━━━━━━━━━━━━━━━\u001b[0m \u001b[32m125.6/125.6 kB\u001b[0m \u001b[31m2.4 MB/s\u001b[0m eta \u001b[36m0:00:00\u001b[0m\n",
            "\u001b[2K     \u001b[90m━━━━━━━━━━━━━━━━━━━━━━━━━━━━━━━━━━━━━━━━\u001b[0m \u001b[32m139.0/139.0 kB\u001b[0m \u001b[31m4.4 MB/s\u001b[0m eta \u001b[36m0:00:00\u001b[0m\n",
            "\u001b[?25h"
          ]
        }
      ],
      "source": [
        "%pip install --upgrade --user --quiet google-cloud-aiplatform google-cloud-storage"
      ]
    },
    {
      "cell_type": "markdown",
      "metadata": {
        "id": "R5Xep4W9lq-Z"
      },
      "source": [
        "### Restart current runtime\n",
        "\n",
        "To use the newly installed packages in this Jupyter runtime, you must restart the runtime. You can do this by running the cell below, which will restart the current kernel."
      ]
    },
    {
      "cell_type": "code",
      "execution_count": null,
      "metadata": {
        "colab": {
          "base_uri": "https://localhost:8080/"
        },
        "id": "XRvKdaPDTznN",
        "outputId": "d37de8ce-9efc-4045-819d-a664ce9261a5",
        "tags": []
      },
      "outputs": [
        {
          "output_type": "execute_result",
          "data": {
            "text/plain": [
              "{'status': 'ok', 'restart': True}"
            ]
          },
          "metadata": {},
          "execution_count": 3
        }
      ],
      "source": [
        "# Restart kernel after installs so that your environment can access the new packages\n",
        "import IPython\n",
        "\n",
        "app = IPython.Application.instance()\n",
        "app.kernel.do_shutdown(True)"
      ]
    },
    {
      "cell_type": "markdown",
      "metadata": {
        "id": "SbmM4z7FOBpM"
      },
      "source": [
        "<div class=\"alert alert-block alert-warning\">\n",
        "<b>⚠️ The kernel is going to restart. Please wait until it is finished before continuing to the next step. ⚠️</b>\n",
        "</div>\n",
        "\n"
      ]
    },
    {
      "cell_type": "markdown",
      "metadata": {
        "id": "dmWOrTJ3gx13"
      },
      "source": [
        "### Authenticate your notebook environment (Colab only)\n",
        "\n",
        "If you are running this notebook on Google Colab, run the following cell to authenticate your environment. This step is not required if you are using [Vertex AI Workbench](https://cloud.google.com/vertex-ai-workbench).\n"
      ]
    },
    {
      "cell_type": "code",
      "execution_count": null,
      "metadata": {
        "id": "NyKGtVQjgx13",
        "tags": []
      },
      "outputs": [],
      "source": [
        "import sys\n",
        "\n",
        "# Additional authentication is required for Google Colab\n",
        "if \"google.colab\" in sys.modules:\n",
        "    # Authenticate user to Google Cloud\n",
        "    from google.colab import auth\n",
        "\n",
        "    auth.authenticate_user()"
      ]
    },
    {
      "cell_type": "markdown",
      "metadata": {
        "id": "DF4l8DTdWgPY"
      },
      "source": [
        "### Set Google Cloud project information and initialize Vertex AI SDK\n",
        "\n",
        "To get started using Vertex AI, you must have an existing Google Cloud project and [enable the Vertex AI API](https://console.cloud.google.com/flows/enableapi?apiid=aiplatform.googleapis.com).\n",
        "\n",
        "Learn more about [setting up a project and a development environment](https://cloud.google.com/vertex-ai/docs/start/cloud-environment)."
      ]
    },
    {
      "cell_type": "code",
      "execution_count": null,
      "metadata": {
        "id": "Nqwi-5ufWp_B",
        "tags": []
      },
      "outputs": [],
      "source": [
        "# Define project information\n",
        "PROJECT_ID = \"mykhailo-project\"  # @param {type:\"string\"}\n",
        "LOCATION = \"us-central1\"  # @param {type:\"string\"}\n",
        "\n",
        "# Initialize Vertex AI\n",
        "import vertexai\n",
        "\n",
        "vertexai.init(project=PROJECT_ID, location=LOCATION)"
      ]
    },
    {
      "cell_type": "markdown",
      "metadata": {
        "id": "jXHfaVS66_01"
      },
      "source": [
        "### Import libraries\n"
      ]
    },
    {
      "cell_type": "code",
      "execution_count": null,
      "metadata": {
        "id": "lslYAvw37JGQ",
        "tags": []
      },
      "outputs": [],
      "source": [
        "import json\n",
        "\n",
        "from IPython.display import display, display_pdf, IFrame\n",
        "\n",
        "from vertexai.generative_models import (\n",
        "    GenerativeModel,\n",
        "    HarmCategory,\n",
        "    HarmBlockThreshold,\n",
        "    Part,\n",
        ")"
      ]
    },
    {
      "cell_type": "markdown",
      "source": [
        "List objects in the bucket"
      ],
      "metadata": {
        "id": "9UrsCnnlc0K8"
      }
    },
    {
      "cell_type": "code",
      "source": [
        "from google.cloud import storage\n",
        "\n",
        "uris = []\n",
        "def list_blobs(bucket_name):\n",
        "    \"\"\"Lists all the blobs in the bucket.\"\"\"\n",
        "\n",
        "\n",
        "    storage_client = storage.Client()\n",
        "\n",
        "    # Note: Client.list_blobs requires at least package version 1.17.0.\n",
        "    blobs = storage_client.list_blobs(bucket_name)\n",
        "\n",
        "    for blob in blobs:\n",
        "        uris.append(f\"gs://{bucket_name}/{blob.name}\")\n",
        "        print(f\"gs://{bucket_name}/{blob.name}\")\n",
        "bucket_name = \"anton_may\"\n",
        "list_blobs(bucket_name)\n",
        "\n",
        "print(uris)\n"
      ],
      "metadata": {
        "id": "6qe9s6S0cy5G",
        "colab": {
          "base_uri": "https://localhost:8080/"
        },
        "outputId": "bd17d790-3328-40aa-91d7-86ea3265a098"
      },
      "execution_count": null,
      "outputs": [
        {
          "output_type": "stream",
          "name": "stdout",
          "text": [
            "gs://anton_may/Запит виробництва/201.pdf\n",
            "gs://anton_may/Запит виробництва/202.pdf\n",
            "gs://anton_may/Запит виробництва/204.pdf\n",
            "gs://anton_may/Запит виробництва/208.pdf\n",
            "gs://anton_may/Запит виробництва/211.pdf\n",
            "gs://anton_may/Запит виробництва/239.pdf\n",
            "gs://anton_may/Запит виробництва/242.pdf\n",
            "gs://anton_may/Запит виробництва/DOC706.PDF\n",
            "gs://anton_may/Запит виробництва/mr-1 O-443(400)-564.pdf\n",
            "gs://anton_may/Запит виробництва/mr-2 О-[2-178.98]_6015.pdf\n",
            "gs://anton_may/Запит виробництва/output_1.pdf\n",
            "gs://anton_may/Запит виробництва/output_10.pdf\n",
            "gs://anton_may/Запит виробництва/output_11.pdf\n",
            "gs://anton_may/Запит виробництва/output_12.pdf\n",
            "gs://anton_may/Запит виробництва/output_2.pdf\n",
            "gs://anton_may/Запит виробництва/output_3.pdf\n",
            "gs://anton_may/Запит виробництва/output_4.pdf\n",
            "gs://anton_may/Запит виробництва/output_5.pdf\n",
            "gs://anton_may/Запит виробництва/output_6.pdf\n",
            "gs://anton_may/Запит виробництва/output_7.pdf\n",
            "gs://anton_may/Запит виробництва/output_8.pdf\n",
            "gs://anton_may/Запит виробництва/output_9.pdf\n",
            "gs://anton_may/Запит виробництва/Запрос_производства_ОГМет-201.pdf\n",
            "gs://anton_may/Запит виробництва/К_01_207.PDF\n",
            "gs://anton_may/Запит виробництва/О-01-212.PDF\n",
            "gs://anton_may/Запит виробництва/П-01-208.PDF\n",
            "gs://anton_may/Запит виробництва/Т-01-206.PDF\n",
            "['gs://anton_may/Запит виробництва/201.pdf', 'gs://anton_may/Запит виробництва/202.pdf', 'gs://anton_may/Запит виробництва/204.pdf', 'gs://anton_may/Запит виробництва/208.pdf', 'gs://anton_may/Запит виробництва/211.pdf', 'gs://anton_may/Запит виробництва/239.pdf', 'gs://anton_may/Запит виробництва/242.pdf', 'gs://anton_may/Запит виробництва/DOC706.PDF', 'gs://anton_may/Запит виробництва/mr-1 O-443(400)-564.pdf', 'gs://anton_may/Запит виробництва/mr-2 О-[2-178.98]_6015.pdf', 'gs://anton_may/Запит виробництва/output_1.pdf', 'gs://anton_may/Запит виробництва/output_10.pdf', 'gs://anton_may/Запит виробництва/output_11.pdf', 'gs://anton_may/Запит виробництва/output_12.pdf', 'gs://anton_may/Запит виробництва/output_2.pdf', 'gs://anton_may/Запит виробництва/output_3.pdf', 'gs://anton_may/Запит виробництва/output_4.pdf', 'gs://anton_may/Запит виробництва/output_5.pdf', 'gs://anton_may/Запит виробництва/output_6.pdf', 'gs://anton_may/Запит виробництва/output_7.pdf', 'gs://anton_may/Запит виробництва/output_8.pdf', 'gs://anton_may/Запит виробництва/output_9.pdf', 'gs://anton_may/Запит виробництва/Запрос_производства_ОГМет-201.pdf', 'gs://anton_may/Запит виробництва/К_01_207.PDF', 'gs://anton_may/Запит виробництва/О-01-212.PDF', 'gs://anton_may/Запит виробництва/П-01-208.PDF', 'gs://anton_may/Запит виробництва/Т-01-206.PDF']\n"
          ]
        }
      ]
    },
    {
      "cell_type": "markdown",
      "metadata": {
        "id": "FTMywdzUORIA"
      },
      "source": [
        "### Load the Gemini 1.5 model\n",
        "\n",
        "Gemini 1.5 (`gemini-1.5-pro-preview-0409`) is a multimodal model that supports multimodal prompts. You can include text, image(s), and video in your prompt requests and get text or code responses."
      ]
    },
    {
      "cell_type": "code",
      "execution_count": null,
      "metadata": {
        "id": "lRyTw2iPhEXG",
        "tags": []
      },
      "outputs": [],
      "source": [
        "model = GenerativeModel(\"gemini-1.5-pro-preview-0409\")\n",
        "\n",
        "generation_config = {\n",
        "    \"temperature\": 0.0,\n",
        "    \"response_mime_type\": \"application/json\",\n",
        "}\n",
        "safety_settings = {\n",
        "    HarmCategory.HARM_CATEGORY_DANGEROUS_CONTENT: HarmBlockThreshold.BLOCK_ONLY_HIGH\n",
        "}"
      ]
    },
    {
      "cell_type": "markdown",
      "metadata": {
        "id": "lwvfMDEDVyKI"
      },
      "source": [
        "### Define helper functions\n",
        "\n",
        "Define helper functions to load and parse files."
      ]
    },
    {
      "cell_type": "code",
      "execution_count": null,
      "metadata": {
        "id": "NQS13DI6Pjp6",
        "tags": []
      },
      "outputs": [],
      "source": [
        "def get_file_bytes(file_path: str) -> bytes:\n",
        "    with open(file_path, \"rb\") as file:\n",
        "        return file.read()\n",
        "\n",
        "\n",
        "def get_url_from_gcs(gcs_uri: str) -> str:\n",
        "    # converts gcs uri to url for image display.\n",
        "    return \"https://storage.googleapis.com/\" + gcs_uri.replace(\"gs://\", \"\").replace(\n",
        "        \" \", \"%20\"\n",
        "    )\n",
        "\n",
        "\n",
        "def print_multimodal_prompt(contents: list):\n",
        "    \"\"\"\n",
        "    Given contents that would be sent to Gemini,\n",
        "    output the full multimodal prompt for ease of readability.\n",
        "    \"\"\"\n",
        "    for content in contents:\n",
        "        if isinstance(content, Part):\n",
        "            if content.inline_data:\n",
        "                display_pdf(content.inline_data.data)\n",
        "            elif content.file_data:\n",
        "                display(\n",
        "                    IFrame(\n",
        "                        get_url_from_gcs(content.file_data.file_uri),\n",
        "                        width=600,\n",
        "                        height=300,\n",
        "                    )\n",
        "                )\n",
        "        else:\n",
        "            print(content)\n",
        "\n",
        "\n",
        "# Send Google Cloud Storage Document to Google Cloud Storage\n",
        "def process_document(\n",
        "    prompt: str,\n",
        "    file_uri: str,\n",
        "    mime_type: str = \"application/pdf\",\n",
        "    print_prompt: bool = False,\n",
        "    print_raw_response: bool = False,\n",
        ") -> str:\n",
        "    # Load file directly from Google Cloud Storage\n",
        "    file_part = Part.from_uri(\n",
        "        uri=file_uri,\n",
        "        mime_type=mime_type,\n",
        "    )\n",
        "\n",
        "    # Load contents\n",
        "    contents = [file_part, prompt]\n",
        "\n",
        "    # Send to Gemini\n",
        "    response = model.generate_content(\n",
        "        contents, generation_config=generation_config, safety_settings=safety_settings\n",
        "    )\n",
        "\n",
        "    if print_prompt:\n",
        "        print(\"-------Prompt--------\")\n",
        "        print_multimodal_prompt(contents)\n",
        "\n",
        "    if print_raw_response:\n",
        "        print(\"\\n-------Raw Response--------\")\n",
        "        print(response)\n",
        "\n",
        "    return response.text"
      ]
    },
    {
      "cell_type": "markdown",
      "metadata": {
        "id": "Wy75sLb-yjNn"
      },
      "source": [
        "## Entity Extraction\n",
        "\n",
        "[Named Entity Extraction](https://en.wikipedia.org/wiki/Named-entity_recognition) is a technique of Natural Language Processing to identify specific fields and values from unstructured text. For example, you can find key-value pairs from a filled out form, or get all of the important data from an invoice categorized by the type."
      ]
    },
    {
      "cell_type": "markdown",
      "metadata": {
        "id": "IFpVrJeM3rYO"
      },
      "source": [
        "### Extract entities from an invoice\n",
        "\n",
        "In this example, you will use a sample invoice and get all of the information in JSON format.\n",
        "\n",
        "This is the prompt to be sent to Gemini along with the PDF document. Feel free to edit this for your specific use case."
      ]
    },
    {
      "cell_type": "markdown",
      "metadata": {
        "id": "Uhtahn_jTZKC"
      },
      "source": [
        "## Document Classification\n",
        "\n",
        "Document classification is the process for identifying the type of document. For example, invoice, W-2, receipt, etc.\n",
        "\n",
        "In this example, you will use a sample tax form (W-2) and get the specific type of document from a specified list."
      ]
    },
    {
      "cell_type": "code",
      "execution_count": null,
      "metadata": {
        "id": "6mfZ7WOZ3rYQ"
      },
      "outputs": [],
      "source": [
        "classification_prompt = \"\"\"You are a document classification assistant. Given a document, your task is to find which category the document belongs to from the list of document categories provided below.\n",
        "\n",
        " Production request\n",
        " Claimation Act\n",
        " Technical Act (Claim)\n",
        " Technical Act (Information)\n",
        " Notification\n",
        " Claim settlement Certificate\n",
        "\n",
        "\n",
        "Which category does the above document belong to? Answer with one of the predefined document categories only. Answer in form \"category:category name\"\n",
        "\"\"\""
      ]
    },
    {
      "cell_type": "markdown",
      "metadata": {
        "id": "Eqoq372j3rYe"
      },
      "source": [
        "You can see that Gemini successfully categorized the document."
      ]
    },
    {
      "cell_type": "markdown",
      "metadata": {
        "id": "eGJVDfHq3rYf"
      },
      "source": [
        "### Chaining Classification and Extraction\n",
        "\n",
        "These techniques can also be chained together to extract any number of document types. For example, if you have multiple types of documents to process, you can send each document to Gemini with a classification prompt, then based on that output, you can write logic to decide which extraction prompt to use."
      ]
    },
    {
      "cell_type": "code",
      "execution_count": null,
      "metadata": {
        "id": "WdA9ccZn3rYf"
      },
      "outputs": [],
      "source": [
        "generic_document_prompt = \"\"\"You are a document entity extraction specialist. Given a document, your task is to extract the text value of the following entities:\n",
        "\n",
        "{}\n",
        "\n",
        "- The JSON schema must be followed during the extraction.\n",
        "- The values must only include text found in the document\n",
        "- Do not normalize any entity value.\n",
        "- If an entity is not found in the document, set the entity value to null.\n",
        "\"\"\"\n",
        "\n",
        "production_request_prompt = generic_document_prompt.format(\n",
        "    \"\"\"\n",
        "{\n",
        "  \"Date\": \"\",\n",
        "  \"Изделие\": \"\",\n",
        "  \"Название_запроса\": \"\",\n",
        "  \"Номер_запроса\": \"\",\n",
        "  \"Расцеховка\": \"\",\n",
        "  \"Master\": \"\",\n",
        "  \"DSE_Designation\": \"\",\n",
        "  \"Change_in_EKD\": \"\",\n",
        "  \"Номер_чертежа\": \"\",\n",
        "  \"Номер_записки_извещения\": \"\",\n",
        "  \"Content\": \"\",\n",
        "  \"Decision\": \"\",\n",
        "  \"Author\": \"\",\n",
        "  \"Head_of_technical_bureau\": \"\",\n",
        "  \"Head_of_BTK\": \"\",\n",
        "  \"Date_of_Author_Signature\": \"\",\n",
        "  \"Foreman\": \"\",\n",
        "  \"Constructor\": \"\",\n",
        "  \"Team Leader\": \"\",\n",
        "}\n",
        "    \"\"\"\n",
        ")\n",
        "\n",
        "claim_prompt = generic_document_prompt.format(\n",
        "    \"\"\"\n",
        "{\n",
        "  \"copy_number\": \"\",\n",
        "  \"date\": \"\",\n",
        "  \"claim_number\": \"\",\n",
        "  \"recipient_name\": \"\",\n",
        "  \"recipient_address\": \"\",\n",
        "  \"component_name\": \"\",\n",
        "  \"component_number\": \"\",\n",
        "  \"supplier_name\": \"\",\n",
        "  \"acceptance_date\": \"\",\n",
        "  \"warranty_period\": {\n",
        "    \"start_date\": \"\",\n",
        "    \"duration\": \"\"\n",
        "  },\n",
        "  \"warranty_lifetime\": {\n",
        "    \"quantity\": \"\",\n",
        "    \"unit\": \"\"\n",
        "  },\n",
        "  \"defective_component_name\": \"\",\n",
        "  \"defective_component_number\": \"\",\n",
        "  \"defective_component_manufacturer\": \"\",\n",
        "  \"defective_component_production_date\": \"\",\n",
        "  \"defect_discovery_date\": \"\",\n",
        "  \"notice_sent_date\": \"\",\n",
        "  \"notice_number\": \"\",\n",
        "  \"defect_description\": \"\",\n",
        "  \"defect_cause\": \"\",\n",
        "  \"defect_circumstances\": \"\",\n",
        "  \"correction_action\": \"\",\n",
        "  \"correction_date\": \"\",\n",
        "  \"additional_information\": \"\",\n",
        "  \"conclusion\": \"\"\n",
        "}\n",
        "\"\"\"\n",
        ")\n",
        "\n",
        "technical_act_claim = generic_document_prompt.format(\n",
        "    \"\"\"\n",
        "{\n",
        "  \"document_type\": \"\",\n",
        "  \"Document Metadata\": {\n",
        "    \"document_number\": \"\",\n",
        "    \"document_date\": \"\"\n",
        "  }\n",
        "  \"Parties involved\"\n",
        "  \"airline_name\": \"\",\n",
        "  \"airline_city\": \"\",\n",
        "  \"airline_country\": \"\",\n",
        "  \"aircraft_type\": \"\",\n",
        "  \"aircraft_serial_number\": \"\",\n",
        "  \"aircraft_registration_number\": \"\",\n",
        "  \"manufacturer_name\": \"\",\n",
        "  \"manufacturer_date\": \"\",\n",
        "  \"warranty_period\": \"\",\n",
        "  \"warranty_period_start_date\": \"\",\n",
        "  \"defect_description\": \"\",\n",
        "  \"defect_discovery_date\": \"\",\n",
        "  \"repaired_component\": \"\",\n",
        "  \"repaired_component_serial_number\": \"\",\n",
        "  \"repaired_component_replaced_with\": \"\",\n",
        "  \"repaired_component_replacement_source\": \"\",\n",
        "  \"repair_verification_status\": \"\",\n",
        "  \"repair_conformance_status\": \"\",\n",
        "  \"commission_chairman\": \"\",\n",
        "  \"exploitation_group_chief\": \"\",\n",
        "  \"warranty_team_leader\": \"\"\n",
        "}\n",
        "\"\"\"\n",
        ")\n",
        "\n",
        "technical_act_information = generic_document_prompt.format(\n",
        "    \"\"\"\n",
        "{\n",
        "  \"document_type\": \"\",\n",
        "  \"document_number\": \"\",\n",
        "  \"date\": \"\",\n",
        "  \"aircraft_type\": \"\",\n",
        "  \"aircraft_serial_number\": \"\",\n",
        "  \"installed_part_type\": \"\",\n",
        "  \"installed_part_number\": \"\",\n",
        "  \"installed_part_serial_number\": \"\",\n",
        "  \"installed_part_origin\": \"\",\n",
        "  \"replaced_part_type\": \"\",\n",
        "  \"replaced_part_number\": \"\",\n",
        "  \"replaced_part_serial_number\": \"\",\n",
        "  \"system_tested\": \"\",\n",
        "  \"test_result\": \"\",\n",
        "  \"remarks\": \"\",\n",
        "  \"senior_engineer\": \"\",\n",
        "  \"representative\": \"\",\n",
        "  \"company\": \"\",\n",
        "  \"chief_of_technical_department\": \"\"\n",
        "}\n",
        "\"\"\"\n",
        ")\n",
        "\n",
        "notification = generic_document_prompt.format(\n",
        "    \"\"\"\n",
        "{\n",
        "  \"document_type\": \"\",\n",
        "  \"document_number\": \"\",\n",
        "  \"document_date\": \"\",\n",
        "  \"component_name\": \"\",\n",
        "  \"component_works_number\": \"\",\n",
        "  \"received_date\": \"\",\n",
        "  \"received_document_date\": \"\",\n",
        "  \"received_document_number\": \"\",\n",
        "  \"warranty_period\": \"\",\n",
        "  \"warranty_period_start\": \"\",\n",
        "  \"warranty_period_end\": \"\",\n",
        "  \"Warranty Hours\": \"\",\n",
        "  \"Warranty Cycles\": \"\",\n",
        "  \"defect_description\": \"\",\n",
        "  \"defect_component_name\": \"\",\n",
        "  \"defect_component_serial_number\": \"\",\n",
        "  \"defect_resolution_method\": \"\",\n",
        "  \"Additional information\": \"\",\n",
        "  \"recipient_name\": \"\",\n",
        "  \"recipient_position\": \"\",\n",
        "  \"recipient_signature_date\": \"\",\n",
        "  \"guarantier_name\": \"\",\n",
        "  \"guarantier_signature_date\": \"\",\n",
        "  \"importer_name\": \"\",\n",
        "  \"importer_signature_date\": \"\",\n",
        "  \"representative_name\": \"\",\n",
        "  \"representative_signature_date\": \"\"\n",
        "}\n",
        "\"\"\"\n",
        ")\n",
        "\n",
        "claim_settlement_certificate = generic_document_prompt.format(\n",
        "    \"\"\"\n",
        "{\n",
        "  \"document_type\": \"\",\n",
        "  \"document_number\": \"\",\n",
        "  \"date\": \"\",\n",
        "  \"claim_details\": {\n",
        "    \"component\": \"\",\n",
        "    \"claim_number\": \"\",\n",
        "    \"claim_date\": \"\"\n",
        "  },\n",
        "  \"defect_resolution\": {\n",
        "    \"defect_eliminated\": \"\",\n",
        "    \"elimination_method\": \"\",\n",
        "    \"elimination_date\": \"\",\n",
        "    \"elimination_details\": \"\"\n",
        "  },\n",
        "  \"repaired_component\": {\n",
        "    \"replaced_component\": \"\",\n",
        "    \"replaced_component_number\": \"\",\n",
        "    \"replaced_component_release_date\": \"\",\n",
        "    \"original_component\": \"\",\n",
        "    \"original_component_number\": \"\",\n",
        "    \"original_component_release_date\": \"\"\n",
        "  },\n",
        "  \"repair_details\": {\n",
        "    \"repair_completed\": \"\",\n",
        "    \"repair_date\": \"\",\n",
        "    \"repair_method\": \"\",\n",
        "    \"repair_notes\": \"\"\n",
        "  },\n",
        "  \"approval\": {\n",
        "    \"approved_by\": \"\",\n",
        "    \"approval_date\": \"\",\n",
        "    \"approval_title\": \"\"\n",
        "  },\n",
        "  \"signatories\": {\n",
        "    \"chairman_of_commission\": {\n",
        "      \"name\": \"\"\n",
        "    },\n",
        "    \"head_of_operation_group\": {\n",
        "      \"name\": \"\"\n",
        "    },\n",
        "    \"head_of_warranty_team\": {\n",
        "      \"name\": \"\"\n",
        "    }\n",
        "  }\n",
        "}\n",
        "\"\"\"\n",
        ")\n",
        "\n",
        "# Map classification types to extraction prompts\n",
        "classification_to_prompt = {\n",
        "    \"Production request\": production_request_prompt,\n",
        "    \"Claimation Act\": claim_prompt,\n",
        "    \"Technical Act (Claim)\": technical_act_claim,\n",
        "    \"Technical Act (Information)\": technical_act_information,\n",
        "    \"Notification\": notification,\n",
        "    \"Claim settlement Certificate\": claim_settlement_certificate\n",
        "}"
      ]
    },
    {
      "cell_type": "code",
      "source": [
        "import json\n",
        "import time\n",
        "from collections import deque\n",
        "\n",
        "\n",
        "# Define the rate limit (requests per minute)\n",
        "RATE_LIMIT = 2  # Adjust this to 2 for 2 documents per minute\n",
        "\n",
        "# Initialize a queue to track requests and the timestamp of the last request\n",
        "request_queue = deque(maxlen=RATE_LIMIT)\n",
        "last_request_timestamp = time.time()  # Initialize with current time\n",
        "\n",
        "\n",
        "def send_request_with_rate_limit(prompt, gcs_uri, print_prompt=False):\n",
        "    \"\"\"Sends a request to Gemini with rate limiting, handling potential errors.\n",
        "\n",
        "    Args:\n",
        "        prompt (str): The prompt to send to Gemini.\n",
        "        gcs_uri (str): The URI of the Google Cloud Storage file.\n",
        "        print_prompt (bool, optional): Whether to print the prompt. Defaults to True.\n",
        "\n",
        "    Returns:\n",
        "        str: The response text from Gemini, or None if an error occurs.\n",
        "    \"\"\"\n",
        "    global last_request_timestamp  # Додали цей рядок\n",
        "\n",
        "    # Check if queue is empty (for the first iteration)\n",
        "    if not request_queue:\n",
        "        last_request_timestamp = time.time()  # Update timestamp on first request\n",
        "\n",
        "    # Calculate sleep time (even if 0)\n",
        "    current_time = time.time()\n",
        "    sleep_time = (last_request_timestamp + (60 / RATE_LIMIT)) - current_time\n",
        "    if sleep_time > 0:\n",
        "        time.sleep(sleep_time)\n",
        "    else:\n",
        "        time.sleep(0.01)  # Sleep for a minimal amount to avoid busy waiting\n",
        "\n",
        "    # Update the timestamp for the last request\n",
        "    last_request_timestamp = current_time\n",
        "\n",
        "    # Add the request to the queue and send it\n",
        "    request_queue.append((current_time, prompt, gcs_uri, print_prompt))\n",
        "\n",
        "    # Send request to your process_document function (logic unchanged)\n",
        "    try:\n",
        "        response_text = process_document(prompt, gcs_uri, print_prompt=print_prompt).strip()\n",
        "        return response_text\n",
        "    except Exception as e:  # Catch generic exceptions for process_document\n",
        "        print(f\"Error processing document: {gcs_uri}\")\n",
        "        print(f\"Exception: {e}\")\n",
        "        # Consider logging the error for further analysis and returning a default value\n",
        "        return None\n",
        "\n",
        "\n",
        "\n",
        "\n",
        "gcs_uris = uris\n",
        "\n",
        "for gcs_uri in gcs_uris:\n",
        "    print(f\"\\nFile: {gcs_uri}\\n\")\n",
        "\n",
        "    if gcs_uri.endswith(\".pdf\") or gcs_uri.endswith(\".PDF\"):\n",
        "        try:\n",
        "            # Send to Gemini with Classification Prompt with rate limiting\n",
        "            doc_classification = send_request_with_rate_limit(classification_prompt, gcs_uri).strip()\n",
        "            dictionary = json.loads(doc_classification)\n",
        "            print(f\"Document Classification: {dictionary}\")\n",
        "        except Exception as e:  # Catch generic exceptions for classification processing\n",
        "            print(f\"Error processing document {gcs_uri} for classification:\")\n",
        "            print(f\"Exception: {e}\")\n",
        "            continue  # Skip to the next file if an error occurs\n",
        "\n",
        "        # ... (rest of your logic for classification and extraction)\n",
        "\n",
        "        # Get Extraction prompt based on Classification\n",
        "        if \"document_category\" in dictionary:\n",
        "            extraction_prompt = classification_to_prompt.get(dictionary['document_category'])\n",
        "        elif \"category\" in dictionary:\n",
        "            extraction_prompt = classification_to_prompt.get(dictionary['category'])\n",
        "        elif \"answer\" in dictionary:\n",
        "            extraction_prompt = classification_to_prompt.get(dictionary['answer'])\n",
        "        else:\n",
        "            print(f\"Document does not belong to a specified classes {gcs_uri}\")\n",
        "            # Download a PDF from Google Cloud Storage\n",
        "            ! gsutil cp {gcs_uri} ./Pdf/\n",
        "\n",
        "        # Створіть унікальне ім'я файлу на основі URI\n",
        "        filename = gcs_uri.split(\"/\")[-1].split(\".\")[0] + \".json\"\n",
        "\n",
        "        # Send to Gemini with Extraction Prompt with rate limiting\n",
        "        try:\n",
        "            extraction_response_text = send_request_with_rate_limit(extraction_prompt, gcs_uri, print_prompt=True).strip()\n",
        "            print(\"\\n-------Extracted Entities--------\")\n",
        "            extracted_text = json.loads(extraction_response_text)\n",
        "            print(extracted_text)\n",
        "        except Exception as e:  # Catch generic exceptions for extraction processing\n",
        "            print(f\"Error processing document {gcs_uri} for extraction:\")\n",
        "            print(f\"Exception: {e}\")\n",
        "            continue  # Skip to the next file if an error occurs\n",
        "\n",
        "        extracted_text[\"URL\"] = gcs_uri\n",
        "\n",
        "        # Save file to json with the same name\n",
        "        with open (filename, 'w', encoding='utf-8') as outfile:\n",
        "            json.dump(extracted_text, outfile, ensure_ascii=False)\n",
        "\n"
      ],
      "metadata": {
        "colab": {
          "base_uri": "https://localhost:8080/",
          "height": 1000
        },
        "id": "Rbn5E67qhCJh",
        "outputId": "a08c4d45-d4bc-431e-e024-e1b0b3acc54e"
      },
      "execution_count": null,
      "outputs": [
        {
          "output_type": "stream",
          "name": "stdout",
          "text": [
            "\n",
            "File: gs://anton_may/Запит виробництва/201.pdf\n",
            "\n",
            "Document Classification: {'category': 'Production request'}\n",
            "-------Prompt--------\n"
          ]
        },
        {
          "output_type": "display_data",
          "data": {
            "text/plain": [
              "<IPython.lib.display.IFrame at 0x7f18d81927a0>"
            ],
            "text/html": [
              "\n",
              "        <iframe\n",
              "            width=\"600\"\n",
              "            height=\"300\"\n",
              "            src=\"https://storage.googleapis.com/anton_may/Запит%20виробництва/201.pdf\"\n",
              "            frameborder=\"0\"\n",
              "            allowfullscreen\n",
              "            \n",
              "        ></iframe>\n",
              "        "
            ]
          },
          "metadata": {}
        },
        {
          "output_type": "stream",
          "name": "stdout",
          "text": [
            "You are a document entity extraction specialist. Given a document, your task is to extract the text value of the following entities:\n",
            "\n",
            "\n",
            "{\n",
            "  \"Date\": \"\",\n",
            "  \"Изделие\": \"\",\n",
            "  \"Название_запроса\": \"\",\n",
            "  \"Номер_запроса\": \"\",\n",
            "  \"Расцеховка\": \"\",\n",
            "  \"Master\": \"\",\n",
            "  \"DSE_Designation\": \"\",\n",
            "  \"Change_in_EKD\": \"\",\n",
            "  \"Номер_чертежа\": \"\",\n",
            "  \"Номер_записки_извещения\": \"\",\n",
            "  \"Content\": \"\",\n",
            "  \"Decision\": \"\",\n",
            "  \"Author\": \"\",\n",
            "  \"Head_of_technical_bureau\": \"\",\n",
            "  \"Head_of_BTK\": \"\",\n",
            "  \"Date_of_Author_Signature\": \"\",\n",
            "  \"Foreman\": \"\",\n",
            "  \"Constructor\": \"\",\n",
            "  \"Team Leader\": \"\",\n",
            "}\n",
            "    \n",
            "\n",
            "- The JSON schema must be followed during the extraction.\n",
            "- The values must only include text found in the document\n",
            "- Do not normalize any entity value.\n",
            "- If an entity is not found in the document, set the entity value to null.\n",
            "\n",
            "\n",
            "-------Extracted Entities--------\n",
            "{'Date': '4.09.2015', 'Изделие': '1-132.96', 'Название_запроса': 'ЗАПРОС\\nПРОИЗВОДСТВА', 'Номер_запроса': 'K-02/201', 'Расцеховка': 'ОГП 02 - 03', 'Master': 'САхненко', 'DSE_Designation': '132.00.0630.051.000', 'Change_in_EKD': 'Изменение ЭКД', 'Номер_чертежа': None, 'Номер_записки_извещения': '132.96.01.7203.017', 'Content': 'Прошу в модель на лист подкладной\\n132.00.0630.051.000\\nввести требования по хим. Фрезеровке.', 'Decision': 'В ТП детали 132.00.0630.051.000 ввести пункты:\\n8. Деталь изготавливать методом размерного травления по ПИ 1.2.097.78\\nпосле термообработки.\\n9. Фактор травления f=2...4. Допуски на оставшуюся толщину по 7 классу\\nТочности.', 'Author': 'Родионо\\nва Н.И.', 'Head_of_technical_bureau': 'Мошкин Я.И.', 'Head_of_BTK': 'Прис Ю.В.', 'Date_of_Author_Signature': '4.09.15', 'Foreman': 'СлюсарьЕ.Н.', 'Constructor': 'Шумский М.А', 'Team Leader': 'Костюк В. А'}\n",
            "\n",
            "File: gs://anton_may/Запит виробництва/202.pdf\n",
            "\n",
            "Document Classification: {'category': 'Production request'}\n",
            "-------Prompt--------\n"
          ]
        },
        {
          "output_type": "display_data",
          "data": {
            "text/plain": [
              "<IPython.lib.display.IFrame at 0x7f18d8191990>"
            ],
            "text/html": [
              "\n",
              "        <iframe\n",
              "            width=\"600\"\n",
              "            height=\"300\"\n",
              "            src=\"https://storage.googleapis.com/anton_may/Запит%20виробництва/202.pdf\"\n",
              "            frameborder=\"0\"\n",
              "            allowfullscreen\n",
              "            \n",
              "        ></iframe>\n",
              "        "
            ]
          },
          "metadata": {}
        },
        {
          "output_type": "stream",
          "name": "stdout",
          "text": [
            "You are a document entity extraction specialist. Given a document, your task is to extract the text value of the following entities:\n",
            "\n",
            "\n",
            "{\n",
            "  \"Date\": \"\",\n",
            "  \"Изделие\": \"\",\n",
            "  \"Название_запроса\": \"\",\n",
            "  \"Номер_запроса\": \"\",\n",
            "  \"Расцеховка\": \"\",\n",
            "  \"Master\": \"\",\n",
            "  \"DSE_Designation\": \"\",\n",
            "  \"Change_in_EKD\": \"\",\n",
            "  \"Номер_чертежа\": \"\",\n",
            "  \"Номер_записки_извещения\": \"\",\n",
            "  \"Content\": \"\",\n",
            "  \"Decision\": \"\",\n",
            "  \"Author\": \"\",\n",
            "  \"Head_of_technical_bureau\": \"\",\n",
            "  \"Head_of_BTK\": \"\",\n",
            "  \"Date_of_Author_Signature\": \"\",\n",
            "  \"Foreman\": \"\",\n",
            "  \"Constructor\": \"\",\n",
            "  \"Team Leader\": \"\",\n",
            "}\n",
            "    \n",
            "\n",
            "- The JSON schema must be followed during the extraction.\n",
            "- The values must only include text found in the document\n",
            "- Do not normalize any entity value.\n",
            "- If an entity is not found in the document, set the entity value to null.\n",
            "\n",
            "\n",
            "-------Extracted Entities--------\n",
            "{'Date': '19.09.2015', 'Изделие': '132\\n1-132.96', 'Название_запроса': 'ЗАПРОС\\nПРОИЗВОДСТВА', 'Номер_запроса': 'K-02/202', 'Расцеховка': 'KO72/1 02/1-03/1;\\nCBK-132/1', 'Master': 'Тараненко', 'DSE_Designation': None, 'Change_in_EKD': 'требуется', 'Номер_чертежа': None, 'Номер_записки_извещения': '132.96.01.7203.042', 'Content': 'Прошу уточнить шифр профиля', 'Decision': 'Заменить профиль\\nOCT1 90113-86 для детали 132.00.0605.010.013/01\\nтаврик стыковочный\\nна\\nпрофиль 4.40 878\\nД164Т ОСТ1 90113-86.', 'Author': None, 'Head_of_technical_bureau': 'Мальчевс\\nкий Я.В.', 'Head_of_BTK': 'Прис Ю.В.', 'Date_of_Author_Signature': '19.09.15', 'Foreman': 'Костюк\\nB. A.', 'Constructor': 'Слюсарь\\nШевчук\\nP.B.', 'Team Leader': None}\n",
            "\n",
            "File: gs://anton_may/Запит виробництва/204.pdf\n",
            "\n",
            "Document Classification: {'category': 'Production request'}\n",
            "-------Prompt--------\n"
          ]
        },
        {
          "output_type": "display_data",
          "data": {
            "text/plain": [
              "<IPython.lib.display.IFrame at 0x7f18d8191a20>"
            ],
            "text/html": [
              "\n",
              "        <iframe\n",
              "            width=\"600\"\n",
              "            height=\"300\"\n",
              "            src=\"https://storage.googleapis.com/anton_may/Запит%20виробництва/204.pdf\"\n",
              "            frameborder=\"0\"\n",
              "            allowfullscreen\n",
              "            \n",
              "        ></iframe>\n",
              "        "
            ]
          },
          "metadata": {}
        },
        {
          "output_type": "stream",
          "name": "stdout",
          "text": [
            "You are a document entity extraction specialist. Given a document, your task is to extract the text value of the following entities:\n",
            "\n",
            "\n",
            "{\n",
            "  \"Date\": \"\",\n",
            "  \"Изделие\": \"\",\n",
            "  \"Название_запроса\": \"\",\n",
            "  \"Номер_запроса\": \"\",\n",
            "  \"Расцеховка\": \"\",\n",
            "  \"Master\": \"\",\n",
            "  \"DSE_Designation\": \"\",\n",
            "  \"Change_in_EKD\": \"\",\n",
            "  \"Номер_чертежа\": \"\",\n",
            "  \"Номер_записки_извещения\": \"\",\n",
            "  \"Content\": \"\",\n",
            "  \"Decision\": \"\",\n",
            "  \"Author\": \"\",\n",
            "  \"Head_of_technical_bureau\": \"\",\n",
            "  \"Head_of_BTK\": \"\",\n",
            "  \"Date_of_Author_Signature\": \"\",\n",
            "  \"Foreman\": \"\",\n",
            "  \"Constructor\": \"\",\n",
            "  \"Team Leader\": \"\",\n",
            "}\n",
            "    \n",
            "\n",
            "- The JSON schema must be followed during the extraction.\n",
            "- The values must only include text found in the document\n",
            "- Do not normalize any entity value.\n",
            "- If an entity is not found in the document, set the entity value to null.\n",
            "\n",
            "\n",
            "-------Extracted Entities--------\n",
            "{'Date': '15.10.15.', 'Изделие': '132\\n2001.', 'Название_запроса': 'ЗАПРОС\\nПРОИЗВОДСТВА', 'Номер_запроса': '204', 'Расцеховка': 'K-\\n31\\n1.5Tk4.01, ко-72', 'Master': None, 'DSE_Designation': None, 'Change_in_EKD': 'Требуется', 'Номер_чертежа': None, 'Номер_записки_извещения': '132.96.01.7202.023', 'Content': '1. Прошу уточнить поля допуска резьбы для деталей\\n132.00.0880.020.001, 080.003, 080,005, 080.007,080.009,...081.003,..\\n..083.003 по гост 16093-81.\\n2. Прошу уточнить необходимость\\nвыполнения резьбы M1.5x1\\nВ дет. 132.00.0880,081,003 и 083.003.\\nВ детали кронштейн 880,081,003\\nнеобходимо уточнить допуск\\nдля отв. ф8 и уточнить необходи-\\nмость выполнения отв с запуском.\\n3. Для детали штырь 132.00.0880,080.005\\nпрошу уточнить 96F9, а так же\\nразрешить изготовление детали\\nиз круга 46 мм, т.е. без обработки\\nнаружной пов-ти, т.е. без обработки\\nскладыванием.', 'Decision': '1. Для валов допуск\" резьбы бе. Для отверстий\\nдопуск резьбы. 64.\\n2. Для деталей 132.00.0880.081.003 и 083.003\\nрезьбу оставить в исполнении M15x1\\nразмер:\\n132.00, 0880, 081,003 ка $847;\\n3. В детали 132.00. 0880, 081,003\\n$8 изменить на $10 A7\\n4. Для детали 132.00.0880,080.001 диаметр\\n\"буртика\" изменить с $10 na 49.\\n5. Для детали 132.00.0880, 080,005\\n$679 заменить на ф6 и изготавливать\\nиз круг 6 мм.', 'Author': 'Падунский', 'Head_of_technical_bureau': 'поддемию', 'Head_of_BTK': 'паркуша', 'Date_of_Author_Signature': '1570.18', 'Foreman': 'витушко', 'Constructor': 'Шевчук', 'Team Leader': 'Костюк'}\n",
            "\n",
            "File: gs://anton_may/Запит виробництва/208.pdf\n",
            "\n",
            "Document Classification: {'category': 'Production request'}\n",
            "-------Prompt--------\n"
          ]
        },
        {
          "output_type": "display_data",
          "data": {
            "text/plain": [
              "<IPython.lib.display.IFrame at 0x7f18d81924a0>"
            ],
            "text/html": [
              "\n",
              "        <iframe\n",
              "            width=\"600\"\n",
              "            height=\"300\"\n",
              "            src=\"https://storage.googleapis.com/anton_may/Запит%20виробництва/208.pdf\"\n",
              "            frameborder=\"0\"\n",
              "            allowfullscreen\n",
              "            \n",
              "        ></iframe>\n",
              "        "
            ]
          },
          "metadata": {}
        },
        {
          "output_type": "stream",
          "name": "stdout",
          "text": [
            "You are a document entity extraction specialist. Given a document, your task is to extract the text value of the following entities:\n",
            "\n",
            "\n",
            "{\n",
            "  \"Date\": \"\",\n",
            "  \"Изделие\": \"\",\n",
            "  \"Название_запроса\": \"\",\n",
            "  \"Номер_запроса\": \"\",\n",
            "  \"Расцеховка\": \"\",\n",
            "  \"Master\": \"\",\n",
            "  \"DSE_Designation\": \"\",\n",
            "  \"Change_in_EKD\": \"\",\n",
            "  \"Номер_чертежа\": \"\",\n",
            "  \"Номер_записки_извещения\": \"\",\n",
            "  \"Content\": \"\",\n",
            "  \"Decision\": \"\",\n",
            "  \"Author\": \"\",\n",
            "  \"Head_of_technical_bureau\": \"\",\n",
            "  \"Head_of_BTK\": \"\",\n",
            "  \"Date_of_Author_Signature\": \"\",\n",
            "  \"Foreman\": \"\",\n",
            "  \"Constructor\": \"\",\n",
            "  \"Team Leader\": \"\",\n",
            "}\n",
            "    \n",
            "\n",
            "- The JSON schema must be followed during the extraction.\n",
            "- The values must only include text found in the document\n",
            "- Do not normalize any entity value.\n",
            "- If an entity is not found in the document, set the entity value to null.\n",
            "\n",
            "\n",
            "-------Extracted Entities--------\n",
            "{'Date': '06.10.2015г.', 'Изделие': 'AH-132\\n001', 'Название_запроса': 'ЗАПРОС\\nПРОИЗВОДСТВА', 'Номер_запроса': '0-02/208', 'Расцеховка': '02/2; 03/1; ко-71/1.', 'Master': 'Козлов С. Н.', 'DSE_Designation': '132.00.0107.000.001\\n(132.00.0100.004.017)', 'Change_in_EKD': 'не требуется', 'Номер_чертежа': None, 'Номер_записки_извещения': '132.96.01.7101.017\\n(132.96.01.7101.002)', 'Content': 'На наружной стороне детали после хим.\\nтравления имеется два протрава, в зоне указанной\\nна эскизе.\\nПрошу Вашего решения.', 'Decision': 'Места протравления (две точки) плавно\\nбез дошали ительного у тонения\\nвывести до выравнивания. Чистота\\nповерхности мест доработки 16/\\nДопустить в состояниие поканения (ксерок!?))', 'Author': 'Лавреха Л.М.', 'Head_of_technical_bureau': 'Мошкин Я.И.', 'Head_of_BTK': 'Прис Ю. В.', 'Date_of_Author_Signature': '28/06.10.15', 'Foreman': 'Довгань', 'Constructor': 'Липа', 'Team Leader': 'Полиник'}\n",
            "\n",
            "File: gs://anton_may/Запит виробництва/211.pdf\n",
            "\n",
            "Document Classification: {'category': 'Production request'}\n",
            "-------Prompt--------\n"
          ]
        },
        {
          "output_type": "display_data",
          "data": {
            "text/plain": [
              "<IPython.lib.display.IFrame at 0x7f18d83602e0>"
            ],
            "text/html": [
              "\n",
              "        <iframe\n",
              "            width=\"600\"\n",
              "            height=\"300\"\n",
              "            src=\"https://storage.googleapis.com/anton_may/Запит%20виробництва/211.pdf\"\n",
              "            frameborder=\"0\"\n",
              "            allowfullscreen\n",
              "            \n",
              "        ></iframe>\n",
              "        "
            ]
          },
          "metadata": {}
        },
        {
          "output_type": "stream",
          "name": "stdout",
          "text": [
            "You are a document entity extraction specialist. Given a document, your task is to extract the text value of the following entities:\n",
            "\n",
            "\n",
            "{\n",
            "  \"Date\": \"\",\n",
            "  \"Изделие\": \"\",\n",
            "  \"Название_запроса\": \"\",\n",
            "  \"Номер_запроса\": \"\",\n",
            "  \"Расцеховка\": \"\",\n",
            "  \"Master\": \"\",\n",
            "  \"DSE_Designation\": \"\",\n",
            "  \"Change_in_EKD\": \"\",\n",
            "  \"Номер_чертежа\": \"\",\n",
            "  \"Номер_записки_извещения\": \"\",\n",
            "  \"Content\": \"\",\n",
            "  \"Decision\": \"\",\n",
            "  \"Author\": \"\",\n",
            "  \"Head_of_technical_bureau\": \"\",\n",
            "  \"Head_of_BTK\": \"\",\n",
            "  \"Date_of_Author_Signature\": \"\",\n",
            "  \"Foreman\": \"\",\n",
            "  \"Constructor\": \"\",\n",
            "  \"Team Leader\": \"\",\n",
            "}\n",
            "    \n",
            "\n",
            "- The JSON schema must be followed during the extraction.\n",
            "- The values must only include text found in the document\n",
            "- Do not normalize any entity value.\n",
            "- If an entity is not found in the document, set the entity value to null.\n",
            "\n",
            "\n",
            "-------Extracted Entities--------\n",
            "{'Date': '12.10.15г', 'Изделие': '132\\n001', 'Название_запроса': 'ЗАПРОС\\nПРОИЗВОДСТВА', 'Номер_запроса': '0-02/211', 'Расцеховка': '02/2;03/2;7101/1;СВК132/1', 'Master': None, 'DSE_Designation': 'ДС/132.00.0107.000.005;007;009;011;017;019;', 'Change_in_EKD': 'не требуется', 'Номер_чертежа': None, 'Номер_записки_извещения': '132.96.01.7101.017', 'Content': 'После термообработки стрингеров из мат-\\nла Д16Т 710011 №серт. 6001-1; плавки\\nЛ3229, получены следующие мех.св-ва на\\nобразцах. (св-во ЦЗЛ № 2608 от. 12.10.15г)\\n(27 um)\\n№ обр.\\nОв\\n002\\n8%\\n1\\n39\\n26\\n22.3\\n2\\n40\\n26\\n23.5\\n\\nНе соответствует ОСТ 1 90113-86.\\nПризнаков пережога не обнаружено.\\n(св-во 1257 cam 3.10.182)', 'Decision': 'Детали 132.00.9107.000.0005; 004; 009; 011; 017; оед и\\nдетали указанные в содержании.\\nУдопустить к установке на машину 132.001.', 'Author': 'Рудой И.В.', 'Head_of_technical_bureau': 'Мошкин Я.И.', 'Head_of_BTK': 'Прис Ю.В.', 'Date_of_Author_Signature': None, 'Foreman': 'Довгань', 'Constructor': 'Огородний', 'Team Leader': 'Мордков'}\n",
            "\n",
            "File: gs://anton_may/Запит виробництва/239.pdf\n",
            "\n",
            "Document Classification: {'category': 'Production request'}\n",
            "-------Prompt--------\n"
          ]
        },
        {
          "output_type": "display_data",
          "data": {
            "text/plain": [
              "<IPython.lib.display.IFrame at 0x7f18d83614e0>"
            ],
            "text/html": [
              "\n",
              "        <iframe\n",
              "            width=\"600\"\n",
              "            height=\"300\"\n",
              "            src=\"https://storage.googleapis.com/anton_may/Запит%20виробництва/239.pdf\"\n",
              "            frameborder=\"0\"\n",
              "            allowfullscreen\n",
              "            \n",
              "        ></iframe>\n",
              "        "
            ]
          },
          "metadata": {}
        },
        {
          "output_type": "stream",
          "name": "stdout",
          "text": [
            "You are a document entity extraction specialist. Given a document, your task is to extract the text value of the following entities:\n",
            "\n",
            "\n",
            "{\n",
            "  \"Date\": \"\",\n",
            "  \"Изделие\": \"\",\n",
            "  \"Название_запроса\": \"\",\n",
            "  \"Номер_запроса\": \"\",\n",
            "  \"Расцеховка\": \"\",\n",
            "  \"Master\": \"\",\n",
            "  \"DSE_Designation\": \"\",\n",
            "  \"Change_in_EKD\": \"\",\n",
            "  \"Номер_чертежа\": \"\",\n",
            "  \"Номер_записки_извещения\": \"\",\n",
            "  \"Content\": \"\",\n",
            "  \"Decision\": \"\",\n",
            "  \"Author\": \"\",\n",
            "  \"Head_of_technical_bureau\": \"\",\n",
            "  \"Head_of_BTK\": \"\",\n",
            "  \"Date_of_Author_Signature\": \"\",\n",
            "  \"Foreman\": \"\",\n",
            "  \"Constructor\": \"\",\n",
            "  \"Team Leader\": \"\",\n",
            "}\n",
            "    \n",
            "\n",
            "- The JSON schema must be followed during the extraction.\n",
            "- The values must only include text found in the document\n",
            "- Do not normalize any entity value.\n",
            "- If an entity is not found in the document, set the entity value to null.\n",
            "\n",
            "\n",
            "-------Extracted Entities--------\n",
            "{'Date': '03.12.2015', 'Изделие': '132\\n1-132.96', 'Название_запроса': 'ЗАПРОС\\nПРОИЗВОДСТВА', 'Номер_запроса': '0-02/239', 'Расцеховка': \"02 10 17 1778\\n;\\n1'1'1'\", 'Master': 'Сердечный О.В.', 'DSE_Designation': '132.96.7650.104.103', 'Change_in_EKD': None, 'Номер_чертежа': '132.96.7650.104.103', 'Номер_записки_извещения': '132.96.01.1778.019', 'Content': 'На детали \"Лента\" по модели 132.96.7650.104.103\\nпри изготовлении был выполненіское на, лапках\"с\\nотклонением от модели. Прошу Вас допустить в\\nсостоянии исполнения.', 'Decision': 'Допустить деталь в состоянии\\nисполнения.', 'Author': 'Корнийчук Б.А.', 'Head_of_technical_bureau': 'Мошкин Я.И.', 'Head_of_BTK': 'Прис Ю.В.', 'Date_of_Author_Signature': '03.12:15', 'Foreman': 'Слюсарь Е.Н.', 'Constructor': 'Головецкий А.Н.', 'Team Leader': 'Шестаков А.А.'}\n",
            "\n",
            "File: gs://anton_may/Запит виробництва/242.pdf\n",
            "\n",
            "Document Classification: {'category': 'Production request'}\n",
            "-------Prompt--------\n"
          ]
        },
        {
          "output_type": "display_data",
          "data": {
            "text/plain": [
              "<IPython.lib.display.IFrame at 0x7f18d81931f0>"
            ],
            "text/html": [
              "\n",
              "        <iframe\n",
              "            width=\"600\"\n",
              "            height=\"300\"\n",
              "            src=\"https://storage.googleapis.com/anton_may/Запит%20виробництва/242.pdf\"\n",
              "            frameborder=\"0\"\n",
              "            allowfullscreen\n",
              "            \n",
              "        ></iframe>\n",
              "        "
            ]
          },
          "metadata": {}
        },
        {
          "output_type": "stream",
          "name": "stdout",
          "text": [
            "You are a document entity extraction specialist. Given a document, your task is to extract the text value of the following entities:\n",
            "\n",
            "\n",
            "{\n",
            "  \"Date\": \"\",\n",
            "  \"Изделие\": \"\",\n",
            "  \"Название_запроса\": \"\",\n",
            "  \"Номер_запроса\": \"\",\n",
            "  \"Расцеховка\": \"\",\n",
            "  \"Master\": \"\",\n",
            "  \"DSE_Designation\": \"\",\n",
            "  \"Change_in_EKD\": \"\",\n",
            "  \"Номер_чертежа\": \"\",\n",
            "  \"Номер_записки_извещения\": \"\",\n",
            "  \"Content\": \"\",\n",
            "  \"Decision\": \"\",\n",
            "  \"Author\": \"\",\n",
            "  \"Head_of_technical_bureau\": \"\",\n",
            "  \"Head_of_BTK\": \"\",\n",
            "  \"Date_of_Author_Signature\": \"\",\n",
            "  \"Foreman\": \"\",\n",
            "  \"Constructor\": \"\",\n",
            "  \"Team Leader\": \"\",\n",
            "}\n",
            "    \n",
            "\n",
            "- The JSON schema must be followed during the extraction.\n",
            "- The values must only include text found in the document\n",
            "- Do not normalize any entity value.\n",
            "- If an entity is not found in the document, set the entity value to null.\n",
            "\n",
            "\n",
            "-------Extracted Entities--------\n",
            "{'Date': '4.12.15Г', 'Изделие': '132\\n001', 'Название_запроса': 'ЗАПРОС\\nПРОИЗВОДСТВА', 'Номер_запроса': '0-02/242', 'Расцеховка': 'не требуети', 'Master': None, 'DSE_Designation': '132.00.0410.200.051', 'Change_in_EKD': None, 'Номер_чертежа': None, 'Номер_записки_извещения': '132.96.01.7101.056', 'Content': 'После термообработки гнутика из мат-ла\\nД16АМ л 1.5, плавка 0627, сертификат 0109,\\nпо режиму Т, получены след .мех. св-ва на\\nобразцах. (св-во. ЦЗЛ № 3060 от.3.12.15r)', 'Decision': 'Деталь допустить к установке\\nна\\nмашину Ап-1320.', 'Author': 'Рудой И.В.', 'Head_of_technical_bureau': 'Мошкин Я.И.', 'Head_of_BTK': 'Прис Ю.В', 'Date_of_Author_Signature': '65-30', 'Foreman': 'Слюсарь Е.Н.', 'Constructor': 'Огород нийти', 'Team Leader': 'Довгань Моротко'}\n",
            "\n",
            "File: gs://anton_may/Запит виробництва/DOC706.PDF\n",
            "\n",
            "Document Classification: {'category': 'Production request'}\n",
            "-------Prompt--------\n"
          ]
        },
        {
          "output_type": "display_data",
          "data": {
            "text/plain": [
              "<IPython.lib.display.IFrame at 0x7f18d8192e00>"
            ],
            "text/html": [
              "\n",
              "        <iframe\n",
              "            width=\"600\"\n",
              "            height=\"300\"\n",
              "            src=\"https://storage.googleapis.com/anton_may/Запит%20виробництва/DOC706.PDF\"\n",
              "            frameborder=\"0\"\n",
              "            allowfullscreen\n",
              "            \n",
              "        ></iframe>\n",
              "        "
            ]
          },
          "metadata": {}
        },
        {
          "output_type": "stream",
          "name": "stdout",
          "text": [
            "You are a document entity extraction specialist. Given a document, your task is to extract the text value of the following entities:\n",
            "\n",
            "\n",
            "{\n",
            "  \"Date\": \"\",\n",
            "  \"Изделие\": \"\",\n",
            "  \"Название_запроса\": \"\",\n",
            "  \"Номер_запроса\": \"\",\n",
            "  \"Расцеховка\": \"\",\n",
            "  \"Master\": \"\",\n",
            "  \"DSE_Designation\": \"\",\n",
            "  \"Change_in_EKD\": \"\",\n",
            "  \"Номер_чертежа\": \"\",\n",
            "  \"Номер_записки_извещения\": \"\",\n",
            "  \"Content\": \"\",\n",
            "  \"Decision\": \"\",\n",
            "  \"Author\": \"\",\n",
            "  \"Head_of_technical_bureau\": \"\",\n",
            "  \"Head_of_BTK\": \"\",\n",
            "  \"Date_of_Author_Signature\": \"\",\n",
            "  \"Foreman\": \"\",\n",
            "  \"Constructor\": \"\",\n",
            "  \"Team Leader\": \"\",\n",
            "}\n",
            "    \n",
            "\n",
            "- The JSON schema must be followed during the extraction.\n",
            "- The values must only include text found in the document\n",
            "- Do not normalize any entity value.\n",
            "- If an entity is not found in the document, set the entity value to null.\n",
            "\n",
            "\n",
            "-------Extracted Entities--------\n",
            "{'Date': '29.09.15', 'Изделие': '132\\n1-132.96', 'Название_запроса': 'ЗАПРОС\\nПРОИЗВОДСТВА', 'Номер_запроса': '01\\n201', 'Расцеховка': '01', 'Master': None, 'DSE_Designation': '132.00.0630.200.000', 'Change_in_EKD': 'Требуется', 'Номер_чертежа': None, 'Номер_записки_извещения': '132.96.01.7203.081', 'Content': '1. Уточнить\\nконфигурацию\\nкронштейна\\n132.00.0630.203.003.', 'Decision': 'Кронштейн изготавливать\\n(132.00.0630.203.003).\\nпо ревизии 1', 'Author': 'Димитров', 'Head_of_technical_bureau': 'Иваненко', 'Head_of_BTK': 'Гаркуша', 'Date_of_Author_Signature': '29.09.15', 'Foreman': 'Вилицико', 'Constructor': 'Шевчук', 'Team Leader': 'Костюк В.А.'}\n",
            "\n",
            "File: gs://anton_may/Запит виробництва/mr-1 O-443(400)-564.pdf\n",
            "\n",
            "Document Classification: {'category': 'Production request'}\n",
            "-------Prompt--------\n"
          ]
        },
        {
          "output_type": "display_data",
          "data": {
            "text/plain": [
              "<IPython.lib.display.IFrame at 0x7f18d81d0430>"
            ],
            "text/html": [
              "\n",
              "        <iframe\n",
              "            width=\"600\"\n",
              "            height=\"300\"\n",
              "            src=\"https://storage.googleapis.com/anton_may/Запит%20виробництва/mr-1%20O-443(400)-564.pdf\"\n",
              "            frameborder=\"0\"\n",
              "            allowfullscreen\n",
              "            \n",
              "        ></iframe>\n",
              "        "
            ]
          },
          "metadata": {}
        },
        {
          "output_type": "stream",
          "name": "stdout",
          "text": [
            "You are a document entity extraction specialist. Given a document, your task is to extract the text value of the following entities:\n",
            "\n",
            "\n",
            "{\n",
            "  \"Date\": \"\",\n",
            "  \"Изделие\": \"\",\n",
            "  \"Название_запроса\": \"\",\n",
            "  \"Номер_запроса\": \"\",\n",
            "  \"Расцеховка\": \"\",\n",
            "  \"Master\": \"\",\n",
            "  \"DSE_Designation\": \"\",\n",
            "  \"Change_in_EKD\": \"\",\n",
            "  \"Номер_чертежа\": \"\",\n",
            "  \"Номер_записки_извещения\": \"\",\n",
            "  \"Content\": \"\",\n",
            "  \"Decision\": \"\",\n",
            "  \"Author\": \"\",\n",
            "  \"Head_of_technical_bureau\": \"\",\n",
            "  \"Head_of_BTK\": \"\",\n",
            "  \"Date_of_Author_Signature\": \"\",\n",
            "  \"Foreman\": \"\",\n",
            "  \"Constructor\": \"\",\n",
            "  \"Team Leader\": \"\",\n",
            "}\n",
            "    \n",
            "\n",
            "- The JSON schema must be followed during the extraction.\n",
            "- The values must only include text found in the document\n",
            "- Do not normalize any entity value.\n",
            "- If an entity is not found in the document, set the entity value to null.\n",
            "\n",
            "\n",
            "-------Extracted Entities--------\n",
            "{'Date': '07.07.23', 'Изделие': '1.4000.5737.100.003/005/007/009\\n1.4000.5736.100.003/005', 'Название_запроса': 'ЗАПРОС\\nПРОИЗВОДСТВА', 'Номер_запроса': '443(400)\\n564', 'Расцеховка': None, 'Master': None, 'DSE_Designation': '1.4000.5737.100.003/005/007/009\\n1.4000.5736.100.003/005', 'Change_in_EKD': None, 'Номер_чертежа': None, 'Номер_записки_извещения': None, 'Content': '1) При выполнении ремонта ШВМ подъемников закрылков\\n1.4000.5736.100.003/005 и 1.4000.5737.100.003/005/007/009\\nсогласно решения 82007/6606 при восстановлении ЛКП на\\nкорпусах гаек по запросу производства О-443(400)/555 прошу\\nдать решение маркировку согласно п.1.201 инстр.\\n1.4000.5736.000.000ТУ не выполнять, т.к. винты и гайки\\nуказанных ШВМ имеют маркировку индивидуального номера\\nна металлических бирках и ШВМ черт. 1.4000.5736.100.003/005\\nи 1.4000.5737.100.003/005/007/009 могут быть установлены на\\nдругое изделие отдельно от редуктора с соответствующим\\nзаводским номером как на левый, так и на правый борт.\\n2) При доработках подъемников в ц.43 при восстановлении\\nЛКП на корпусах гаек прошу распространить решение по п. 1\\nна все изделия 400 №№ 01-05, 01-06, 01-08,02-08, 02-10, 07-05,\\n07-06.', 'Decision': '1. Маркировку согласно ก.1.20.1\\nтехнических условий\\n1.4000.5736.000.000ТУ, разрешается выполнять не\\nна\\nподъемник\\n8\\nполном объеме.\\nПорядковый номер агрегата не наносить. Чертежный номер должен быть\\nнанесен обязательно.\\n2. При доработках подъемников\\nна изделия 400, разрешается распространить\\nрешение по п.1 данного запроса на машины N°° 01-05, 01-06, 01-08, 02-08,\\n02-10, 07-05, 07-06.', 'Author': 'Лабунский А.Л.', 'Head_of_technical_bureau': 'Лабунский А.Л.', 'Head_of_BTK': 'Беззубый Пл', 'Date_of_Author_Signature': '4.04.23', 'Foreman': 'Гончаренко А.И.', 'Constructor': 'Турло В.П.', 'Team Leader': 'Надточий'}\n",
            "\n",
            "File: gs://anton_may/Запит виробництва/mr-2 О-[2-178.98]_6015.pdf\n",
            "\n",
            "Document Classification: {'category': 'Production request'}\n",
            "-------Prompt--------\n"
          ]
        },
        {
          "output_type": "display_data",
          "data": {
            "text/plain": [
              "<IPython.lib.display.IFrame at 0x7f18d81d2590>"
            ],
            "text/html": [
              "\n",
              "        <iframe\n",
              "            width=\"600\"\n",
              "            height=\"300\"\n",
              "            src=\"https://storage.googleapis.com/anton_may/Запит%20виробництва/mr-2%20О-[2-178.98]_6015.pdf\"\n",
              "            frameborder=\"0\"\n",
              "            allowfullscreen\n",
              "            \n",
              "        ></iframe>\n",
              "        "
            ]
          },
          "metadata": {}
        },
        {
          "output_type": "stream",
          "name": "stdout",
          "text": [
            "You are a document entity extraction specialist. Given a document, your task is to extract the text value of the following entities:\n",
            "\n",
            "\n",
            "{\n",
            "  \"Date\": \"\",\n",
            "  \"Изделие\": \"\",\n",
            "  \"Название_запроса\": \"\",\n",
            "  \"Номер_запроса\": \"\",\n",
            "  \"Расцеховка\": \"\",\n",
            "  \"Master\": \"\",\n",
            "  \"DSE_Designation\": \"\",\n",
            "  \"Change_in_EKD\": \"\",\n",
            "  \"Номер_чертежа\": \"\",\n",
            "  \"Номер_записки_извещения\": \"\",\n",
            "  \"Content\": \"\",\n",
            "  \"Decision\": \"\",\n",
            "  \"Author\": \"\",\n",
            "  \"Head_of_technical_bureau\": \"\",\n",
            "  \"Head_of_BTK\": \"\",\n",
            "  \"Date_of_Author_Signature\": \"\",\n",
            "  \"Foreman\": \"\",\n",
            "  \"Constructor\": \"\",\n",
            "  \"Team Leader\": \"\",\n",
            "}\n",
            "    \n",
            "\n",
            "- The JSON schema must be followed during the extraction.\n",
            "- The values must only include text found in the document\n",
            "- Do not normalize any entity value.\n",
            "- If an entity is not found in the document, set the entity value to null.\n",
            "\n",
            "\n",
            "-------Extracted Entities--------\n",
            "{'Date': '31.01.2024', 'Изделие': '2-178.98', 'Название_запроса': 'Інформація\\nприйнята до відома\\nДля\\nуточнення\\nТехнічних', 'Номер_запроса': '*0-001/5095', 'Расцеховка': '001', 'Master': None, 'DSE_Designation': '178.00.5732.210.000', 'Change_in_EKD': None, 'Номер_чертежа': None, 'Номер_записки_извещения': '17857.284', 'Content': 'Результаты по подъемнику 178.00.5732.210.000\\nпроизв. номер №14003:\\n1.Суммарный осевой люфт (под нагрузкой 50 кгс) при\\nзастопоренном приводном вале,\\nне более 0,3 мм (по черт.)\\nфакт. – 0,24 мм\\n2. Допустимое биение конца винта относительно оси\\nнавески подъемника в двух крайних положениях гайки,\\nне более 0,8 мм (по черт.)\\nфакт. – 0,2 мм\\n3. Момент страгивания на приводном валу без нагрузки,\\nне более 0,3 Н·м (0,03 кгсм) (по черт.)\\nфакт. – 0,055 кгсм\\n4. Момент страгивания на приводном валу\\nпри t= -(60°5)°С, не более 8Н·м (0,8 кгсм) (по черт.)\\nфакт. – 0,18 кгсм', 'Decision': None, 'Author': 'Шелест О.В.', 'Head_of_technical_bureau': 'Денисенко В.А.', 'Head_of_BTK': 'Циток П.М.', 'Date_of_Author_Signature': '31,01.24', 'Foreman': 'Рябовол В.Л.', 'Constructor': 'Надрочий', 'Team Leader': 'Кондратюк'}\n",
            "\n",
            "File: gs://anton_may/Запит виробництва/output_1.pdf\n",
            "\n",
            "Document Classification: {'category': 'Production request'}\n",
            "-------Prompt--------\n"
          ]
        },
        {
          "output_type": "display_data",
          "data": {
            "text/plain": [
              "<IPython.lib.display.IFrame at 0x7f18d81d2800>"
            ],
            "text/html": [
              "\n",
              "        <iframe\n",
              "            width=\"600\"\n",
              "            height=\"300\"\n",
              "            src=\"https://storage.googleapis.com/anton_may/Запит%20виробництва/output_1.pdf\"\n",
              "            frameborder=\"0\"\n",
              "            allowfullscreen\n",
              "            \n",
              "        ></iframe>\n",
              "        "
            ]
          },
          "metadata": {}
        },
        {
          "output_type": "stream",
          "name": "stdout",
          "text": [
            "You are a document entity extraction specialist. Given a document, your task is to extract the text value of the following entities:\n",
            "\n",
            "\n",
            "{\n",
            "  \"Date\": \"\",\n",
            "  \"Изделие\": \"\",\n",
            "  \"Название_запроса\": \"\",\n",
            "  \"Номер_запроса\": \"\",\n",
            "  \"Расцеховка\": \"\",\n",
            "  \"Master\": \"\",\n",
            "  \"DSE_Designation\": \"\",\n",
            "  \"Change_in_EKD\": \"\",\n",
            "  \"Номер_чертежа\": \"\",\n",
            "  \"Номер_записки_извещения\": \"\",\n",
            "  \"Content\": \"\",\n",
            "  \"Decision\": \"\",\n",
            "  \"Author\": \"\",\n",
            "  \"Head_of_technical_bureau\": \"\",\n",
            "  \"Head_of_BTK\": \"\",\n",
            "  \"Date_of_Author_Signature\": \"\",\n",
            "  \"Foreman\": \"\",\n",
            "  \"Constructor\": \"\",\n",
            "  \"Team Leader\": \"\",\n",
            "}\n",
            "    \n",
            "\n",
            "- The JSON schema must be followed during the extraction.\n",
            "- The values must only include text found in the document\n",
            "- Do not normalize any entity value.\n",
            "- If an entity is not found in the document, set the entity value to null.\n",
            "\n",
            "\n",
            "-------Extracted Entities--------\n",
            "{'Date': '12.08.2015', 'Изделие': '1-132.96', 'Название_запроса': 'ЗАПРОС\\nНА ЗАМЕНУ\\nМАТЕРИАЛА', 'Номер_запроса': 'M-CM/1119', 'Расцеховка': '02,УО', 'Master': None, 'DSE_Designation': 'ДСЕ132.00.0105.100.001', 'Change_in_EKD': None, 'Номер_чертежа': None, 'Номер_записки_извещения': '132.96.01.7101.012', 'Content': 'Прошу Вашего разрешения произвести\\nзамену материала:\\nПрофиль Д16М 710011 на Д16Т 710011 для дет.\\n132.00.0105.450.001-021', 'Decision': 'замена профиля Д16м 710011\\nна Д16Т 710011 с выполнением пункта TT:\\nРазрешается перезакалка. Группа контроля ва\\nOCT 1 00021-784.', 'Author': 'Ястребова Т.М.', 'Head_of_technical_bureau': 'Мацибора О.Н.', 'Head_of_BTK': 'Воропаев', 'Date_of_Author_Signature': None, 'Foreman': 'Довгань', 'Constructor': 'Лилский', 'Team Leader': None}\n",
            "\n",
            "File: gs://anton_may/Запит виробництва/output_10.pdf\n",
            "\n",
            "Document Classification: {'category': 'Production request'}\n",
            "-------Prompt--------\n"
          ]
        },
        {
          "output_type": "display_data",
          "data": {
            "text/plain": [
              "<IPython.lib.display.IFrame at 0x7f18d81d0f10>"
            ],
            "text/html": [
              "\n",
              "        <iframe\n",
              "            width=\"600\"\n",
              "            height=\"300\"\n",
              "            src=\"https://storage.googleapis.com/anton_may/Запит%20виробництва/output_10.pdf\"\n",
              "            frameborder=\"0\"\n",
              "            allowfullscreen\n",
              "            \n",
              "        ></iframe>\n",
              "        "
            ]
          },
          "metadata": {}
        },
        {
          "output_type": "stream",
          "name": "stdout",
          "text": [
            "You are a document entity extraction specialist. Given a document, your task is to extract the text value of the following entities:\n",
            "\n",
            "\n",
            "{\n",
            "  \"Date\": \"\",\n",
            "  \"Изделие\": \"\",\n",
            "  \"Название_запроса\": \"\",\n",
            "  \"Номер_запроса\": \"\",\n",
            "  \"Расцеховка\": \"\",\n",
            "  \"Master\": \"\",\n",
            "  \"DSE_Designation\": \"\",\n",
            "  \"Change_in_EKD\": \"\",\n",
            "  \"Номер_чертежа\": \"\",\n",
            "  \"Номер_записки_извещения\": \"\",\n",
            "  \"Content\": \"\",\n",
            "  \"Decision\": \"\",\n",
            "  \"Author\": \"\",\n",
            "  \"Head_of_technical_bureau\": \"\",\n",
            "  \"Head_of_BTK\": \"\",\n",
            "  \"Date_of_Author_Signature\": \"\",\n",
            "  \"Foreman\": \"\",\n",
            "  \"Constructor\": \"\",\n",
            "  \"Team Leader\": \"\",\n",
            "}\n",
            "    \n",
            "\n",
            "- The JSON schema must be followed during the extraction.\n",
            "- The values must only include text found in the document\n",
            "- Do not normalize any entity value.\n",
            "- If an entity is not found in the document, set the entity value to null.\n",
            "\n",
            "\n",
            "-------Extracted Entities--------\n",
            "{'Date': '24.11.15', 'Изделие': '1-132.96', 'Название_запроса': 'ЗАПРОС\\nПРОИЗВОДСТВА', 'Номер_запроса': '0-03/260', 'Расцеховка': '03/5', 'Master': 'Алехин', 'DSE_Designation': '132.00.0902.000.000СБ', 'Change_in_EKD': 'требуется', 'Номер_чертежа': None, 'Номер_записки_извещения': '132.96.01.7101.043', 'Content': 'Заклепки и болты по стенісе\\nВсе детали входящие в сборку * 0902.000.000\\nустанавливать на герметике УЗОМЭС-5M', 'Decision': None, 'Author': 'Федоряк', 'Head_of_technical_bureau': 'Макаров А.И.', 'Head_of_BTK': 'Латуша\\nИ.В.', 'Date_of_Author_Signature': '24.11.18', 'Foreman': 'Молодкев', 'Constructor': 'Да чекистик', 'Team Leader': 'Довгань'}\n",
            "\n",
            "File: gs://anton_may/Запит виробництва/output_11.pdf\n",
            "\n",
            "Document Classification: {'category': 'Production request'}\n",
            "-------Prompt--------\n"
          ]
        },
        {
          "output_type": "display_data",
          "data": {
            "text/plain": [
              "<IPython.lib.display.IFrame at 0x7f18d81d1ea0>"
            ],
            "text/html": [
              "\n",
              "        <iframe\n",
              "            width=\"600\"\n",
              "            height=\"300\"\n",
              "            src=\"https://storage.googleapis.com/anton_may/Запит%20виробництва/output_11.pdf\"\n",
              "            frameborder=\"0\"\n",
              "            allowfullscreen\n",
              "            \n",
              "        ></iframe>\n",
              "        "
            ]
          },
          "metadata": {}
        },
        {
          "output_type": "stream",
          "name": "stdout",
          "text": [
            "You are a document entity extraction specialist. Given a document, your task is to extract the text value of the following entities:\n",
            "\n",
            "\n",
            "{\n",
            "  \"Date\": \"\",\n",
            "  \"Изделие\": \"\",\n",
            "  \"Название_запроса\": \"\",\n",
            "  \"Номер_запроса\": \"\",\n",
            "  \"Расцеховка\": \"\",\n",
            "  \"Master\": \"\",\n",
            "  \"DSE_Designation\": \"\",\n",
            "  \"Change_in_EKD\": \"\",\n",
            "  \"Номер_чертежа\": \"\",\n",
            "  \"Номер_записки_извещения\": \"\",\n",
            "  \"Content\": \"\",\n",
            "  \"Decision\": \"\",\n",
            "  \"Author\": \"\",\n",
            "  \"Head_of_technical_bureau\": \"\",\n",
            "  \"Head_of_BTK\": \"\",\n",
            "  \"Date_of_Author_Signature\": \"\",\n",
            "  \"Foreman\": \"\",\n",
            "  \"Constructor\": \"\",\n",
            "  \"Team Leader\": \"\",\n",
            "}\n",
            "    \n",
            "\n",
            "- The JSON schema must be followed during the extraction.\n",
            "- The values must only include text found in the document\n",
            "- Do not normalize any entity value.\n",
            "- If an entity is not found in the document, set the entity value to null.\n",
            "\n",
            "\n",
            "-------Extracted Entities--------\n",
            "{'Date': None, 'Изделие': '1-132.96', 'Название_запроса': 'ЗАПРОС\\nПРОИЗВОДСТВА', 'Номер_запроса': None, 'Расцеховка': 'ОГМет - 1, КО-71 - 1\\nц.35-1, ц.01-1', 'Master': None, 'DSE_Designation': '132.00.0410.300.093, ....094', 'Change_in_EKD': 'не требуется', 'Номер_чертежа': None, 'Номер_записки_извещения': '132.96.01.7101.058', 'Content': 'C/3 132.96.01.7101.058 предусмотренно\\nизготовление деталей 132.00.0410.300.093\\nИ 132.00.0410.300.094 из штамповок,\\nштамповая оснастка на производстве\\nотсутствует, разрешение на замену B\\nтексте с/з нет.\\nПрошу Вашего решения.', 'Decision': 'Детали 132.00.0410.300.093 и 132.00.0410.300.094 разрешается изготавливать из\\nпоковок 1933T3 по ОСТ190073-85, группа контроля 2.Направление волокон вдоль\\nбольшего размера.', 'Author': 'Росихин', 'Head_of_technical_bureau': 'Ромашко', 'Head_of_BTK': 'И.М.', 'Date_of_Author_Signature': '10.10.15', 'Foreman': None, 'Constructor': 'Довгаль', 'Team Leader': 'Байцер А.Е.'}\n",
            "\n",
            "File: gs://anton_may/Запит виробництва/output_12.pdf\n",
            "\n",
            "Document Classification: {'category': 'Production request'}\n",
            "-------Prompt--------\n"
          ]
        },
        {
          "output_type": "display_data",
          "data": {
            "text/plain": [
              "<IPython.lib.display.IFrame at 0x7f18d81d2950>"
            ],
            "text/html": [
              "\n",
              "        <iframe\n",
              "            width=\"600\"\n",
              "            height=\"300\"\n",
              "            src=\"https://storage.googleapis.com/anton_may/Запит%20виробництва/output_12.pdf\"\n",
              "            frameborder=\"0\"\n",
              "            allowfullscreen\n",
              "            \n",
              "        ></iframe>\n",
              "        "
            ]
          },
          "metadata": {}
        },
        {
          "output_type": "stream",
          "name": "stdout",
          "text": [
            "You are a document entity extraction specialist. Given a document, your task is to extract the text value of the following entities:\n",
            "\n",
            "\n",
            "{\n",
            "  \"Date\": \"\",\n",
            "  \"Изделие\": \"\",\n",
            "  \"Название_запроса\": \"\",\n",
            "  \"Номер_запроса\": \"\",\n",
            "  \"Расцеховка\": \"\",\n",
            "  \"Master\": \"\",\n",
            "  \"DSE_Designation\": \"\",\n",
            "  \"Change_in_EKD\": \"\",\n",
            "  \"Номер_чертежа\": \"\",\n",
            "  \"Номер_записки_извещения\": \"\",\n",
            "  \"Content\": \"\",\n",
            "  \"Decision\": \"\",\n",
            "  \"Author\": \"\",\n",
            "  \"Head_of_technical_bureau\": \"\",\n",
            "  \"Head_of_BTK\": \"\",\n",
            "  \"Date_of_Author_Signature\": \"\",\n",
            "  \"Foreman\": \"\",\n",
            "  \"Constructor\": \"\",\n",
            "  \"Team Leader\": \"\",\n",
            "}\n",
            "    \n",
            "\n",
            "- The JSON schema must be followed during the extraction.\n",
            "- The values must only include text found in the document\n",
            "- Do not normalize any entity value.\n",
            "- If an entity is not found in the document, set the entity value to null.\n",
            "\n",
            "\n",
            "-------Extracted Entities--------\n",
            "{'Date': '23 10\\n2015', 'Изделие': '132.00.0100-035 007/008', 'Название_запроса': 'ЗАПРОС\\nПРОИЗВОДСТВА', 'Номер_запроса': '132', 'Расцеховка': None, 'Master': None, 'DSE_Designation': None, 'Change_in_EKD': None, 'Номер_чертежа': '132.00.0100.035.007/008', 'Номер_записки_извещения': '136 96.01.7101.057', 'Content': 'Д1647 421239. Пункт в\\nB3\\n132 9601 7101 057\\nиз метериалй\\n2164T\\nКектрич\\nдетеля 126000100 0.35.007/08крснийкин\\nизготавливается\\n• термообработкой:\\n\" Kanu mь, гру như\\nОСТ100021-7.8\". Однако, митерии\\n\" Kanu mь, гру như\\nОСТ100021-7.8\". Однако, митерии\\nWiBut yne\\nも\\nтермой работани\\nu\\nde\\nсости ёпилм\\nтильной\\nтребует ўлдики\\nтермой метки\\nВоликис\\nрешения.', 'Decision': 'Изменение массы\\nДетали 132.00.0100.035.007/008 протавливать су\\nПо уложить следукицним образом.\\n«Допускается перезакалка. Группа контроля 50671 00021-74\"', 'Author': 'Костик\\nШкрыль', 'Head_of_technical_bureau': None, 'Head_of_BTK': None, 'Date_of_Author_Signature': '24.10.15', 'Foreman': 'Андриевская', 'Constructor': 'Доврань', 'Team Leader': 'Полиник'}\n",
            "\n",
            "File: gs://anton_may/Запит виробництва/output_2.pdf\n",
            "\n",
            "Document Classification: {'category': 'Production request'}\n",
            "-------Prompt--------\n"
          ]
        },
        {
          "output_type": "display_data",
          "data": {
            "text/plain": [
              "<IPython.lib.display.IFrame at 0x7f18d81d2800>"
            ],
            "text/html": [
              "\n",
              "        <iframe\n",
              "            width=\"600\"\n",
              "            height=\"300\"\n",
              "            src=\"https://storage.googleapis.com/anton_may/Запит%20виробництва/output_2.pdf\"\n",
              "            frameborder=\"0\"\n",
              "            allowfullscreen\n",
              "            \n",
              "        ></iframe>\n",
              "        "
            ]
          },
          "metadata": {}
        },
        {
          "output_type": "stream",
          "name": "stdout",
          "text": [
            "You are a document entity extraction specialist. Given a document, your task is to extract the text value of the following entities:\n",
            "\n",
            "\n",
            "{\n",
            "  \"Date\": \"\",\n",
            "  \"Изделие\": \"\",\n",
            "  \"Название_запроса\": \"\",\n",
            "  \"Номер_запроса\": \"\",\n",
            "  \"Расцеховка\": \"\",\n",
            "  \"Master\": \"\",\n",
            "  \"DSE_Designation\": \"\",\n",
            "  \"Change_in_EKD\": \"\",\n",
            "  \"Номер_чертежа\": \"\",\n",
            "  \"Номер_записки_извещения\": \"\",\n",
            "  \"Content\": \"\",\n",
            "  \"Decision\": \"\",\n",
            "  \"Author\": \"\",\n",
            "  \"Head_of_technical_bureau\": \"\",\n",
            "  \"Head_of_BTK\": \"\",\n",
            "  \"Date_of_Author_Signature\": \"\",\n",
            "  \"Foreman\": \"\",\n",
            "  \"Constructor\": \"\",\n",
            "  \"Team Leader\": \"\",\n",
            "}\n",
            "    \n",
            "\n",
            "- The JSON schema must be followed during the extraction.\n",
            "- The values must only include text found in the document\n",
            "- Do not normalize any entity value.\n",
            "- If an entity is not found in the document, set the entity value to null.\n",
            "\n",
            "\n",
            "-------Extracted Entities--------\n",
            "{'Date': '18.08.15', 'Изделие': '1-132.96', 'Название_запроса': 'ЗАПРОС\\nНА ЗАМЕНУ\\nМАТЕРИАЛА', 'Номер_запроса': 'M-CM/1122', 'Расцеховка': '02,УО', 'Master': None, 'DSE_Designation': 'ДСЕ132.00.0101.000.000', 'Change_in_EKD': None, 'Номер_чертежа': None, 'Номер_записки_извещения': '132.96.01.7101.006', 'Content': 'Прошу Вашего разрешения произвести\\nзамену материала:\\n1. 132.00.0101.001.000\\nД16чТ 520205 на Д16Т 520296\\n2.\\n.002;003\\nД16чТ 420947 на Д16Т 420952\\n3.\\n.000.097;098\\nД16Т 510082 на Д16Т 410154\\n4.\\n.004.001;002\\nД16чТ 420116 на Д16Т 420377', 'Decision': 'На самолет-демонстратор А№132\\nразрешается замена материала\\nСортамент профилей, указанных в\\nп. 1, 2, 3, 4 запроса, с доработкой до\\nчертежных размеров.', 'Author': 'Толстых В.И.', 'Head_of_technical_bureau': 'Мацибора О.Н.', 'Head_of_BTK': None, 'Date_of_Author_Signature': '20.08.15', 'Foreman': 'Полиник', 'Constructor': 'Юрчак Н.Н.', 'Team Leader': 'Довгань Г.К.'}\n",
            "\n",
            "File: gs://anton_may/Запит виробництва/output_3.pdf\n",
            "\n",
            "Document Classification: {'category': 'Production request'}\n",
            "-------Prompt--------\n"
          ]
        },
        {
          "output_type": "display_data",
          "data": {
            "text/plain": [
              "<IPython.lib.display.IFrame at 0x7f18d8361030>"
            ],
            "text/html": [
              "\n",
              "        <iframe\n",
              "            width=\"600\"\n",
              "            height=\"300\"\n",
              "            src=\"https://storage.googleapis.com/anton_may/Запит%20виробництва/output_3.pdf\"\n",
              "            frameborder=\"0\"\n",
              "            allowfullscreen\n",
              "            \n",
              "        ></iframe>\n",
              "        "
            ]
          },
          "metadata": {}
        },
        {
          "output_type": "stream",
          "name": "stdout",
          "text": [
            "You are a document entity extraction specialist. Given a document, your task is to extract the text value of the following entities:\n",
            "\n",
            "\n",
            "{\n",
            "  \"Date\": \"\",\n",
            "  \"Изделие\": \"\",\n",
            "  \"Название_запроса\": \"\",\n",
            "  \"Номер_запроса\": \"\",\n",
            "  \"Расцеховка\": \"\",\n",
            "  \"Master\": \"\",\n",
            "  \"DSE_Designation\": \"\",\n",
            "  \"Change_in_EKD\": \"\",\n",
            "  \"Номер_чертежа\": \"\",\n",
            "  \"Номер_записки_извещения\": \"\",\n",
            "  \"Content\": \"\",\n",
            "  \"Decision\": \"\",\n",
            "  \"Author\": \"\",\n",
            "  \"Head_of_technical_bureau\": \"\",\n",
            "  \"Head_of_BTK\": \"\",\n",
            "  \"Date_of_Author_Signature\": \"\",\n",
            "  \"Foreman\": \"\",\n",
            "  \"Constructor\": \"\",\n",
            "  \"Team Leader\": \"\",\n",
            "}\n",
            "    \n",
            "\n",
            "- The JSON schema must be followed during the extraction.\n",
            "- The values must only include text found in the document\n",
            "- Do not normalize any entity value.\n",
            "- If an entity is not found in the document, set the entity value to null.\n",
            "\n",
            "\n",
            "-------Extracted Entities--------\n",
            "{'Date': '9.10.2015', 'Изделие': '1-132.96', 'Название_запроса': 'ЗАПРОС\\nНА ЗАМЕНУ\\nМАТЕРИАЛА', 'Номер_запроса': 'M-CM/204', 'Расцеховка': '01,35,УО', 'Master': None, 'DSE_Designation': 'ДСЕ140.00.0150.200.000', 'Change_in_EKD': None, 'Номер_чертежа': None, 'Номер_записки_извещения': '132.96.01.7101.038', 'Content': 'Прошу Вашего разрешения произвести\\nзамену материала:\\n1.Плиты Д16Б на плиту Д16Т для деталей\\n140.00.0150.236.003/005/007.\\n2.Пруток Д16Ч на Д16Т для деталей\\n140.00.0150.938.001/003/005.\\n3. Пруток Д16ЧТ на Д16Т для деталей\\n140.00.0150.237.001÷006, 140.00.0150.238.001÷006\\n4. Лист Д16ЧАТ л.8,0 на лист Д16ЧАТ л.10,0 с\\nдоработкой или на лист Д16АТ л. 8,0', 'Decision': '1). Разрешить замену\\nплиты ДІББ на плиту Д16Т.\\n2). Разрешить замену прутка 4164 на Д 16т.\\n3). Разрешить замену\\n4. Разрешить замену\\nпрутка 116 на Д16Т.\\nлиста 1164ат 1.8.0 на меб\\nД16АТ л.8.0.\\nПримечание: Для деталей\\nперезашалиа\\nгр. контроля 5 OCT100021-78.', 'Author': 'Ястребова Т.М.', 'Head_of_technical_bureau': 'Мацибора О.Н.', 'Head_of_BTK': 'Довгань\\n09.10.15', 'Date_of_Author_Signature': None, 'Foreman': 'Воропаев\\nHalel\\n9.10.15', 'Constructor': 'Величко', 'Team Leader': None}\n",
            "\n",
            "File: gs://anton_may/Запит виробництва/output_4.pdf\n",
            "\n",
            "Document Classification: {'category': 'Production request'}\n",
            "-------Prompt--------\n"
          ]
        },
        {
          "output_type": "display_data",
          "data": {
            "text/plain": [
              "<IPython.lib.display.IFrame at 0x7f18d8361c00>"
            ],
            "text/html": [
              "\n",
              "        <iframe\n",
              "            width=\"600\"\n",
              "            height=\"300\"\n",
              "            src=\"https://storage.googleapis.com/anton_may/Запит%20виробництва/output_4.pdf\"\n",
              "            frameborder=\"0\"\n",
              "            allowfullscreen\n",
              "            \n",
              "        ></iframe>\n",
              "        "
            ]
          },
          "metadata": {}
        },
        {
          "output_type": "stream",
          "name": "stdout",
          "text": [
            "You are a document entity extraction specialist. Given a document, your task is to extract the text value of the following entities:\n",
            "\n",
            "\n",
            "{\n",
            "  \"Date\": \"\",\n",
            "  \"Изделие\": \"\",\n",
            "  \"Название_запроса\": \"\",\n",
            "  \"Номер_запроса\": \"\",\n",
            "  \"Расцеховка\": \"\",\n",
            "  \"Master\": \"\",\n",
            "  \"DSE_Designation\": \"\",\n",
            "  \"Change_in_EKD\": \"\",\n",
            "  \"Номер_чертежа\": \"\",\n",
            "  \"Номер_записки_извещения\": \"\",\n",
            "  \"Content\": \"\",\n",
            "  \"Decision\": \"\",\n",
            "  \"Author\": \"\",\n",
            "  \"Head_of_technical_bureau\": \"\",\n",
            "  \"Head_of_BTK\": \"\",\n",
            "  \"Date_of_Author_Signature\": \"\",\n",
            "  \"Foreman\": \"\",\n",
            "  \"Constructor\": \"\",\n",
            "  \"Team Leader\": \"\",\n",
            "}\n",
            "    \n",
            "\n",
            "- The JSON schema must be followed during the extraction.\n",
            "- The values must only include text found in the document\n",
            "- Do not normalize any entity value.\n",
            "- If an entity is not found in the document, set the entity value to null.\n",
            "\n",
            "\n",
            "-------Extracted Entities--------\n",
            "{'Date': '1.10.15', 'Изделие': '132', 'Название_запроса': 'ЗАПРОС\\nНА ЗАМЕНУ\\nМАТЕРИАЛА', 'Номер_запроса': None, 'Расцеховка': '02,УО', 'Master': None, 'DSE_Designation': 'ДСЕ132.00.0903.200.015', 'Change_in_EKD': None, 'Номер_чертежа': '132.00.0903.200.007/015', 'Номер_записки_извещения': '132.96.01.7101.019', 'Content': 'замену, материала\\nс Д 16 чт 620622 на Д1675203194\\nHa машину 001!', 'Decision': 'разрешается произвести', 'Author': 'Толстых В.И.', 'Head_of_technical_bureau': 'Мацибора О.Н.', 'Head_of_BTK': 'Довгань Г.К.', 'Date_of_Author_Signature': '02.10.15', 'Foreman': 'Полусик', 'Constructor': 'Нарскин', 'Team Leader': None}\n",
            "\n",
            "File: gs://anton_may/Запит виробництва/output_5.pdf\n",
            "\n",
            "Document Classification: {'category': 'Production request'}\n",
            "-------Prompt--------\n"
          ]
        },
        {
          "output_type": "display_data",
          "data": {
            "text/plain": [
              "<IPython.lib.display.IFrame at 0x7f18d83628c0>"
            ],
            "text/html": [
              "\n",
              "        <iframe\n",
              "            width=\"600\"\n",
              "            height=\"300\"\n",
              "            src=\"https://storage.googleapis.com/anton_may/Запит%20виробництва/output_5.pdf\"\n",
              "            frameborder=\"0\"\n",
              "            allowfullscreen\n",
              "            \n",
              "        ></iframe>\n",
              "        "
            ]
          },
          "metadata": {}
        },
        {
          "output_type": "stream",
          "name": "stdout",
          "text": [
            "You are a document entity extraction specialist. Given a document, your task is to extract the text value of the following entities:\n",
            "\n",
            "\n",
            "{\n",
            "  \"Date\": \"\",\n",
            "  \"Изделие\": \"\",\n",
            "  \"Название_запроса\": \"\",\n",
            "  \"Номер_запроса\": \"\",\n",
            "  \"Расцеховка\": \"\",\n",
            "  \"Master\": \"\",\n",
            "  \"DSE_Designation\": \"\",\n",
            "  \"Change_in_EKD\": \"\",\n",
            "  \"Номер_чертежа\": \"\",\n",
            "  \"Номер_записки_извещения\": \"\",\n",
            "  \"Content\": \"\",\n",
            "  \"Decision\": \"\",\n",
            "  \"Author\": \"\",\n",
            "  \"Head_of_technical_bureau\": \"\",\n",
            "  \"Head_of_BTK\": \"\",\n",
            "  \"Date_of_Author_Signature\": \"\",\n",
            "  \"Foreman\": \"\",\n",
            "  \"Constructor\": \"\",\n",
            "  \"Team Leader\": \"\",\n",
            "}\n",
            "    \n",
            "\n",
            "- The JSON schema must be followed during the extraction.\n",
            "- The values must only include text found in the document\n",
            "- Do not normalize any entity value.\n",
            "- If an entity is not found in the document, set the entity value to null.\n",
            "\n",
            "\n",
            "-------Extracted Entities--------\n",
            "{'Date': '29.9.15', 'Изделие': '132\\n1-132.96', 'Название_запроса': 'ЗАПРОС\\nПРОИЗВОДСТВА', 'Номер_запроса': '03\\n203', 'Расцеховка': '02\\n1', 'Master': 'Мельвир', 'DSE_Designation': '132.00.0630.200.000', 'Change_in_EKD': 'Требуется погашение', 'Номер_чертежа': '32.02.0112.010.000', 'Номер_записки_извещения': '132.96.01.7203.021', 'Content': '1. Уточнить стык по низинке шп. 10А черт.\\n32.02.0112.010.000\\n132.00.0630.203.003.\\nC\\nкронштейном', 'Decision': '1. Стык по низинке шп. 10 А черт. 32.02.0112.010.000\\n132.00.0630.203.003 осуществлят\\nс кронштейном\\nсогласко\\nприлажению\\nк Запросу № 203\\n(Puc.1)\\n2. Выполнить вновь изготавливаемый\\nстыко-\\nвочный уголок 132.00.0630. 200.007, согласно\\nприложению\\nк запросу\\n№ 203\\n(puc. 2.)\\n3. Заказать:\\n1) Болт 5-17-Ан. Окс. - ОСТ1 12085-77. - 10. шт;\\n2) Болт 5-15-Ан. Окс. - ОСТ1 12085-77\\n- 8 шт\\n3) Закл. 4-9-Ан. Окс.\\n- ОСТ 1 34040-79-10 шт;\\n4) Закл. 4-14-Aн. Окс. - Ост1 34040-79-1 шт;\\n5) Закл. 4-18- Ан. Окс. - OCT1 34040-79-1 WUT;.\\n4. Уголок 410121 Д16Т ОСТ 1 90113-86', 'Author': 'Фебрук', 'Head_of_technical_bureau': 'Монаков', 'Head_of_BTK': 'Лотусия', 'Date_of_Author_Signature': '29.09.15', 'Foreman': 'Чёррорив. В.', 'Constructor': 'Шевчук Р.В.', 'Team Leader': 'Костюк В.А.'}\n",
            "\n",
            "File: gs://anton_may/Запит виробництва/output_6.pdf\n",
            "\n",
            "Document Classification: {'category': 'Production request'}\n",
            "-------Prompt--------\n"
          ]
        },
        {
          "output_type": "display_data",
          "data": {
            "text/plain": [
              "<IPython.lib.display.IFrame at 0x7f18d8363790>"
            ],
            "text/html": [
              "\n",
              "        <iframe\n",
              "            width=\"600\"\n",
              "            height=\"300\"\n",
              "            src=\"https://storage.googleapis.com/anton_may/Запит%20виробництва/output_6.pdf\"\n",
              "            frameborder=\"0\"\n",
              "            allowfullscreen\n",
              "            \n",
              "        ></iframe>\n",
              "        "
            ]
          },
          "metadata": {}
        },
        {
          "output_type": "stream",
          "name": "stdout",
          "text": [
            "You are a document entity extraction specialist. Given a document, your task is to extract the text value of the following entities:\n",
            "\n",
            "\n",
            "{\n",
            "  \"Date\": \"\",\n",
            "  \"Изделие\": \"\",\n",
            "  \"Название_запроса\": \"\",\n",
            "  \"Номер_запроса\": \"\",\n",
            "  \"Расцеховка\": \"\",\n",
            "  \"Master\": \"\",\n",
            "  \"DSE_Designation\": \"\",\n",
            "  \"Change_in_EKD\": \"\",\n",
            "  \"Номер_чертежа\": \"\",\n",
            "  \"Номер_записки_извещения\": \"\",\n",
            "  \"Content\": \"\",\n",
            "  \"Decision\": \"\",\n",
            "  \"Author\": \"\",\n",
            "  \"Head_of_technical_bureau\": \"\",\n",
            "  \"Head_of_BTK\": \"\",\n",
            "  \"Date_of_Author_Signature\": \"\",\n",
            "  \"Foreman\": \"\",\n",
            "  \"Constructor\": \"\",\n",
            "  \"Team Leader\": \"\",\n",
            "}\n",
            "    \n",
            "\n",
            "- The JSON schema must be followed during the extraction.\n",
            "- The values must only include text found in the document\n",
            "- Do not normalize any entity value.\n",
            "- If an entity is not found in the document, set the entity value to null.\n",
            "\n",
            "\n",
            "-------Extracted Entities--------\n",
            "{'Date': '8.10.15', 'Изделие': '1-132.96', 'Название_запроса': 'ЗАПРОС\\nНА ЗАМЕНУ\\nМАТЕРИАЛА', 'Номер_запроса': 'M-CM/203', 'Расцеховка': '02, УО', 'Master': None, 'DSE_Designation': 'ДСЕ132.00.0903.200.017/018', 'Change_in_EKD': None, 'Номер_чертежа': None, 'Номер_записки_извещения': '132.96.01.7101.019', 'Content': '1. 1163АТ л. 0,5 на Д16АТ л. 0,5', 'Decision': 'Разрешается замена материала в детали 132.00.0903.2000 17/018\\nC 1163 АТ л. 0,5 на До 16 Атл. 0,5', 'Author': 'Толстых В.И.', 'Head_of_technical_bureau': 'Мацибор О.Н.', 'Head_of_BTK': 'Довгань Г.К.', 'Date_of_Author_Signature': None, 'Foreman': None, 'Constructor': 'Харскин', 'Team Leader': None}\n",
            "\n",
            "File: gs://anton_may/Запит виробництва/output_7.pdf\n",
            "\n",
            "Document Classification: {'category': 'Production request'}\n",
            "-------Prompt--------\n"
          ]
        },
        {
          "output_type": "display_data",
          "data": {
            "text/plain": [
              "<IPython.lib.display.IFrame at 0x7f18d8362f20>"
            ],
            "text/html": [
              "\n",
              "        <iframe\n",
              "            width=\"600\"\n",
              "            height=\"300\"\n",
              "            src=\"https://storage.googleapis.com/anton_may/Запит%20виробництва/output_7.pdf\"\n",
              "            frameborder=\"0\"\n",
              "            allowfullscreen\n",
              "            \n",
              "        ></iframe>\n",
              "        "
            ]
          },
          "metadata": {}
        },
        {
          "output_type": "stream",
          "name": "stdout",
          "text": [
            "You are a document entity extraction specialist. Given a document, your task is to extract the text value of the following entities:\n",
            "\n",
            "\n",
            "{\n",
            "  \"Date\": \"\",\n",
            "  \"Изделие\": \"\",\n",
            "  \"Название_запроса\": \"\",\n",
            "  \"Номер_запроса\": \"\",\n",
            "  \"Расцеховка\": \"\",\n",
            "  \"Master\": \"\",\n",
            "  \"DSE_Designation\": \"\",\n",
            "  \"Change_in_EKD\": \"\",\n",
            "  \"Номер_чертежа\": \"\",\n",
            "  \"Номер_записки_извещения\": \"\",\n",
            "  \"Content\": \"\",\n",
            "  \"Decision\": \"\",\n",
            "  \"Author\": \"\",\n",
            "  \"Head_of_technical_bureau\": \"\",\n",
            "  \"Head_of_BTK\": \"\",\n",
            "  \"Date_of_Author_Signature\": \"\",\n",
            "  \"Foreman\": \"\",\n",
            "  \"Constructor\": \"\",\n",
            "  \"Team Leader\": \"\",\n",
            "}\n",
            "    \n",
            "\n",
            "- The JSON schema must be followed during the extraction.\n",
            "- The values must only include text found in the document\n",
            "- Do not normalize any entity value.\n",
            "- If an entity is not found in the document, set the entity value to null.\n",
            "\n",
            "\n",
            "-------Extracted Entities--------\n",
            "{'Date': '16.10.15', 'Изделие': '1-132.96', 'Название_запроса': 'ЗАПРОС\\nНА ЗАМЕНУ\\nМАТЕРИАЛА', 'Номер_запроса': None, 'Расцеховка': '02, УО', 'Master': None, 'DSE_Designation': 'ДСЕ178.00.5603.210.000', 'Change_in_EKD': None, 'Номер_чертежа': None, 'Номер_записки_извещения': '132.96.01.1956.027', 'Content': 'замену материала:\\n1. 178.00.5603.214.000/215.000\\nАМЦН2 л.0,8 на АМГ2 М л. 0,8', 'Decision': 'Разрешается замена материала дир\\nтрафаретов 178,00,5603,215,000 4 178.00, 5603.214.000\\nзаказанных по C/3 132.00.01.1956,027,  C AMS H2\\nлист 0,8 sea AM22M лист 0,8.', 'Author': None, 'Head_of_technical_bureau': 'Мацибора О', 'Head_of_BTK': 'Ивасенко', 'Date_of_Author_Signature': '20.10.15', 'Foreman': None, 'Constructor': 'Гродовская', 'Team Leader': 'Кочкин'}\n",
            "\n",
            "File: gs://anton_may/Запит виробництва/output_8.pdf\n",
            "\n",
            "Document Classification: {'category': 'Production request'}\n",
            "-------Prompt--------\n"
          ]
        },
        {
          "output_type": "display_data",
          "data": {
            "text/plain": [
              "<IPython.lib.display.IFrame at 0x7f18d8362590>"
            ],
            "text/html": [
              "\n",
              "        <iframe\n",
              "            width=\"600\"\n",
              "            height=\"300\"\n",
              "            src=\"https://storage.googleapis.com/anton_may/Запит%20виробництва/output_8.pdf\"\n",
              "            frameborder=\"0\"\n",
              "            allowfullscreen\n",
              "            \n",
              "        ></iframe>\n",
              "        "
            ]
          },
          "metadata": {}
        },
        {
          "output_type": "stream",
          "name": "stdout",
          "text": [
            "You are a document entity extraction specialist. Given a document, your task is to extract the text value of the following entities:\n",
            "\n",
            "\n",
            "{\n",
            "  \"Date\": \"\",\n",
            "  \"Изделие\": \"\",\n",
            "  \"Название_запроса\": \"\",\n",
            "  \"Номер_запроса\": \"\",\n",
            "  \"Расцеховка\": \"\",\n",
            "  \"Master\": \"\",\n",
            "  \"DSE_Designation\": \"\",\n",
            "  \"Change_in_EKD\": \"\",\n",
            "  \"Номер_чертежа\": \"\",\n",
            "  \"Номер_записки_извещения\": \"\",\n",
            "  \"Content\": \"\",\n",
            "  \"Decision\": \"\",\n",
            "  \"Author\": \"\",\n",
            "  \"Head_of_technical_bureau\": \"\",\n",
            "  \"Head_of_BTK\": \"\",\n",
            "  \"Date_of_Author_Signature\": \"\",\n",
            "  \"Foreman\": \"\",\n",
            "  \"Constructor\": \"\",\n",
            "  \"Team Leader\": \"\",\n",
            "}\n",
            "    \n",
            "\n",
            "- The JSON schema must be followed during the extraction.\n",
            "- The values must only include text found in the document\n",
            "- Do not normalize any entity value.\n",
            "- If an entity is not found in the document, set the entity value to null.\n",
            "\n",
            "\n",
            "-------Extracted Entities--------\n",
            "{'Date': '21.04.15', 'Изделие': '132.001', 'Название_запроса': 'ЗАПРОС\\nПРОИЗВОДСТВА', 'Номер_запроса': '03\\n201', 'Расцеховка': '03', 'Master': 'Шель вир', 'DSE_Designation': '051-35', 'Change_in_EKD': 'Требуется', 'Номер_чертежа': '132.00.0105.100.001', 'Номер_записки_извещения': '132.96.01.7101.012', 'Content': '1. Для установки антенны\\n10-118-37-18 малы пере-\\nмычки болтов $5 мм\\n( перемычка = 5мм)', 'Decision': '1. В дет. 132.00.0105.500.003\\nотверстия в 28 мм\\nU\\n0105.500.007\\nвекрывать ф 22мм, Ra 51,6.', 'Author': 'Латина', 'Head_of_technical_bureau': 'Малов', 'Head_of_BTK': 'Ивлев', 'Date_of_Author_Signature': None, 'Foreman': 'Милевский В.Л.', 'Constructor': 'Липский', 'Team Leader': 'оврыню'}\n",
            "\n",
            "File: gs://anton_may/Запит виробництва/output_9.pdf\n",
            "\n",
            "Document Classification: {'category': 'Production request'}\n",
            "-------Prompt--------\n"
          ]
        },
        {
          "output_type": "display_data",
          "data": {
            "text/plain": [
              "<IPython.lib.display.IFrame at 0x7f18d81d36d0>"
            ],
            "text/html": [
              "\n",
              "        <iframe\n",
              "            width=\"600\"\n",
              "            height=\"300\"\n",
              "            src=\"https://storage.googleapis.com/anton_may/Запит%20виробництва/output_9.pdf\"\n",
              "            frameborder=\"0\"\n",
              "            allowfullscreen\n",
              "            \n",
              "        ></iframe>\n",
              "        "
            ]
          },
          "metadata": {}
        },
        {
          "output_type": "stream",
          "name": "stdout",
          "text": [
            "You are a document entity extraction specialist. Given a document, your task is to extract the text value of the following entities:\n",
            "\n",
            "\n",
            "{\n",
            "  \"Date\": \"\",\n",
            "  \"Изделие\": \"\",\n",
            "  \"Название_запроса\": \"\",\n",
            "  \"Номер_запроса\": \"\",\n",
            "  \"Расцеховка\": \"\",\n",
            "  \"Master\": \"\",\n",
            "  \"DSE_Designation\": \"\",\n",
            "  \"Change_in_EKD\": \"\",\n",
            "  \"Номер_чертежа\": \"\",\n",
            "  \"Номер_записки_извещения\": \"\",\n",
            "  \"Content\": \"\",\n",
            "  \"Decision\": \"\",\n",
            "  \"Author\": \"\",\n",
            "  \"Head_of_technical_bureau\": \"\",\n",
            "  \"Head_of_BTK\": \"\",\n",
            "  \"Date_of_Author_Signature\": \"\",\n",
            "  \"Foreman\": \"\",\n",
            "  \"Constructor\": \"\",\n",
            "  \"Team Leader\": \"\",\n",
            "}\n",
            "    \n",
            "\n",
            "- The JSON schema must be followed during the extraction.\n",
            "- The values must only include text found in the document\n",
            "- Do not normalize any entity value.\n",
            "- If an entity is not found in the document, set the entity value to null.\n",
            "\n",
            "\n",
            "-------Extracted Entities--------\n",
            "{'Date': '17 02-04', 'Изделие': '1-132.96', 'Название_запроса': 'ЗАПРОС\\nНА ЗАМЕНУ\\nМАТЕРИАЛА', 'Номер_запроса': None, 'Расцеховка': None, 'Master': None, 'DSE_Designation': 'ДСЕ178.00.5602.263.000', 'Change_in_EKD': None, 'Номер_чертежа': None, 'Номер_записки_извещения': '132.96.01.1956.024', 'Content': 'Прошу Вашего разрешения произвести\\nзамену материала:\\nСетка БрОФ 6,5-0,4 01 В ГОСТ 6613-86\\nна сетку полутомпаковую Л80 01Н ГОСТ 6613-86\\nс просроченым сроком гарантийного хранения без\\nизъянов и повреждений.', 'Decision': 'На основании инеттрукции 7.1.1.2 458-94 занена\\nна сетку полутоннаковую 180 014 ГОСТ 6613-86\\nматериала\\nне разрешается. аннулировать 9.12.15\\nЗаменить сетку БрОФ6,5-0,401 В ГОСТ 6613-86 на\\nсетку полутоннаковую 180 ОН ГОСТ 6613-86', 'Author': None, 'Head_of_technical_bureau': 'Мацибора', 'Head_of_BTK': None, 'Date_of_Author_Signature': None, 'Foreman': 'Кочкин', 'Constructor': 'Шиленко', 'Team Leader': None}\n",
            "\n",
            "File: gs://anton_may/Запит виробництва/Запрос_производства_ОГМет-201.pdf\n",
            "\n",
            "Document Classification: {'category': 'Production request'}\n",
            "-------Prompt--------\n"
          ]
        },
        {
          "output_type": "display_data",
          "data": {
            "text/plain": [
              "<IPython.lib.display.IFrame at 0x7f18d81d33d0>"
            ],
            "text/html": [
              "\n",
              "        <iframe\n",
              "            width=\"600\"\n",
              "            height=\"300\"\n",
              "            src=\"https://storage.googleapis.com/anton_may/Запит%20виробництва/Запрос_производства_ОГМет-201.pdf\"\n",
              "            frameborder=\"0\"\n",
              "            allowfullscreen\n",
              "            \n",
              "        ></iframe>\n",
              "        "
            ]
          },
          "metadata": {}
        },
        {
          "output_type": "stream",
          "name": "stdout",
          "text": [
            "You are a document entity extraction specialist. Given a document, your task is to extract the text value of the following entities:\n",
            "\n",
            "\n",
            "{\n",
            "  \"Date\": \"\",\n",
            "  \"Изделие\": \"\",\n",
            "  \"Название_запроса\": \"\",\n",
            "  \"Номер_запроса\": \"\",\n",
            "  \"Расцеховка\": \"\",\n",
            "  \"Master\": \"\",\n",
            "  \"DSE_Designation\": \"\",\n",
            "  \"Change_in_EKD\": \"\",\n",
            "  \"Номер_чертежа\": \"\",\n",
            "  \"Номер_записки_извещения\": \"\",\n",
            "  \"Content\": \"\",\n",
            "  \"Decision\": \"\",\n",
            "  \"Author\": \"\",\n",
            "  \"Head_of_technical_bureau\": \"\",\n",
            "  \"Head_of_BTK\": \"\",\n",
            "  \"Date_of_Author_Signature\": \"\",\n",
            "  \"Foreman\": \"\",\n",
            "  \"Constructor\": \"\",\n",
            "  \"Team Leader\": \"\",\n",
            "}\n",
            "    \n",
            "\n",
            "- The JSON schema must be followed during the extraction.\n",
            "- The values must only include text found in the document\n",
            "- Do not normalize any entity value.\n",
            "- If an entity is not found in the document, set the entity value to null.\n",
            "\n",
            "\n",
            "-------Extracted Entities--------\n",
            "{'Date': '09.10.15', 'Изделие': '1-132.96', 'Название_запроса': 'ЗАПРОС\\nПРОИЗВОДСТВА', 'Номер_запроса': None, 'Расцеховка': 'CBK-132-1', 'Master': None, 'DSE_Designation': 'Φ 051-35', 'Change_in_EKD': None, 'Номер_чертежа': None, 'Номер_записки_извещения': None, 'Content': 'Детали 132,96.7721.021.000, .022.000\\nизготавливаются из Д16АМ без\\nТермообработки. Прошу Вашего\\nрешения', 'Decision': 'Детали 13г.96.7721.021.000, .022.000 изготавливать, из листа\\n0,6 АМгом ГОСТ 21631-76. С прогностю не связано.', 'Author': 'Костюк', 'Head_of_technical_bureau': 'Шкрыль', 'Head_of_BTK': None, 'Date_of_Author_Signature': None, 'Foreman': 'Шкрыль О.М.', 'Constructor': 'Леонтьев', 'Team Leader': 'Нозеренико'}\n",
            "\n",
            "File: gs://anton_may/Запит виробництва/К_01_207.PDF\n",
            "\n",
            "Document Classification: {'category': 'Production request'}\n",
            "-------Prompt--------\n"
          ]
        },
        {
          "output_type": "display_data",
          "data": {
            "text/plain": [
              "<IPython.lib.display.IFrame at 0x7f18d81d33a0>"
            ],
            "text/html": [
              "\n",
              "        <iframe\n",
              "            width=\"600\"\n",
              "            height=\"300\"\n",
              "            src=\"https://storage.googleapis.com/anton_may/Запит%20виробництва/К_01_207.PDF\"\n",
              "            frameborder=\"0\"\n",
              "            allowfullscreen\n",
              "            \n",
              "        ></iframe>\n",
              "        "
            ]
          },
          "metadata": {}
        },
        {
          "output_type": "stream",
          "name": "stdout",
          "text": [
            "You are a document entity extraction specialist. Given a document, your task is to extract the text value of the following entities:\n",
            "\n",
            "\n",
            "{\n",
            "  \"Date\": \"\",\n",
            "  \"Изделие\": \"\",\n",
            "  \"Название_запроса\": \"\",\n",
            "  \"Номер_запроса\": \"\",\n",
            "  \"Расцеховка\": \"\",\n",
            "  \"Master\": \"\",\n",
            "  \"DSE_Designation\": \"\",\n",
            "  \"Change_in_EKD\": \"\",\n",
            "  \"Номер_чертежа\": \"\",\n",
            "  \"Номер_записки_извещения\": \"\",\n",
            "  \"Content\": \"\",\n",
            "  \"Decision\": \"\",\n",
            "  \"Author\": \"\",\n",
            "  \"Head_of_technical_bureau\": \"\",\n",
            "  \"Head_of_BTK\": \"\",\n",
            "  \"Date_of_Author_Signature\": \"\",\n",
            "  \"Foreman\": \"\",\n",
            "  \"Constructor\": \"\",\n",
            "  \"Team Leader\": \"\",\n",
            "}\n",
            "    \n",
            "\n",
            "- The JSON schema must be followed during the extraction.\n",
            "- The values must only include text found in the document\n",
            "- Do not normalize any entity value.\n",
            "- If an entity is not found in the document, set the entity value to null.\n",
            "\n",
            "\n",
            "-------Extracted Entities--------\n",
            "{'Date': '22.10.15', 'Изделие': '001', 'Название_запроса': 'ЗАПРОС\\nПРОИЗВОДСТВА', 'Номер_запроса': '207', 'Расцеховка': 'yol ka19\\nKOT 8 7', 'Master': None, 'DSE_Designation': '051-35', 'Change_in_EKD': None, 'Номер_чертежа': None, 'Номер_записки_извещения': '132.96.01.0041.030', 'Content': 'Необходимо уточнить резьбу\\nна ', 'Decision': 'Заменить резьбу с MR12X1,5-бе на M12x1,5-546H', 'Author': 'Колос', 'Head_of_technical_bureau': 'аркуш', 'Head_of_BTK': 'Витули', 'Date_of_Author_Signature': '221005', 'Foreman': 'Татан', 'Constructor': 'Ивасания', 'Team Leader': None}\n",
            "\n",
            "File: gs://anton_may/Запит виробництва/О-01-212.PDF\n",
            "\n",
            "Document Classification: {'category': 'Production request'}\n",
            "-------Prompt--------\n"
          ]
        },
        {
          "output_type": "display_data",
          "data": {
            "text/plain": [
              "<IPython.lib.display.IFrame at 0x7f18d81d3760>"
            ],
            "text/html": [
              "\n",
              "        <iframe\n",
              "            width=\"600\"\n",
              "            height=\"300\"\n",
              "            src=\"https://storage.googleapis.com/anton_may/Запит%20виробництва/О-01-212.PDF\"\n",
              "            frameborder=\"0\"\n",
              "            allowfullscreen\n",
              "            \n",
              "        ></iframe>\n",
              "        "
            ]
          },
          "metadata": {}
        },
        {
          "output_type": "stream",
          "name": "stdout",
          "text": [
            "You are a document entity extraction specialist. Given a document, your task is to extract the text value of the following entities:\n",
            "\n",
            "\n",
            "{\n",
            "  \"Date\": \"\",\n",
            "  \"Изделие\": \"\",\n",
            "  \"Название_запроса\": \"\",\n",
            "  \"Номер_запроса\": \"\",\n",
            "  \"Расцеховка\": \"\",\n",
            "  \"Master\": \"\",\n",
            "  \"DSE_Designation\": \"\",\n",
            "  \"Change_in_EKD\": \"\",\n",
            "  \"Номер_чертежа\": \"\",\n",
            "  \"Номер_записки_извещения\": \"\",\n",
            "  \"Content\": \"\",\n",
            "  \"Decision\": \"\",\n",
            "  \"Author\": \"\",\n",
            "  \"Head_of_technical_bureau\": \"\",\n",
            "  \"Head_of_BTK\": \"\",\n",
            "  \"Date_of_Author_Signature\": \"\",\n",
            "  \"Foreman\": \"\",\n",
            "  \"Constructor\": \"\",\n",
            "  \"Team Leader\": \"\",\n",
            "}\n",
            "    \n",
            "\n",
            "- The JSON schema must be followed during the extraction.\n",
            "- The values must only include text found in the document\n",
            "- Do not normalize any entity value.\n",
            "- If an entity is not found in the document, set the entity value to null.\n",
            "\n",
            "\n",
            "-------Extracted Entities--------\n",
            "{'Date': '28.10.15.', 'Изделие': '132.96.\\nN001.', 'Название_запроса': 'ЗАПРОС\\nПРОИЗВОДСТВА', 'Номер_запроса': '0-의\\n212', 'Расцеховка': '1. Бтку. 01. 10-19\\n엌, 57인\\nOfMet. 171', 'Master': None, 'DSE_Designation': '178.00.5603.212.000/1', 'Change_in_EKD': 'не требуетет.', 'Номер_чертежа': '178.00.5603.212.000/1', 'Номер_записки_извещения': '132.96.01.1956.027.', 'Content': 'Прошу распространить действие\\nзапроса производства Т-01/1018\\nпри изготовлении деталей\\nПоршень 178.00.5603.212.000/1\\nна изделие 132.9% 1001.', 'Decision': 'Разрешается действие запроса прощь-ва\\nТ-07/1018 распространить при изготовление\\nдеталей Порицень 178.00.5603.212.000/1 на гезделие\\n132.96... N 001.', 'Author': 'Кочкин', 'Head_of_technical_bureau': 'Побунеми', 'Head_of_BTK': 'иващенко', 'Date_of_Author_Signature': '28.10.15', 'Foreman': 'Гаркуша', 'Constructor': 'Ви подовская', 'Team Leader': None}\n",
            "\n",
            "File: gs://anton_may/Запит виробництва/П-01-208.PDF\n",
            "\n",
            "Document Classification: {'category': 'Production request'}\n",
            "-------Prompt--------\n"
          ]
        },
        {
          "output_type": "display_data",
          "data": {
            "text/plain": [
              "<IPython.lib.display.IFrame at 0x7f18d81d0ee0>"
            ],
            "text/html": [
              "\n",
              "        <iframe\n",
              "            width=\"600\"\n",
              "            height=\"300\"\n",
              "            src=\"https://storage.googleapis.com/anton_may/Запит%20виробництва/П-01-208.PDF\"\n",
              "            frameborder=\"0\"\n",
              "            allowfullscreen\n",
              "            \n",
              "        ></iframe>\n",
              "        "
            ]
          },
          "metadata": {}
        },
        {
          "output_type": "stream",
          "name": "stdout",
          "text": [
            "You are a document entity extraction specialist. Given a document, your task is to extract the text value of the following entities:\n",
            "\n",
            "\n",
            "{\n",
            "  \"Date\": \"\",\n",
            "  \"Изделие\": \"\",\n",
            "  \"Название_запроса\": \"\",\n",
            "  \"Номер_запроса\": \"\",\n",
            "  \"Расцеховка\": \"\",\n",
            "  \"Master\": \"\",\n",
            "  \"DSE_Designation\": \"\",\n",
            "  \"Change_in_EKD\": \"\",\n",
            "  \"Номер_чертежа\": \"\",\n",
            "  \"Номер_записки_извещения\": \"\",\n",
            "  \"Content\": \"\",\n",
            "  \"Decision\": \"\",\n",
            "  \"Author\": \"\",\n",
            "  \"Head_of_technical_bureau\": \"\",\n",
            "  \"Head_of_BTK\": \"\",\n",
            "  \"Date_of_Author_Signature\": \"\",\n",
            "  \"Foreman\": \"\",\n",
            "  \"Constructor\": \"\",\n",
            "  \"Team Leader\": \"\",\n",
            "}\n",
            "    \n",
            "\n",
            "- The JSON schema must be followed during the extraction.\n",
            "- The values must only include text found in the document\n",
            "- Do not normalize any entity value.\n",
            "- If an entity is not found in the document, set the entity value to null.\n",
            "\n",
            "\n",
            "-------Extracted Entities--------\n",
            "{'Date': '22.10.15', 'Изделие': '001', 'Название_запроса': 'Запрос\\nпроизводства', 'Номер_запроса': '01\\n208', 'Расцеховка': '01, 40-72.03. опу 4;\\n1\\nر', 'Master': 'Галюк', 'DSE_Designation': 'Φ153-109', 'Change_in_EKD': 'не\\nтребуется', 'Номер_чертежа': '132.00.0630,065.005', 'Номер_записки_извещения': '132.96.01.7203.017', 'Content': 'Выполнен сред буртика Б\\nна участке ~139 мм Лам. эскиз л. 2)', 'Decision': '1. Изготовить накладку Э132.00.06.30.065.005  KOTO-\\nрая будет повторять форму буртика дет. 132.00.6630.065.005\\nсм. эскиз 1.\\n2. Посадить дет. Э132.00.0630,065.005 на герметик\\nВИТЭФ-1НТ. модели 132.00.0630.050.000\\n3. Злускапать демакладных листо в  месту установки\\n4. Деталь подогнать по  присут-\\nствии, конструктора.\\nЭскиз детали 7 132.00.0630.065.005 прилагается.\\nОкантовку 132.00.0630.065.005 допустить в состояни\\n1. Накладка 9132,00,0630.065.005 1 LUT. 22*145 02,01-03\\nЛистт Д 164AT 455. OCT. 216.31-76', 'Author': 'Ткачук', 'Head_of_technical_bureau': 'Баракол', 'Head_of_BTK': 'Иващенка', 'Date_of_Author_Signature': '22.10.15', 'Foreman': 'Паркуша', 'Constructor': 'Витушко', 'Team Leader': 'Шевчук'}\n",
            "\n",
            "File: gs://anton_may/Запит виробництва/Т-01-206.PDF\n",
            "\n",
            "Document Classification: {'category': 'Production request'}\n",
            "-------Prompt--------\n"
          ]
        },
        {
          "output_type": "display_data",
          "data": {
            "text/plain": [
              "<IPython.lib.display.IFrame at 0x7f18d81d2560>"
            ],
            "text/html": [
              "\n",
              "        <iframe\n",
              "            width=\"600\"\n",
              "            height=\"300\"\n",
              "            src=\"https://storage.googleapis.com/anton_may/Запит%20виробництва/Т-01-206.PDF\"\n",
              "            frameborder=\"0\"\n",
              "            allowfullscreen\n",
              "            \n",
              "        ></iframe>\n",
              "        "
            ]
          },
          "metadata": {}
        },
        {
          "output_type": "stream",
          "name": "stdout",
          "text": [
            "You are a document entity extraction specialist. Given a document, your task is to extract the text value of the following entities:\n",
            "\n",
            "\n",
            "{\n",
            "  \"Date\": \"\",\n",
            "  \"Изделие\": \"\",\n",
            "  \"Название_запроса\": \"\",\n",
            "  \"Номер_запроса\": \"\",\n",
            "  \"Расцеховка\": \"\",\n",
            "  \"Master\": \"\",\n",
            "  \"DSE_Designation\": \"\",\n",
            "  \"Change_in_EKD\": \"\",\n",
            "  \"Номер_чертежа\": \"\",\n",
            "  \"Номер_записки_извещения\": \"\",\n",
            "  \"Content\": \"\",\n",
            "  \"Decision\": \"\",\n",
            "  \"Author\": \"\",\n",
            "  \"Head_of_technical_bureau\": \"\",\n",
            "  \"Head_of_BTK\": \"\",\n",
            "  \"Date_of_Author_Signature\": \"\",\n",
            "  \"Foreman\": \"\",\n",
            "  \"Constructor\": \"\",\n",
            "  \"Team Leader\": \"\",\n",
            "}\n",
            "    \n",
            "\n",
            "- The JSON schema must be followed during the extraction.\n",
            "- The values must only include text found in the document\n",
            "- Do not normalize any entity value.\n",
            "- If an entity is not found in the document, set the entity value to null.\n",
            "\n",
            "\n",
            "-------Extracted Entities--------\n",
            "{'Date': '21.10.15.', 'Изделие': '132.96\\n1001.', 'Название_запроса': 'ЗАПРОС\\nПРОИЗВОДСТВА', 'Номер_запроса': '1-206\\n31\\n2.', 'Расцеховка': None, 'Master': None, 'DSE_Designation': '051-35', 'Change_in_EKD': 'требуется', 'Номер_чертежа': '132.00.0907.101,001/002', 'Номер_записки_извещения': '132.96.01.7101047.', 'Content': 'Прошу рассмотреть возможность все\\nДоверхности детали, дивидистантные тка\\nвыполнять плоскими согл. Эсмида', 'Decision': 'Допускается выполнять указанные в содержании\\nповерхности детали\\nплоскими, согласно\\nэккиза 1.', 'Author': 'Абунишии', 'Head_of_technical_bureau': 'и восище', 'Head_of_BTK': 'танца', 'Date_of_Author_Signature': '24-10-85', 'Foreman': 'Огороднийчи', 'Constructor': 'Довгать', 'Team Leader': None}\n"
          ]
        }
      ]
    },
    {
      "cell_type": "markdown",
      "source": [
        " Об'єднання всіх json у один файл total.json (Зручно для подальшої інтеграції із Bigquery)"
      ],
      "metadata": {
        "id": "6R6mgsQg1ggH"
      }
    },
    {
      "cell_type": "code",
      "source": [
        "import json\n",
        "import os\n",
        "\n",
        "def unite_json_files_to_jsonl(input_folder, output_file):\n",
        "    with open(output_file, 'w', encoding='utf-8') as outfile:\n",
        "        for filename in os.listdir(input_folder):\n",
        "            if filename.endswith('.json'):\n",
        "                file_path = os.path.join(input_folder, filename)\n",
        "                try:\n",
        "                    with open(file_path, 'r', encoding='utf-8') as file:\n",
        "                        data = json.load(file)\n",
        "                        # Кожний об'єкт або елемент з data записуємо у новий рядок\n",
        "                        if isinstance(data, list):\n",
        "                            for item in data:\n",
        "                                outfile.write(json.dumps(item, ensure_ascii=False) + '\\n')\n",
        "                        else:\n",
        "                            outfile.write(json.dumps(data, ensure_ascii=False) + '\\n')\n",
        "                except json.JSONDecodeError as e:\n",
        "                    print(f'Помилка декодування JSON у файлі {file_path}: {e}')\n",
        "                except Exception as e:\n",
        "                    print(f'Інша помилка при обробці файлу {file_path}: {e}')\n",
        "\n",
        "    print(f'Дані об\\'єднані у форматі JSONL в файл {output_file}')\n",
        "\n",
        "# Вкажи шлях до папки з файлами JSON та ім'я вихідного файлу\n",
        "input_folder = '.'\n",
        "output_file = 'total.json'\n",
        "\n",
        "unite_json_files_to_jsonl(input_folder, output_file)"
      ],
      "metadata": {
        "colab": {
          "base_uri": "https://localhost:8080/"
        },
        "id": "VnWC8d0F1fjf",
        "outputId": "b1779671-1d29-40aa-8195-98c8ae02f8e5"
      },
      "execution_count": 24,
      "outputs": [
        {
          "output_type": "stream",
          "name": "stdout",
          "text": [
            "Помилка декодування JSON у файлі ./total.json: Extra data: line 2 column 1 (char 1189)\n",
            "Дані об'єднані у форматі JSONL в файл total.json\n"
          ]
        }
      ]
    },
    {
      "cell_type": "markdown",
      "metadata": {
        "id": "dtve2ZIJ3rYh"
      },
      "source": [
        "## Document Question Answering\n",
        "\n",
        "Gemini can be used to answer questions about a document.\n",
        "\n",
        "This example answers a question about eligibility for the Family and Medical Leave Act (FMLA)."
      ]
    },
    {
      "cell_type": "code",
      "execution_count": null,
      "metadata": {
        "id": "TZzgay2p3rYi"
      },
      "outputs": [],
      "source": [
        "qa_prompt = \"\"\"Today is December 31, 2023. Arthur started at the company on April 1, 2023, and he works 40 hours a week. Is Arthur eligible for FMLA? Give me the answer first, followed by an explanation.\"\"\""
      ]
    },
    {
      "cell_type": "code",
      "execution_count": null,
      "metadata": {
        "id": "BMH3dVvP3rYi"
      },
      "outputs": [],
      "source": [
        "# Send Q&A Prompt to Gemini\n",
        "response_text = process_document(\n",
        "    qa_prompt,\n",
        "    \"gs://cloud-samples-data/generative-ai/pdf/family and_medical_leave_act.pdf\",\n",
        ")\n",
        "\n",
        "print(f\"Answer: {response_text}\")"
      ]
    },
    {
      "cell_type": "markdown",
      "metadata": {
        "id": "JrkcHsM43rYi"
      },
      "source": [
        "## Document Summarization\n",
        "\n",
        "Gemini can also be used to summarize or paraphrase a document's contents. Your prompt can specify how detailed the summary should be or specific formatting, such as bullet points or paragraphs."
      ]
    },
    {
      "cell_type": "code",
      "execution_count": null,
      "metadata": {
        "id": "VwV6iMN03rYj"
      },
      "outputs": [],
      "source": [
        "summarization_prompt = \"\"\"You are a very professional document summarization specialist. Given a document, your task is to provide a detailed summary of the content of the document.\n",
        "\n",
        "If it includes images, provide descriptions of the images.\n",
        "If it includes tables, extract all elements of the tables.\n",
        "If it includes graphs, explain the findings in the graphs.\n",
        "Do not include any numbers that are not mentioned in the document.\n",
        "\"\"\""
      ]
    },
    {
      "cell_type": "code",
      "execution_count": null,
      "metadata": {
        "id": "KC4Y1nY-3rYj"
      },
      "outputs": [],
      "source": [
        "# Send Summarization Prompt to Gemini\n",
        "response_text = process_document(\n",
        "    summarization_prompt,\n",
        "    \"gs://cloud-samples-data/generative-ai/pdf/fdic_board_meeting.pdf\",\n",
        ")\n",
        "\n",
        "print(f\"Summarization: {response_text}\")"
      ]
    },
    {
      "cell_type": "markdown",
      "metadata": {
        "id": "rKh-mpGZ3rYk"
      },
      "source": [
        "## Table parsing from documents\n",
        "\n",
        "Gemini can parse contents of a table and return it in a structured format, such as HTML or markdown."
      ]
    },
    {
      "cell_type": "code",
      "execution_count": null,
      "metadata": {
        "id": "cXoovTyt3rYk"
      },
      "outputs": [],
      "source": [
        "table_extraction_prompt = \"\"\"What is the html code of the table in this document?\"\"\""
      ]
    },
    {
      "cell_type": "code",
      "execution_count": null,
      "metadata": {
        "id": "MMP_MvSG3rYk"
      },
      "outputs": [],
      "source": [
        "# Send Table Extraction Prompt to Gemini\n",
        "response_text = process_document(\n",
        "    table_extraction_prompt,\n",
        "    \"gs://cloud-samples-data/generative-ai/pdf/salary_table.pdf\",\n",
        ")\n",
        "\n",
        "print(response_text)"
      ]
    },
    {
      "cell_type": "markdown",
      "metadata": {
        "id": "S8LAo2ap3rYk"
      },
      "source": [
        "## Document Translation\n",
        "\n",
        "Gemini can translate documents between languages. This example translates meeting notes from English into French and Spanish."
      ]
    },
    {
      "cell_type": "code",
      "execution_count": null,
      "metadata": {
        "id": "KRU_UbeQ3rYk"
      },
      "outputs": [],
      "source": [
        "translation_prompt = \"\"\"Translate the first paragraph into French and Spanish. Label each paragraph with the target language.\"\"\""
      ]
    },
    {
      "cell_type": "code",
      "execution_count": null,
      "metadata": {
        "id": "zKW9KgPf3rYk"
      },
      "outputs": [],
      "source": [
        "# Send Translation Prompt to Gemini\n",
        "response_text = process_document(\n",
        "    translation_prompt,\n",
        "    \"gs://cloud-samples-data/generative-ai/pdf/fdic_board_meeting.pdf\",\n",
        ")\n",
        "\n",
        "print(response_text)"
      ]
    },
    {
      "cell_type": "markdown",
      "metadata": {
        "id": "u17op97D3rYk"
      },
      "source": [
        "## Document Comparsion\n",
        "\n",
        "Gemini can compare and contrast the contents of multiple documents. This example finds the changes in the IRS Form 1040 between 2013 and 2023.\n",
        "\n",
        "Note: when working with multiple documents, the order can matter and should be specified in your prompt."
      ]
    },
    {
      "cell_type": "code",
      "execution_count": null,
      "metadata": {
        "id": "yXnQMIAB3rYk"
      },
      "outputs": [],
      "source": [
        "comparsion_prompt = \"\"\"The first document is from 2013, the second one from 2023. How did the standard deduction evolve?\"\"\""
      ]
    },
    {
      "cell_type": "code",
      "execution_count": null,
      "metadata": {
        "id": "sgjh36943rYl"
      },
      "outputs": [],
      "source": [
        "# Send Comparsion Prompt to Gemini\n",
        "file_part1 = Part.from_uri(\n",
        "    uri=\"gs://cloud-samples-data/generative-ai/pdf/form_1040_2013.pdf\",\n",
        "    mime_type=\"application/pdf\",\n",
        ")\n",
        "\n",
        "file_part2 = Part.from_uri(\n",
        "    uri=\"gs://cloud-samples-data/generative-ai/pdf/form_1040_2023.pdf\",\n",
        "    mime_type=\"application/pdf\",\n",
        ")\n",
        "\n",
        "# Load contents\n",
        "contents = [file_part1, file_part2, comparsion_prompt]\n",
        "\n",
        "# Send to Gemini\n",
        "response = model.generate_content(\n",
        "    contents, generation_config=generation_config, safety_settings=safety_settings\n",
        ")\n",
        "\n",
        "print(\"-------Prompt--------\")\n",
        "print_multimodal_prompt(contents)\n",
        "\n",
        "print(\"-------Output--------\")\n",
        "print(response.text)"
      ]
    }
  ],
  "metadata": {
    "colab": {
      "provenance": [],
      "include_colab_link": true
    },
    "environment": {
      "kernel": "conda-root-py",
      "name": "workbench-notebooks.m115",
      "type": "gcloud",
      "uri": "gcr.io/deeplearning-platform-release/workbench-notebooks:m115"
    },
    "kernelspec": {
      "display_name": "Python 3",
      "language": "python",
      "name": "python3"
    },
    "language_info": {
      "codemirror_mode": {
        "name": "ipython",
        "version": 3
      },
      "file_extension": ".py",
      "mimetype": "text/x-python",
      "name": "python",
      "nbconvert_exporter": "python",
      "pygments_lexer": "ipython3",
      "version": "3.11.0"
    }
  },
  "nbformat": 4,
  "nbformat_minor": 0
}